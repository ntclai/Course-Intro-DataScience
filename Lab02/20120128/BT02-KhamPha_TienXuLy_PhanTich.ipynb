{
 "cells": [
  {
   "cell_type": "markdown",
   "metadata": {},
   "source": [
    "# Lab 02: Khám phá dữ liệu, tiền xử lý, và phân tích thống kê\n",
    "\n",
    "**Thông tin liên lạc HDTH**\n",
    "\n",
    "Lab Instructor: Lê Nhựt Nam (CN.)\n",
    "\n",
    "Email: lenam.fithcmus@gmail.com\n",
    "\n",
    "**Thông tin sinh viên**\n",
    "\n",
    "Họ tên sinh viên: Nguyễn Thị Cẩm Lai\n",
    "\n",
    "Mã số sinh viên: 20120128"
   ]
  },
  {
   "cell_type": "markdown",
   "metadata": {},
   "source": [
    "## Cách làm bài và nộp bài\n",
    "\n",
    "&#9889; Bạn lưu ý là mình sẽ dùng chương trình hỗ trợ chấm bài nên bạn cần phải tuân thủ chính xác qui định mà mình đặt ra, nếu không rõ thì hỏi, chứ không nên tự tiện làm theo ý của cá nhân.\n",
    "\n",
    "### Cách làm bài\n",
    "\n",
    "Bạn sẽ làm trực tiếp trên file notebook này. Đầu tiên, bạn điền họ tên và MSSV vào phần đầu file ở bên trên. Trong file, bạn làm bài ở những chỗ có ghi là:\n",
    "```python\n",
    "# YOUR CODE HERE\n",
    "raise NotImplementedError()\n",
    "```\n",
    "hoặc đối với những phần code không bắt buộc thì là:\n",
    "```python\n",
    "# YOUR CODE HERE (OPTION)\n",
    "```\n",
    "hoặc đối với markdown cell thì là:\n",
    "```markdown\n",
    "YOUR ANSWER HERE\n",
    "```\n",
    "Tất nhiên, khi làm thì bạn xóa dòng `raise NotImplementedError()` đi.\n",
    "Đối những phần yêu cầu code thì thường ở ngay phía dưới sẽ có một (hoặc một số) cell chứa các bộ test để giúp bạn biết đã code đúng hay chưa; nếu chạy cell này không có lỗi gì thì có nghĩa là qua được các bộ test. Trong một số trường hợp, các bộ test có thể sẽ không đầy đủ; nghĩa là, nếu không qua được test thì là code sai, nhưng nếu qua được test thì chưa chắc đã đúng.\n",
    "\n",
    "Trong khi làm bài, bạn có thể cho in ra màn hình, tạo thêm các cell để test. Nhưng khi nộp bài thì bạn xóa các cell mà bạn tự tạo, xóa hoặc comment các câu lệnh in ra màn hình. Bạn lưu ý <font color=red>không được tự tiện xóa các cell hay sửa code của Lab Instructor</font> (trừ những chỗ được phép sửa như đã nói ở trên).\n",
    "\n",
    "Trong khi làm bài, thường xuyên `Ctrl + S` để lưu lại bài làm của bạn, tránh mất mát thông tin.\n",
    "\n",
    "\n",
    "*Nên nhớ mục tiêu chính ở đây là <font color=green>học, học một cách chân thật</font>. Bạn có thể thảo luận ý tưởng với bạn khác, nhưng <font color=green>code và bài làm phải là của bạn, dựa trên sự hiểu thật sự của bạn</font>. <font color=red>Nếu vi phạm thì sẽ bị 0 điểm cho toàn bộ môn học.</font>*\n",
    "\n",
    "\n",
    "### Cách nộp bài\n",
    "\n",
    "Khi chấm bài, đầu tiên mình sẽ chọn `Kernel` - `Restart & Run All`, để restart và chạy tất cả các cell trong notebook của bạn; do đó, trước khi nộp bài, bạn nên chạy thử `Kernel` - `Restart & Run All` để đảm bảo mọi chuyện diễn ra đúng như mong đợi.\n",
    "\n",
    "Sau đó, bạn tạo thư mục nộp bài theo cấu trúc sau:\n",
    "- Thư mục `MSSV` (vd, nếu bạn có MSSV là 1234567 thì bạn đặt tên thư mục là `1234567`)\n",
    "    - File `BT02-KhamPha_TienXuLy_PhanTich.ipynb` (không cần nộp các file khác)\n",
    "\n",
    "Cuối cùng, bạn nén thư mục `MSSV` này lại với định dạng `.zip` và nộp ở link trên moodle. <font color=red>Bạn lưu ý tuân thủ chính xác cấu trúc và định dạng tập tin nộp bài này.</font>"
   ]
  },
  {
   "cell_type": "markdown",
   "metadata": {},
   "source": [
    "## Import những thư viện cần thiết"
   ]
  },
  {
   "cell_type": "code",
   "execution_count": 1,
   "metadata": {},
   "outputs": [],
   "source": [
    "%matplotlib inline\n",
    "import matplotlib.pyplot as plt\n",
    "import numpy as np\n",
    "import pandas as pd \n",
    "\n",
    "# YOUR CODE HERE (OPTION)\n",
    "# Nếu cần các thư viện khác thì bạn có thể import ở đây\n",
    "import functools"
   ]
  },
  {
   "cell_type": "code",
   "execution_count": 2,
   "metadata": {},
   "outputs": [
    {
     "data": {
      "text/plain": [
       "'C:\\\\Users\\\\FPT SHOP\\\\AppData\\\\Local\\\\Programs\\\\Python\\\\Python310\\\\python.exe'"
      ]
     },
     "execution_count": 2,
     "metadata": {},
     "output_type": "execute_result"
    }
   ],
   "source": [
    "import sys\n",
    "sys.executable"
   ]
  },
  {
   "cell_type": "markdown",
   "metadata": {},
   "source": [
    "## Thu thập dữ liệu\n",
    "\n",
    "Dữ liệu được sử dụng trong bài tập này là dữ liệu khảo sát các lập trình viên của trang StackOverflow.\n",
    "\n",
    "Theo mô tả trong file \"README_2022.txt\" của StackOverflow:\n",
    "\n",
    "> The enclosed data set is the complete, cleaned results of the 2022 Stack Overflow Developer Survey. Free response submissions and personally-identifying information have been removed from the results to protect the privacy of respondents. There are three files besides this README:\n",
    "> \n",
    "> 1. survey_results_public.csv - CSV file with main survey results, one respondent per row and one column per answer\n",
    "> 2. survey_results_schema.csv - CSV file with survey schema, i.e., the questions that correspond to each column name\n",
    "> 3. so_survey_2022.pdf - PDF file of the survey instrument\n",
    "> The survey was fielded from May 11, 2022 to June 1, 2022. The median time spent on the survey for qualified responses was 15.08 minutes.\n",
    "> \n",
    "> Respondents were recruited primarily through channels owned by Stack Overflow. The top 5 sources of respondents were onsite messaging, blog posts, email lists, Meta posts, banner ads, and social media posts. Since respondents were recruited in this way, highly engaged users on Stack Overflow were more likely to notice the links for the survey and click to begin it.\n",
    "\n",
    "Để ý: \n",
    "- Dữ liệu này không đại diện được cho cộng đồng lập trình viên trên toàn thế giới, mà chỉ giới hạn trong tập những lập trình viên thực hiện khảo sát của StackOverflow. Những câu trả lời có được thông qua tập dữ liệu này cũng sẽ bị giới hạn trong phạm vi đó.\n",
    "- Dữ liệu có đúng không? Về cơ bản là ta không biết được. Ở đây, mục đích chính là học qui trình Khoa Học Dữ Liệu và các câu lệnh của Pandas nên ta sẽ **giả định** phần lớn dữ liệu là đúng và tiếp tục làm.\n",
    "\n",
    "Cũng theo file \"README_2022.txt\", dữ liệu này được StackOverflow public với license như sau:\n",
    "\n",
    "> This database - The Public 2022 Stack Overflow Developer Survey Results - is made available under the Open Database License (ODbL): http://opendatacommons.org/licenses/odbl/1.0/. Any rights in individual contents of the database are licensed under the Database Contents License: http://opendatacommons.org/licenses/dbcl/1.0/\n",
    "> \n",
    "> TLDR: You are free to share, adapt, and create derivative works from The Public 2022 Stack Overflow Developer Survey Results as long as you attribute Stack Overflow, keep the database open (if you redistribute it), and continue to share-alike any adapted database under the ODbl.\n",
    "\n",
    "Trong phần Acknowledgment:\n",
    "\n",
    "> Massive, heartfelt thanks to all Stack Overflow contributors and lurking developers of the world who took part in the survey this year. We value your generous participation more than you know. <3\n"
   ]
  },
  {
   "cell_type": "markdown",
   "metadata": {},
   "source": [
    "## Khám phá dữ liệu\n",
    "\n",
    "Thư mục HW2 sẽ được tổ chức như sau: "
   ]
  },
  {
   "cell_type": "code",
   "execution_count": 3,
   "metadata": {},
   "outputs": [
    {
     "name": "stdout",
     "output_type": "stream",
     "text": [
      "Folder PATH listing for volume OS\n",
      "Volume serial number is D4F8-0D51\n",
      "C:.\n",
      "ÃÄÄÄ.ipynb_checkpoints\n",
      "ÀÄÄÄdata\n",
      "    ÃÄÄÄ2020\n",
      "    ³   ÀÄÄÄ.ipynb_checkpoints\n",
      "    ÃÄÄÄ2021\n",
      "    ³   ÀÄÄÄ.ipynb_checkpoints\n",
      "    ÀÄÄÄ2022\n",
      "        ÀÄÄÄ.ipynb_checkpoints\n"
     ]
    }
   ],
   "source": [
    "!tree"
   ]
  },
  {
   "cell_type": "markdown",
   "metadata": {},
   "source": [
    "### Đọc dữ liệu từ tập tin (file) - Điểm: (0.25đ)\n",
    "\n",
    "Đầu tiên, bạn viết code để đọc dữ liệu từ file \"survey_results_public.csv\" và lưu kết quả vào DataFrame survey_df. Ngoài ra, bạn cũng cần cho cột ResponseId (id của người làm khảo sát) làm cột index của survey_df."
   ]
  },
  {
   "cell_type": "code",
   "execution_count": 4,
   "metadata": {},
   "outputs": [],
   "source": [
    "# YOUR CODE HERE\n",
    "survey_df=pd.read_csv(f'./data/2022/survey_results_public.csv').set_index('ResponseId')"
   ]
  },
  {
   "cell_type": "code",
   "execution_count": 5,
   "metadata": {},
   "outputs": [
    {
     "data": {
      "text/html": [
       "<div>\n",
       "<style scoped>\n",
       "    .dataframe tbody tr th:only-of-type {\n",
       "        vertical-align: middle;\n",
       "    }\n",
       "\n",
       "    .dataframe tbody tr th {\n",
       "        vertical-align: top;\n",
       "    }\n",
       "\n",
       "    .dataframe thead th {\n",
       "        text-align: right;\n",
       "    }\n",
       "</style>\n",
       "<table border=\"1\" class=\"dataframe\">\n",
       "  <thead>\n",
       "    <tr style=\"text-align: right;\">\n",
       "      <th></th>\n",
       "      <th>MainBranch</th>\n",
       "      <th>Employment</th>\n",
       "      <th>RemoteWork</th>\n",
       "      <th>CodingActivities</th>\n",
       "      <th>EdLevel</th>\n",
       "      <th>LearnCode</th>\n",
       "      <th>LearnCodeOnline</th>\n",
       "      <th>LearnCodeCoursesCert</th>\n",
       "      <th>YearsCode</th>\n",
       "      <th>YearsCodePro</th>\n",
       "      <th>...</th>\n",
       "      <th>TimeSearching</th>\n",
       "      <th>TimeAnswering</th>\n",
       "      <th>Onboarding</th>\n",
       "      <th>ProfessionalTech</th>\n",
       "      <th>TrueFalse_1</th>\n",
       "      <th>TrueFalse_2</th>\n",
       "      <th>TrueFalse_3</th>\n",
       "      <th>SurveyLength</th>\n",
       "      <th>SurveyEase</th>\n",
       "      <th>ConvertedCompYearly</th>\n",
       "    </tr>\n",
       "    <tr>\n",
       "      <th>ResponseId</th>\n",
       "      <th></th>\n",
       "      <th></th>\n",
       "      <th></th>\n",
       "      <th></th>\n",
       "      <th></th>\n",
       "      <th></th>\n",
       "      <th></th>\n",
       "      <th></th>\n",
       "      <th></th>\n",
       "      <th></th>\n",
       "      <th></th>\n",
       "      <th></th>\n",
       "      <th></th>\n",
       "      <th></th>\n",
       "      <th></th>\n",
       "      <th></th>\n",
       "      <th></th>\n",
       "      <th></th>\n",
       "      <th></th>\n",
       "      <th></th>\n",
       "      <th></th>\n",
       "    </tr>\n",
       "  </thead>\n",
       "  <tbody>\n",
       "    <tr>\n",
       "      <th>1</th>\n",
       "      <td>None of these</td>\n",
       "      <td>NaN</td>\n",
       "      <td>NaN</td>\n",
       "      <td>NaN</td>\n",
       "      <td>NaN</td>\n",
       "      <td>NaN</td>\n",
       "      <td>NaN</td>\n",
       "      <td>NaN</td>\n",
       "      <td>NaN</td>\n",
       "      <td>NaN</td>\n",
       "      <td>...</td>\n",
       "      <td>NaN</td>\n",
       "      <td>NaN</td>\n",
       "      <td>NaN</td>\n",
       "      <td>NaN</td>\n",
       "      <td>NaN</td>\n",
       "      <td>NaN</td>\n",
       "      <td>NaN</td>\n",
       "      <td>NaN</td>\n",
       "      <td>NaN</td>\n",
       "      <td>NaN</td>\n",
       "    </tr>\n",
       "    <tr>\n",
       "      <th>2</th>\n",
       "      <td>I am a developer by profession</td>\n",
       "      <td>Employed, full-time</td>\n",
       "      <td>Fully remote</td>\n",
       "      <td>Hobby;Contribute to open-source projects</td>\n",
       "      <td>NaN</td>\n",
       "      <td>NaN</td>\n",
       "      <td>NaN</td>\n",
       "      <td>NaN</td>\n",
       "      <td>NaN</td>\n",
       "      <td>NaN</td>\n",
       "      <td>...</td>\n",
       "      <td>NaN</td>\n",
       "      <td>NaN</td>\n",
       "      <td>NaN</td>\n",
       "      <td>NaN</td>\n",
       "      <td>NaN</td>\n",
       "      <td>NaN</td>\n",
       "      <td>NaN</td>\n",
       "      <td>Too long</td>\n",
       "      <td>Difficult</td>\n",
       "      <td>NaN</td>\n",
       "    </tr>\n",
       "    <tr>\n",
       "      <th>3</th>\n",
       "      <td>I am not primarily a developer, but I write co...</td>\n",
       "      <td>Employed, full-time</td>\n",
       "      <td>Hybrid (some remote, some in-person)</td>\n",
       "      <td>Hobby</td>\n",
       "      <td>Master’s degree (M.A., M.S., M.Eng., MBA, etc.)</td>\n",
       "      <td>Books / Physical media;Friend or family member...</td>\n",
       "      <td>Technical documentation;Blogs;Programming Game...</td>\n",
       "      <td>NaN</td>\n",
       "      <td>14</td>\n",
       "      <td>5</td>\n",
       "      <td>...</td>\n",
       "      <td>NaN</td>\n",
       "      <td>NaN</td>\n",
       "      <td>NaN</td>\n",
       "      <td>NaN</td>\n",
       "      <td>NaN</td>\n",
       "      <td>NaN</td>\n",
       "      <td>NaN</td>\n",
       "      <td>Appropriate in length</td>\n",
       "      <td>Neither easy nor difficult</td>\n",
       "      <td>40205.0</td>\n",
       "    </tr>\n",
       "    <tr>\n",
       "      <th>4</th>\n",
       "      <td>I am a developer by profession</td>\n",
       "      <td>Employed, full-time</td>\n",
       "      <td>Fully remote</td>\n",
       "      <td>I don’t code outside of work</td>\n",
       "      <td>Bachelor’s degree (B.A., B.S., B.Eng., etc.)</td>\n",
       "      <td>Books / Physical media;School (i.e., Universit...</td>\n",
       "      <td>NaN</td>\n",
       "      <td>NaN</td>\n",
       "      <td>20</td>\n",
       "      <td>17</td>\n",
       "      <td>...</td>\n",
       "      <td>NaN</td>\n",
       "      <td>NaN</td>\n",
       "      <td>NaN</td>\n",
       "      <td>NaN</td>\n",
       "      <td>NaN</td>\n",
       "      <td>NaN</td>\n",
       "      <td>NaN</td>\n",
       "      <td>Appropriate in length</td>\n",
       "      <td>Easy</td>\n",
       "      <td>215232.0</td>\n",
       "    </tr>\n",
       "    <tr>\n",
       "      <th>5</th>\n",
       "      <td>I am a developer by profession</td>\n",
       "      <td>Employed, full-time</td>\n",
       "      <td>Hybrid (some remote, some in-person)</td>\n",
       "      <td>Hobby</td>\n",
       "      <td>Bachelor’s degree (B.A., B.S., B.Eng., etc.)</td>\n",
       "      <td>Other online resources (e.g., videos, blogs, f...</td>\n",
       "      <td>Technical documentation;Blogs;Stack Overflow;O...</td>\n",
       "      <td>NaN</td>\n",
       "      <td>8</td>\n",
       "      <td>3</td>\n",
       "      <td>...</td>\n",
       "      <td>NaN</td>\n",
       "      <td>NaN</td>\n",
       "      <td>NaN</td>\n",
       "      <td>NaN</td>\n",
       "      <td>NaN</td>\n",
       "      <td>NaN</td>\n",
       "      <td>NaN</td>\n",
       "      <td>Too long</td>\n",
       "      <td>Easy</td>\n",
       "      <td>NaN</td>\n",
       "    </tr>\n",
       "  </tbody>\n",
       "</table>\n",
       "<p>5 rows × 78 columns</p>\n",
       "</div>"
      ],
      "text/plain": [
       "                                                   MainBranch  \\\n",
       "ResponseId                                                      \n",
       "1                                               None of these   \n",
       "2                              I am a developer by profession   \n",
       "3           I am not primarily a developer, but I write co...   \n",
       "4                              I am a developer by profession   \n",
       "5                              I am a developer by profession   \n",
       "\n",
       "                     Employment                            RemoteWork  \\\n",
       "ResponseId                                                              \n",
       "1                           NaN                                   NaN   \n",
       "2           Employed, full-time                          Fully remote   \n",
       "3           Employed, full-time  Hybrid (some remote, some in-person)   \n",
       "4           Employed, full-time                          Fully remote   \n",
       "5           Employed, full-time  Hybrid (some remote, some in-person)   \n",
       "\n",
       "                                    CodingActivities  \\\n",
       "ResponseId                                             \n",
       "1                                                NaN   \n",
       "2           Hobby;Contribute to open-source projects   \n",
       "3                                              Hobby   \n",
       "4                       I don’t code outside of work   \n",
       "5                                              Hobby   \n",
       "\n",
       "                                                    EdLevel  \\\n",
       "ResponseId                                                    \n",
       "1                                                       NaN   \n",
       "2                                                       NaN   \n",
       "3           Master’s degree (M.A., M.S., M.Eng., MBA, etc.)   \n",
       "4              Bachelor’s degree (B.A., B.S., B.Eng., etc.)   \n",
       "5              Bachelor’s degree (B.A., B.S., B.Eng., etc.)   \n",
       "\n",
       "                                                    LearnCode  \\\n",
       "ResponseId                                                      \n",
       "1                                                         NaN   \n",
       "2                                                         NaN   \n",
       "3           Books / Physical media;Friend or family member...   \n",
       "4           Books / Physical media;School (i.e., Universit...   \n",
       "5           Other online resources (e.g., videos, blogs, f...   \n",
       "\n",
       "                                              LearnCodeOnline  \\\n",
       "ResponseId                                                      \n",
       "1                                                         NaN   \n",
       "2                                                         NaN   \n",
       "3           Technical documentation;Blogs;Programming Game...   \n",
       "4                                                         NaN   \n",
       "5           Technical documentation;Blogs;Stack Overflow;O...   \n",
       "\n",
       "           LearnCodeCoursesCert YearsCode YearsCodePro  ... TimeSearching  \\\n",
       "ResponseId                                              ...                 \n",
       "1                           NaN       NaN          NaN  ...           NaN   \n",
       "2                           NaN       NaN          NaN  ...           NaN   \n",
       "3                           NaN        14            5  ...           NaN   \n",
       "4                           NaN        20           17  ...           NaN   \n",
       "5                           NaN         8            3  ...           NaN   \n",
       "\n",
       "           TimeAnswering Onboarding ProfessionalTech TrueFalse_1 TrueFalse_2  \\\n",
       "ResponseId                                                                     \n",
       "1                    NaN        NaN              NaN         NaN         NaN   \n",
       "2                    NaN        NaN              NaN         NaN         NaN   \n",
       "3                    NaN        NaN              NaN         NaN         NaN   \n",
       "4                    NaN        NaN              NaN         NaN         NaN   \n",
       "5                    NaN        NaN              NaN         NaN         NaN   \n",
       "\n",
       "            TrueFalse_3           SurveyLength                  SurveyEase  \\\n",
       "ResponseId                                                                   \n",
       "1                   NaN                    NaN                         NaN   \n",
       "2                   NaN               Too long                   Difficult   \n",
       "3                   NaN  Appropriate in length  Neither easy nor difficult   \n",
       "4                   NaN  Appropriate in length                        Easy   \n",
       "5                   NaN               Too long                        Easy   \n",
       "\n",
       "           ConvertedCompYearly  \n",
       "ResponseId                      \n",
       "1                          NaN  \n",
       "2                          NaN  \n",
       "3                      40205.0  \n",
       "4                     215232.0  \n",
       "5                          NaN  \n",
       "\n",
       "[5 rows x 78 columns]"
      ]
     },
     "execution_count": 5,
     "metadata": {},
     "output_type": "execute_result"
    }
   ],
   "source": [
    "# TEST\n",
    "survey_df.head()"
   ]
  },
  {
   "cell_type": "markdown",
   "metadata": {},
   "source": [
    "### Dữ liệu có bao nhiêu dòng và bao nhiêu cột? - Điểm: (0.25đ)\n",
    "\n",
    "Kế đến, bạn tính số dòng và số cột của DataFrame `survey_df` và lưu vào biến `shape` (tuple). "
   ]
  },
  {
   "cell_type": "code",
   "execution_count": 6,
   "metadata": {},
   "outputs": [],
   "source": [
    "rows=survey_df.shape[0]\n",
    "cols=survey_df.shape[1]\n",
    "shape=(rows, cols)"
   ]
  },
  {
   "cell_type": "code",
   "execution_count": 7,
   "metadata": {},
   "outputs": [],
   "source": [
    "# TEST\n",
    "assert shape == (73268, 78)"
   ]
  },
  {
   "cell_type": "markdown",
   "metadata": {},
   "source": [
    "### Mỗi dòng có ý nghĩa gì? Có vấn đề các dòng có ý nghĩa khác nhau không?\n",
    "\n",
    "Theo file \"README_2021.txt\" cũng như theo quan sát sơ bộ về dữ liệu, mỗi dòng trong DataFrame `survey_df` cho biết kết quả làm khảo sát của một người. Có vẻ không có vấn đề các dòng có ý nghĩa khác nhau (lúc sau, nếu phát hiện ra vấn đề thì ta sẽ quay lại đây). "
   ]
  },
  {
   "cell_type": "markdown",
   "metadata": {},
   "source": [
    "### Dữ liệu có các dòng bị lặp không? - Điểm: (0.25đ)\n",
    "\n",
    "Kế đến, bạn tính số dòng có index (id của người làm khảo sát) bị lặp và lưu vào biến `num_duplicated_rows`. Trong nhóm các dòng có index giống nhau thì dòng đầu tiên không tính là bị lặp."
   ]
  },
  {
   "cell_type": "code",
   "execution_count": 8,
   "metadata": {},
   "outputs": [],
   "source": [
    "# YOUR CODE HERE\n",
    "index=list(survey_df.index)\n",
    "num_duplicated_rows=len(index)-len(set(index))"
   ]
  },
  {
   "cell_type": "code",
   "execution_count": 9,
   "metadata": {},
   "outputs": [],
   "source": [
    "# TEST\n",
    "assert num_duplicated_rows == 0"
   ]
  },
  {
   "cell_type": "markdown",
   "metadata": {},
   "source": [
    "### Mỗi cột có ý nghĩa gì? - Điểm: (0.25đ)\n",
    "\n",
    "Để xem ý nghĩa của mỗi cột thì:\n",
    "- Trước tiên, bạn cần đọc file \"survey_results_schema.csv\" vào DataFrame `col_meaning_df`; bạn cần chọn hai cột hai la \"qname\" và \"question\"; bạn cũng cần cho cột \"qname\" làm cột index và cột \"question\" làm giá trị\n",
    "- Sau đó, bạn chỉ cần hiển thị DataFrame `col_meaning_df` ra để xem (vụ này khó nên ở dưới mình đã làm cho bạn ở cell có dòng \"# TEST\" 😉). Tuy nhiên, bạn sẽ thấy ở cột \"QuestionText\": các chuỗi mô tả bị cắt do quá dài. Do đó, trước khi hiển thị DataFrame `col_meaning_df`, bạn cũng cần chỉnh sao đó để các chuỗi mô tả không bị cắt (vụ này bạn tự search Google, gợi ý: bạn sẽ dùng đến câu lệnh `pd.set_option`).   "
   ]
  },
  {
   "cell_type": "code",
   "execution_count": 10,
   "metadata": {},
   "outputs": [
    {
     "data": {
      "text/plain": [
       "Index(['MainBranch', 'Employment', 'RemoteWork', 'CodingActivities', 'EdLevel',\n",
       "       'LearnCode', 'LearnCodeOnline', 'LearnCodeCoursesCert', 'YearsCode',\n",
       "       'YearsCodePro', 'DevType', 'OrgSize', 'PurchaseInfluence', 'BuyNewTool',\n",
       "       'Country', 'Currency', 'CompTotal', 'CompFreq',\n",
       "       'LanguageHaveWorkedWith', 'LanguageWantToWorkWith',\n",
       "       'DatabaseHaveWorkedWith', 'DatabaseWantToWorkWith',\n",
       "       'PlatformHaveWorkedWith', 'PlatformWantToWorkWith',\n",
       "       'WebframeHaveWorkedWith', 'WebframeWantToWorkWith',\n",
       "       'MiscTechHaveWorkedWith', 'MiscTechWantToWorkWith',\n",
       "       'ToolsTechHaveWorkedWith', 'ToolsTechWantToWorkWith',\n",
       "       'NEWCollabToolsHaveWorkedWith', 'NEWCollabToolsWantToWorkWith',\n",
       "       'OpSysProfessional use', 'OpSysPersonal use', 'VersionControlSystem',\n",
       "       'VCInteraction', 'VCHostingPersonal use', 'VCHostingProfessional use',\n",
       "       'OfficeStackAsyncHaveWorkedWith', 'OfficeStackAsyncWantToWorkWith',\n",
       "       'OfficeStackSyncHaveWorkedWith', 'OfficeStackSyncWantToWorkWith',\n",
       "       'Blockchain', 'NEWSOSites', 'SOVisitFreq', 'SOAccount', 'SOPartFreq',\n",
       "       'SOComm', 'Age', 'Gender', 'Trans', 'Sexuality', 'Ethnicity',\n",
       "       'Accessibility', 'MentalHealth', 'TBranch', 'ICorPM', 'WorkExp',\n",
       "       'Knowledge_1', 'Knowledge_2', 'Knowledge_3', 'Knowledge_4',\n",
       "       'Knowledge_5', 'Knowledge_6', 'Knowledge_7', 'Frequency_1',\n",
       "       'Frequency_2', 'Frequency_3', 'TimeSearching', 'TimeAnswering',\n",
       "       'Onboarding', 'ProfessionalTech', 'TrueFalse_1', 'TrueFalse_2',\n",
       "       'TrueFalse_3', 'SurveyLength', 'SurveyEase', 'ConvertedCompYearly'],\n",
       "      dtype='object')"
      ]
     },
     "execution_count": 10,
     "metadata": {},
     "output_type": "execute_result"
    }
   ],
   "source": [
    "survey_df.columns"
   ]
  },
  {
   "cell_type": "code",
   "execution_count": 11,
   "metadata": {},
   "outputs": [],
   "source": [
    "# YOUR CODE HERE\n",
    "col_list=[\"qname\",\"question\"]\n",
    "col_meaning_df=pd.read_csv(f'./data/2022/survey_results_schema.csv', usecols=col_list).set_index('qname')"
   ]
  },
  {
   "cell_type": "code",
   "execution_count": 12,
   "metadata": {},
   "outputs": [
    {
     "data": {
      "text/html": [
       "<div>\n",
       "<style scoped>\n",
       "    .dataframe tbody tr th:only-of-type {\n",
       "        vertical-align: middle;\n",
       "    }\n",
       "\n",
       "    .dataframe tbody tr th {\n",
       "        vertical-align: top;\n",
       "    }\n",
       "\n",
       "    .dataframe thead th {\n",
       "        text-align: right;\n",
       "    }\n",
       "</style>\n",
       "<table border=\"1\" class=\"dataframe\">\n",
       "  <thead>\n",
       "    <tr style=\"text-align: right;\">\n",
       "      <th></th>\n",
       "      <th>question</th>\n",
       "    </tr>\n",
       "    <tr>\n",
       "      <th>qname</th>\n",
       "      <th></th>\n",
       "    </tr>\n",
       "  </thead>\n",
       "  <tbody>\n",
       "    <tr>\n",
       "      <th>S1</th>\n",
       "      <td>&lt;span style=\"font-size:22px; font-family: aria...</td>\n",
       "    </tr>\n",
       "    <tr>\n",
       "      <th>MainBranch</th>\n",
       "      <td>Which of the following options best describes ...</td>\n",
       "    </tr>\n",
       "    <tr>\n",
       "      <th>Employment</th>\n",
       "      <td>Which of the following best describes your cur...</td>\n",
       "    </tr>\n",
       "    <tr>\n",
       "      <th>RemoteWork</th>\n",
       "      <td>Which best describes your current work situation?</td>\n",
       "    </tr>\n",
       "    <tr>\n",
       "      <th>CodingActivities</th>\n",
       "      <td>Which of the following best describes the code...</td>\n",
       "    </tr>\n",
       "  </tbody>\n",
       "</table>\n",
       "</div>"
      ],
      "text/plain": [
       "                                                           question\n",
       "qname                                                              \n",
       "S1                <span style=\"font-size:22px; font-family: aria...\n",
       "MainBranch        Which of the following options best describes ...\n",
       "Employment        Which of the following best describes your cur...\n",
       "RemoteWork        Which best describes your current work situation?\n",
       "CodingActivities  Which of the following best describes the code..."
      ]
     },
     "execution_count": 12,
     "metadata": {},
     "output_type": "execute_result"
    }
   ],
   "source": [
    "# TEST\n",
    "col_meaning_df.head()"
   ]
  },
  {
   "cell_type": "markdown",
   "metadata": {},
   "source": [
    "Trước khi đi tiếp, bạn nên đọc kết quả hiển thị ở trên và đảm bảo là bạn đã hiểu ý nghĩa của các cột. Để hiểu ý nghĩa của cột, có thể bạn sẽ cần xem thêm các giá trị của cột bên DataFrame `survey_df`. "
   ]
  },
  {
   "cell_type": "markdown",
   "metadata": {},
   "source": [
    "### Chọn một số cột cần thiết - Điểm: (0.25đ)\n",
    "\n",
    "Bởi vì dữ liệu phản hồi khảo sát này chứa một lượng thông tin tương đối nhiều, thế nên chúng ta sẽ giới hạn lại những cột để việc phân tích khối dữ liệu trong bài Lab này được nhẹ nhàng hơn.\n",
    "\n",
    "Những cột mà chúng ta cần chọn sẽ bao gồm:\n",
    "- Thông tin chung: MainBranch\n",
    "- Những thông tin liên quan đến nơi cư trú của những người tham gia khảo sát: Country, Age, Gender, EdLevel, RemoteWork\n",
    "- Những thông tin liên quan đến kỹ năng lập trình, kinh nghiệm làm việc và một số sở thích: DevType, LearnCodeCoursesCert, LanguageHaveWorkedWith, LanguageWantToWorkWith, DatabaseHaveWorkedWith, DatabaseWantToWorkWith, PlatformHaveWorkedWith, PlatformWantToWorkWith, WebframeHaveWorkedWith, WebframeWantToWorkWith, MiscTechHaveWorkedWith, MiscTechWantToWorkWith, ToolsTechHaveWorkedWith, ToolsTechWantToWorkWith, NEWCollabToolsHaveWorkedWith, NEWCollabToolsWantToWorkWith, OpSysPersonal use, OfficeStackAsyncHaveWorkedWith, OfficeStackAsyncWantToWorkWith.\n",
    "- Những thông tin liên quan đến công việc: Employment, WorkExp, CompTotal, CompFreq, YearsCode, YearsCodePro, ConvertedCompYearly\n",
    "- Những thông tin liên quan đến việc sử dụng Stack Overflow: NEWSOSites, SOVisitFreq, SOAccount, SOPartFreq, SOComm"
   ]
  },
  {
   "cell_type": "code",
   "execution_count": 13,
   "metadata": {},
   "outputs": [],
   "source": [
    "# YOUR CODE HERE\n",
    "col_list=[\"MainBranch\",\"Country\",\"Age\",\"Gender\",\"EdLevel\",\"RemoteWork\",\"DevType\",\"LearnCodeCoursesCert\",\"LanguageHaveWorkedWith\", \n",
    "          \"LanguageWantToWorkWith\", \"DatabaseHaveWorkedWith\", \"DatabaseWantToWorkWith\", \"PlatformHaveWorkedWith\", \"PlatformWantToWorkWith\",\n",
    "          \"WebframeHaveWorkedWith\", \"WebframeWantToWorkWith\", \"MiscTechHaveWorkedWith\", \"MiscTechWantToWorkWith\", \"ToolsTechHaveWorkedWith\",\n",
    "          \"ToolsTechWantToWorkWith\", \"NEWCollabToolsHaveWorkedWith\", \"NEWCollabToolsWantToWorkWith\", \"OpSysPersonal use\", \"OfficeStackAsyncHaveWorkedWith\", \"OfficeStackAsyncWantToWorkWith\",\n",
    "          \"Employment\", \"WorkExp\", \"CompTotal\", \"CompFreq\", \"YearsCode\", \"YearsCodePro\", \"ConvertedCompYearly\", \"NEWSOSites\", \"SOVisitFreq\", \"SOAccount\", \"SOPartFreq\", \"SOComm\"]\n",
    "survey_df=survey_df[col_list]\n",
    "\n",
    "rows=survey_df.shape[0]\n",
    "cols=survey_df.shape[1]\n",
    "\n",
    "shape=(rows, cols)\n"
   ]
  },
  {
   "cell_type": "code",
   "execution_count": 14,
   "metadata": {},
   "outputs": [],
   "source": [
    "# TEST\n",
    "assert shape == (73268, 37)"
   ]
  },
  {
   "cell_type": "markdown",
   "metadata": {},
   "source": [
    "### Mỗi cột hiện đang có kiểu dữ liệu gì? Có cột nào có kiểu dữ liệu chưa phù hợp để có thể xử lý tiếp không? - Điểm: (0.25đ)"
   ]
  },
  {
   "cell_type": "markdown",
   "metadata": {},
   "source": [
    "Kế đến, bạn tính kiểu dữ liệu (dtype) của mỗi cột trong DataFrame `survey_df` và lưu kết quả vào Series `dtypes` (Series này có index là tên cột). "
   ]
  },
  {
   "cell_type": "code",
   "execution_count": 15,
   "metadata": {},
   "outputs": [
    {
     "name": "stdout",
     "output_type": "stream",
     "text": [
      "<class 'pandas.core.frame.DataFrame'>\n",
      "Int64Index: 73268 entries, 1 to 73268\n",
      "Data columns (total 37 columns):\n",
      " #   Column                          Non-Null Count  Dtype  \n",
      "---  ------                          --------------  -----  \n",
      " 0   MainBranch                      73268 non-null  object \n",
      " 1   Country                         71771 non-null  object \n",
      " 2   Age                             70946 non-null  object \n",
      " 3   Gender                          70853 non-null  object \n",
      " 4   EdLevel                         71571 non-null  object \n",
      " 5   RemoteWork                      58958 non-null  object \n",
      " 6   DevType                         61302 non-null  object \n",
      " 7   LearnCodeCoursesCert            29389 non-null  object \n",
      " 8   LanguageHaveWorkedWith          70975 non-null  object \n",
      " 9   LanguageWantToWorkWith          67027 non-null  object \n",
      " 10  DatabaseHaveWorkedWith          60121 non-null  object \n",
      " 11  DatabaseWantToWorkWith          51014 non-null  object \n",
      " 12  PlatformHaveWorkedWith          49924 non-null  object \n",
      " 13  PlatformWantToWorkWith          40415 non-null  object \n",
      " 14  WebframeHaveWorkedWith          53544 non-null  object \n",
      " 15  WebframeWantToWorkWith          46122 non-null  object \n",
      " 16  MiscTechHaveWorkedWith          44992 non-null  object \n",
      " 17  MiscTechWantToWorkWith          36810 non-null  object \n",
      " 18  ToolsTechHaveWorkedWith         54171 non-null  object \n",
      " 19  ToolsTechWantToWorkWith         46566 non-null  object \n",
      " 20  NEWCollabToolsHaveWorkedWith    70347 non-null  object \n",
      " 21  NEWCollabToolsWantToWorkWith    64108 non-null  object \n",
      " 22  OpSysPersonal use               70963 non-null  object \n",
      " 23  OfficeStackAsyncHaveWorkedWith  46223 non-null  object \n",
      " 24  OfficeStackAsyncWantToWorkWith  32072 non-null  object \n",
      " 25  Employment                      71709 non-null  object \n",
      " 26  WorkExp                         36769 non-null  float64\n",
      " 27  CompTotal                       38422 non-null  float64\n",
      " 28  CompFreq                        44425 non-null  object \n",
      " 29  YearsCode                       71331 non-null  object \n",
      " 30  YearsCodePro                    51833 non-null  object \n",
      " 31  ConvertedCompYearly             38071 non-null  float64\n",
      " 32  NEWSOSites                      71365 non-null  object \n",
      " 33  SOVisitFreq                     70961 non-null  object \n",
      " 34  SOAccount                       71572 non-null  object \n",
      " 35  SOPartFreq                      58229 non-null  object \n",
      " 36  SOComm                          71408 non-null  object \n",
      "dtypes: float64(3), object(34)\n",
      "memory usage: 21.2+ MB\n"
     ]
    }
   ],
   "source": [
    "survey_df.info()"
   ]
  },
  {
   "cell_type": "code",
   "execution_count": 16,
   "metadata": {},
   "outputs": [],
   "source": [
    "# YOUR CODE HERE\n",
    "dtypes=survey_df.dtypes"
   ]
  },
  {
   "cell_type": "code",
   "execution_count": 17,
   "metadata": {},
   "outputs": [],
   "source": [
    "# TEST\n",
    "float_cols = set(dtypes[(dtypes==np.float32) | (dtypes==np.float64)].index)\n",
    "assert float_cols == {'WorkExp', 'CompTotal', 'ConvertedCompYearly'}\n",
    "object_cols = set(dtypes[dtypes == object].index)\n",
    "assert len(object_cols) == 34"
   ]
  },
  {
   "cell_type": "markdown",
   "metadata": {},
   "source": [
    "Như bạn có thể thấy, cột \"YearsCode\" và \"YearsCodePro\" nên có kiểu dữ liệu số, nhưng hiện giờ đang có kiểu dữ liệu object. Ta hãy thử xem thêm về các giá trị 2 cột này. "
   ]
  },
  {
   "cell_type": "code",
   "execution_count": 18,
   "metadata": {},
   "outputs": [
    {
     "data": {
      "text/plain": [
       "array([nan, '14', '20', '8', '15', '3', '1', '6', '37', '5', '12', '22',\n",
       "       '11', '4', '7', '13', '36', '2', '25', '10', '40', '16', '27',\n",
       "       '24', '19', '9', '17', '18', '26', 'More than 50 years', '29',\n",
       "       '30', '32', 'Less than 1 year', '48', '45', '38', '39', '28', '23',\n",
       "       '43', '21', '41', '35', '50', '33', '31', '34', '46', '44', '42',\n",
       "       '47', '49'], dtype=object)"
      ]
     },
     "execution_count": 18,
     "metadata": {},
     "output_type": "execute_result"
    }
   ],
   "source": [
    "survey_df['YearsCode'].unique()"
   ]
  },
  {
   "cell_type": "code",
   "execution_count": 19,
   "metadata": {},
   "outputs": [
    {
     "data": {
      "text/plain": [
       "array([nan, '5', '17', '3', '6', '30', '2', '10', '15', '4', '22', '20',\n",
       "       '40', '9', '14', '21', '7', '18', '25', '8', '12', '45', '1', '19',\n",
       "       '28', '24', '11', '23', 'Less than 1 year', '32', '27', '16', '44',\n",
       "       '26', '37', '46', '13', '31', '39', '34', '38', '35', '29', '42',\n",
       "       '36', '33', '43', '41', '48', '50', 'More than 50 years', '47',\n",
       "       '49'], dtype=object)"
      ]
     },
     "execution_count": 19,
     "metadata": {},
     "output_type": "execute_result"
    }
   ],
   "source": [
    "survey_df['YearsCodePro'].unique()"
   ]
  },
  {
   "cell_type": "markdown",
   "metadata": {},
   "source": [
    "Ta nên đưa 2 cột này về dạng số để có thể tiếp tục khám phá (tính min, median, max, ...)."
   ]
  },
  {
   "cell_type": "markdown",
   "metadata": {},
   "source": [
    "Hơn nữa, như bạn thấy, cột \"Age\" được phân loại thành các khoảng độ tuổi bao gồm:\n",
    "- Dưới 18 tuổi\n",
    "- Từ 18 đến 24 tuổi\n",
    "- Từ 25 đến 34 tuổi\n",
    "- Từ 35 đến 44 tuổi\n",
    "- Từ 45 đến 54 tuổi\n",
    "- Từ 55 đến 64 tuổi\n",
    "- Trên 65 tuổi\n",
    "- Không có dữ liệu (nan value)\n",
    "- Không muốn cho biết thông tin (Prefer not to say)\n",
    "\n",
    "Chúng ta cần mã hóa dữ liệu này về dạng số để có thể tiếp tục khám phá"
   ]
  },
  {
   "cell_type": "code",
   "execution_count": 20,
   "metadata": {},
   "outputs": [
    {
     "data": {
      "text/plain": [
       "array([nan, '25-34 years old', '35-44 years old', 'Under 18 years old',\n",
       "       '18-24 years old', '45-54 years old', '55-64 years old',\n",
       "       '65 years or older', 'Prefer not to say'], dtype=object)"
      ]
     },
     "execution_count": 20,
     "metadata": {},
     "output_type": "execute_result"
    }
   ],
   "source": [
    "survey_df['Age'].unique()"
   ]
  },
  {
   "cell_type": "markdown",
   "metadata": {},
   "source": [
    "## Tiền xử lý dữ liệu - Điểm: (0.5đ)"
   ]
  },
  {
   "cell_type": "markdown",
   "metadata": {},
   "source": [
    "Bạn sẽ thực hiện tiền xử lý để chuyển 2 cột \"YearsCode\" và \"YearsCodePro\" về dạng số (float). Trong đó: \"Less than 1 year\" $\\to$ 0, \"More than 50 years\" $\\to$ 51. Sau khi chuyển thì `survey_df.dtypes` sẽ thay đổi.\n",
    "\n",
    "Đối với cột \"Age\", bạn sẽ thực hiện tiền xử lý để chuyển cột này thành một kiểu dữ liệu có thể biểu diễn được khoảng độ tuổi\n",
    "- Dưới 18 tuổi: biểu diễn trong khoảng từ 0 đến 17\n",
    "- Từ 18 đến 24 tuổi: biểu diễn trong khoảng từ 18 đến 24\n",
    "- Từ 25 đến 34 tuổi: biểu diễn trong khoảng từ 25 đến 34\n",
    "- Từ 35 đến 44 tuổi: biểu diễn trong khoảng từ 35 đến 44\n",
    "- Từ 45 đến 54 tuổi: biểu diễn trong khoảng từ 45 đến 54\n",
    "- Từ 55 đến 64 tuổi: biểu diễn trong khoảng từ 55 đến 64\n",
    "- Trên 65 tuổi: biểu diễn bằng 65\n",
    "- Không có dữ liệu (nan value) và Không muốn cho biết thông tin (Prefer not to say): biểu diễn bằng NaN"
   ]
  },
  {
   "cell_type": "code",
   "execution_count": 21,
   "metadata": {},
   "outputs": [],
   "source": [
    "# YOUR CODE HERE\n",
    "#YearsCode\n",
    "survey_df['YearsCode'].replace(['Less than 1 year','More than 50 years'],[0,51],inplace=True)\n",
    "#YearsCodePro\n",
    "survey_df['YearsCodePro'].replace(['Less than 1 year','More than 50 years'],[0,51],inplace=True)\n",
    "\n",
    "survey_df['YearsCode']=pd.to_numeric(survey_df['YearsCode'])\n",
    "survey_df['YearsCodePro']=pd.to_numeric(survey_df['YearsCodePro'])\n"
   ]
  },
  {
   "cell_type": "code",
   "execution_count": 22,
   "metadata": {},
   "outputs": [],
   "source": [
    "# TEST\n",
    "assert survey_df['YearsCode'].dtype in [np.float32, np.float64]\n",
    "assert survey_df['YearsCodePro'].dtype in [np.float32, np.float64]"
   ]
  },
  {
   "cell_type": "code",
   "execution_count": 23,
   "metadata": {},
   "outputs": [],
   "source": [
    "# YOUR CODE HERE\n",
    "def transform_age(age_type):\n",
    "    values1=['25-34 years old', '35-44 years old', 'Under 18 years old',\n",
    "       '18-24 years old', '45-54 years old', '55-64 years old',\n",
    "       '65 years or older', 'Prefer not to say']\n",
    "    values2=[np.nan]\n",
    "    replace_to1=[(25,34), (35, 44), (0, 17), (18, 24), (45, 54), (55, 64), (65, 100), (np.nan,np.nan)]\n",
    "    replace_to2=[(np.nan,np.nan)]\n",
    "    for i in range(len(values1)):\n",
    "        if values1[i] == age_type:\n",
    "            age_type=replace_to1[i]\n",
    "            return age_type\n",
    "    for i in range(len(values2)):\n",
    "        if values2[i] in [np.nan]:\n",
    "            age_type=replace_to2[i]\n",
    "            return age_type"
   ]
  },
  {
   "cell_type": "code",
   "execution_count": 24,
   "metadata": {},
   "outputs": [],
   "source": [
    "# TEST\n",
    "assert transform_age('45-54 years old') == (45, 54) or transform_age('45-54 years old') == [45, 54]\n",
    "assert transform_age('65 years or older') == (65, 100) or transform_age('65 years or older') == [65, 100]\n",
    "assert transform_age('Under 18 years old') == (0, 17) or transform_age('Under 18 years old') == [0, 17]\n",
    "assert transform_age('Prefer not to say') == (np.nan, np.nan) or transform_age('Prefer not to say') == [np.nan, np.nan]\n",
    "assert transform_age(np.nan) == (np.nan, np.nan) or transform_age(np.nan) == [np.nan, np.nan]"
   ]
  },
  {
   "cell_type": "code",
   "execution_count": 25,
   "metadata": {},
   "outputs": [],
   "source": [
    "# YOUR CODE HERE\n",
    "survey_df[\"Age\"] = survey_df[\"Age\"].apply(transform_age)"
   ]
  },
  {
   "cell_type": "markdown",
   "metadata": {},
   "source": [
    "## Quay lại bước khám phá dữ liệu "
   ]
  },
  {
   "cell_type": "markdown",
   "metadata": {},
   "source": [
    "### Với mỗi cột có kiểu dữ liệu dạng số, các giá trị được phân bố như thế nào? - Điểm: (1đ)\n",
    "\n",
    "(Trong đó: phần tính các mô tả của mỗi cột chiếm 0.5đ, phần tính số lượng giá trị không hợp lệ của mỗi cột chiếm 0.5đ)"
   ]
  },
  {
   "cell_type": "markdown",
   "metadata": {},
   "source": [
    "Với các cột có kiểu dữ liệu số, bạn sẽ tính:\n",
    "- Tỉ lệ % (từ 0 đến 100) các giá trị thiếu \n",
    "- Giá trị min\n",
    "- Giá trị lower quartile (phân vị 25)\n",
    "- Giá trị median (phân vị 50)\n",
    "- Giá trị upper quartile (phân vị 75)\n",
    "- Giá trị max\n",
    "\n",
    "Bạn sẽ lưu kết quả vào DataFrame `num_col_info_df`, trong đó: \n",
    "- Tên của các cột là tên của các cột số trong `survey_df`\n",
    "- Tên của các dòng là: \"missing_ratio\", \"min\", \"lower_quartile\", \"median\", \"upper_quartile\", \"max\"  \n",
    "\n",
    "Để dễ nhìn, tất cả các giá trị bạn đều làm tròn với 1 chữ số thập phân bằng phương thức `.round(1)`."
   ]
  },
  {
   "cell_type": "code",
   "execution_count": 26,
   "metadata": {},
   "outputs": [
    {
     "name": "stderr",
     "output_type": "stream",
     "text": [
      "C:\\Users\\FPT SHOP\\AppData\\Local\\Temp\\ipykernel_9360\\2656827229.py:4: DeprecationWarning: `np.object` is a deprecated alias for the builtin `object`. To silence this warning, use `object` by itself. Doing this will not modify any behavior and is safe. \n",
      "Deprecated in NumPy 1.20; for more details and guidance: https://numpy.org/devdocs/release/1.20.0-notes.html#deprecations\n",
      "  min=survey_df[col_name].describe(exclude=[np.object])[3]\n",
      "C:\\Users\\FPT SHOP\\AppData\\Local\\Temp\\ipykernel_9360\\2656827229.py:5: DeprecationWarning: `np.object` is a deprecated alias for the builtin `object`. To silence this warning, use `object` by itself. Doing this will not modify any behavior and is safe. \n",
      "Deprecated in NumPy 1.20; for more details and guidance: https://numpy.org/devdocs/release/1.20.0-notes.html#deprecations\n",
      "  lower_quartile=survey_df[col_name].describe(exclude=[np.object])[4]\n",
      "C:\\Users\\FPT SHOP\\AppData\\Local\\Temp\\ipykernel_9360\\2656827229.py:6: DeprecationWarning: `np.object` is a deprecated alias for the builtin `object`. To silence this warning, use `object` by itself. Doing this will not modify any behavior and is safe. \n",
      "Deprecated in NumPy 1.20; for more details and guidance: https://numpy.org/devdocs/release/1.20.0-notes.html#deprecations\n",
      "  median=survey_df[col_name].describe(exclude=[np.object])[5]\n",
      "C:\\Users\\FPT SHOP\\AppData\\Local\\Temp\\ipykernel_9360\\2656827229.py:7: DeprecationWarning: `np.object` is a deprecated alias for the builtin `object`. To silence this warning, use `object` by itself. Doing this will not modify any behavior and is safe. \n",
      "Deprecated in NumPy 1.20; for more details and guidance: https://numpy.org/devdocs/release/1.20.0-notes.html#deprecations\n",
      "  upper_quartile=survey_df[col_name].describe(exclude=[np.object])[6]\n",
      "C:\\Users\\FPT SHOP\\AppData\\Local\\Temp\\ipykernel_9360\\2656827229.py:8: DeprecationWarning: `np.object` is a deprecated alias for the builtin `object`. To silence this warning, use `object` by itself. Doing this will not modify any behavior and is safe. \n",
      "Deprecated in NumPy 1.20; for more details and guidance: https://numpy.org/devdocs/release/1.20.0-notes.html#deprecations\n",
      "  max=survey_df[col_name].describe(exclude=[np.object])[7]\n",
      "C:\\Users\\FPT SHOP\\AppData\\Local\\Temp\\ipykernel_9360\\2656827229.py:4: DeprecationWarning: `np.object` is a deprecated alias for the builtin `object`. To silence this warning, use `object` by itself. Doing this will not modify any behavior and is safe. \n",
      "Deprecated in NumPy 1.20; for more details and guidance: https://numpy.org/devdocs/release/1.20.0-notes.html#deprecations\n",
      "  min=survey_df[col_name].describe(exclude=[np.object])[3]\n",
      "C:\\Users\\FPT SHOP\\AppData\\Local\\Temp\\ipykernel_9360\\2656827229.py:5: DeprecationWarning: `np.object` is a deprecated alias for the builtin `object`. To silence this warning, use `object` by itself. Doing this will not modify any behavior and is safe. \n",
      "Deprecated in NumPy 1.20; for more details and guidance: https://numpy.org/devdocs/release/1.20.0-notes.html#deprecations\n",
      "  lower_quartile=survey_df[col_name].describe(exclude=[np.object])[4]\n",
      "C:\\Users\\FPT SHOP\\AppData\\Local\\Temp\\ipykernel_9360\\2656827229.py:6: DeprecationWarning: `np.object` is a deprecated alias for the builtin `object`. To silence this warning, use `object` by itself. Doing this will not modify any behavior and is safe. \n",
      "Deprecated in NumPy 1.20; for more details and guidance: https://numpy.org/devdocs/release/1.20.0-notes.html#deprecations\n",
      "  median=survey_df[col_name].describe(exclude=[np.object])[5]\n",
      "C:\\Users\\FPT SHOP\\AppData\\Local\\Temp\\ipykernel_9360\\2656827229.py:7: DeprecationWarning: `np.object` is a deprecated alias for the builtin `object`. To silence this warning, use `object` by itself. Doing this will not modify any behavior and is safe. \n",
      "Deprecated in NumPy 1.20; for more details and guidance: https://numpy.org/devdocs/release/1.20.0-notes.html#deprecations\n",
      "  upper_quartile=survey_df[col_name].describe(exclude=[np.object])[6]\n",
      "C:\\Users\\FPT SHOP\\AppData\\Local\\Temp\\ipykernel_9360\\2656827229.py:8: DeprecationWarning: `np.object` is a deprecated alias for the builtin `object`. To silence this warning, use `object` by itself. Doing this will not modify any behavior and is safe. \n",
      "Deprecated in NumPy 1.20; for more details and guidance: https://numpy.org/devdocs/release/1.20.0-notes.html#deprecations\n",
      "  max=survey_df[col_name].describe(exclude=[np.object])[7]\n",
      "C:\\Users\\FPT SHOP\\AppData\\Local\\Temp\\ipykernel_9360\\2656827229.py:4: DeprecationWarning: `np.object` is a deprecated alias for the builtin `object`. To silence this warning, use `object` by itself. Doing this will not modify any behavior and is safe. \n",
      "Deprecated in NumPy 1.20; for more details and guidance: https://numpy.org/devdocs/release/1.20.0-notes.html#deprecations\n",
      "  min=survey_df[col_name].describe(exclude=[np.object])[3]\n",
      "C:\\Users\\FPT SHOP\\AppData\\Local\\Temp\\ipykernel_9360\\2656827229.py:5: DeprecationWarning: `np.object` is a deprecated alias for the builtin `object`. To silence this warning, use `object` by itself. Doing this will not modify any behavior and is safe. \n",
      "Deprecated in NumPy 1.20; for more details and guidance: https://numpy.org/devdocs/release/1.20.0-notes.html#deprecations\n",
      "  lower_quartile=survey_df[col_name].describe(exclude=[np.object])[4]\n",
      "C:\\Users\\FPT SHOP\\AppData\\Local\\Temp\\ipykernel_9360\\2656827229.py:6: DeprecationWarning: `np.object` is a deprecated alias for the builtin `object`. To silence this warning, use `object` by itself. Doing this will not modify any behavior and is safe. \n",
      "Deprecated in NumPy 1.20; for more details and guidance: https://numpy.org/devdocs/release/1.20.0-notes.html#deprecations\n",
      "  median=survey_df[col_name].describe(exclude=[np.object])[5]\n",
      "C:\\Users\\FPT SHOP\\AppData\\Local\\Temp\\ipykernel_9360\\2656827229.py:7: DeprecationWarning: `np.object` is a deprecated alias for the builtin `object`. To silence this warning, use `object` by itself. Doing this will not modify any behavior and is safe. \n",
      "Deprecated in NumPy 1.20; for more details and guidance: https://numpy.org/devdocs/release/1.20.0-notes.html#deprecations\n",
      "  upper_quartile=survey_df[col_name].describe(exclude=[np.object])[6]\n",
      "C:\\Users\\FPT SHOP\\AppData\\Local\\Temp\\ipykernel_9360\\2656827229.py:8: DeprecationWarning: `np.object` is a deprecated alias for the builtin `object`. To silence this warning, use `object` by itself. Doing this will not modify any behavior and is safe. \n",
      "Deprecated in NumPy 1.20; for more details and guidance: https://numpy.org/devdocs/release/1.20.0-notes.html#deprecations\n",
      "  max=survey_df[col_name].describe(exclude=[np.object])[7]\n",
      "C:\\Users\\FPT SHOP\\AppData\\Local\\Temp\\ipykernel_9360\\2656827229.py:4: DeprecationWarning: `np.object` is a deprecated alias for the builtin `object`. To silence this warning, use `object` by itself. Doing this will not modify any behavior and is safe. \n",
      "Deprecated in NumPy 1.20; for more details and guidance: https://numpy.org/devdocs/release/1.20.0-notes.html#deprecations\n",
      "  min=survey_df[col_name].describe(exclude=[np.object])[3]\n",
      "C:\\Users\\FPT SHOP\\AppData\\Local\\Temp\\ipykernel_9360\\2656827229.py:5: DeprecationWarning: `np.object` is a deprecated alias for the builtin `object`. To silence this warning, use `object` by itself. Doing this will not modify any behavior and is safe. \n",
      "Deprecated in NumPy 1.20; for more details and guidance: https://numpy.org/devdocs/release/1.20.0-notes.html#deprecations\n",
      "  lower_quartile=survey_df[col_name].describe(exclude=[np.object])[4]\n",
      "C:\\Users\\FPT SHOP\\AppData\\Local\\Temp\\ipykernel_9360\\2656827229.py:6: DeprecationWarning: `np.object` is a deprecated alias for the builtin `object`. To silence this warning, use `object` by itself. Doing this will not modify any behavior and is safe. \n",
      "Deprecated in NumPy 1.20; for more details and guidance: https://numpy.org/devdocs/release/1.20.0-notes.html#deprecations\n",
      "  median=survey_df[col_name].describe(exclude=[np.object])[5]\n",
      "C:\\Users\\FPT SHOP\\AppData\\Local\\Temp\\ipykernel_9360\\2656827229.py:7: DeprecationWarning: `np.object` is a deprecated alias for the builtin `object`. To silence this warning, use `object` by itself. Doing this will not modify any behavior and is safe. \n",
      "Deprecated in NumPy 1.20; for more details and guidance: https://numpy.org/devdocs/release/1.20.0-notes.html#deprecations\n",
      "  upper_quartile=survey_df[col_name].describe(exclude=[np.object])[6]\n",
      "C:\\Users\\FPT SHOP\\AppData\\Local\\Temp\\ipykernel_9360\\2656827229.py:8: DeprecationWarning: `np.object` is a deprecated alias for the builtin `object`. To silence this warning, use `object` by itself. Doing this will not modify any behavior and is safe. \n",
      "Deprecated in NumPy 1.20; for more details and guidance: https://numpy.org/devdocs/release/1.20.0-notes.html#deprecations\n",
      "  max=survey_df[col_name].describe(exclude=[np.object])[7]\n",
      "C:\\Users\\FPT SHOP\\AppData\\Local\\Temp\\ipykernel_9360\\2656827229.py:4: DeprecationWarning: `np.object` is a deprecated alias for the builtin `object`. To silence this warning, use `object` by itself. Doing this will not modify any behavior and is safe. \n",
      "Deprecated in NumPy 1.20; for more details and guidance: https://numpy.org/devdocs/release/1.20.0-notes.html#deprecations\n",
      "  min=survey_df[col_name].describe(exclude=[np.object])[3]\n",
      "C:\\Users\\FPT SHOP\\AppData\\Local\\Temp\\ipykernel_9360\\2656827229.py:5: DeprecationWarning: `np.object` is a deprecated alias for the builtin `object`. To silence this warning, use `object` by itself. Doing this will not modify any behavior and is safe. \n",
      "Deprecated in NumPy 1.20; for more details and guidance: https://numpy.org/devdocs/release/1.20.0-notes.html#deprecations\n",
      "  lower_quartile=survey_df[col_name].describe(exclude=[np.object])[4]\n",
      "C:\\Users\\FPT SHOP\\AppData\\Local\\Temp\\ipykernel_9360\\2656827229.py:6: DeprecationWarning: `np.object` is a deprecated alias for the builtin `object`. To silence this warning, use `object` by itself. Doing this will not modify any behavior and is safe. \n",
      "Deprecated in NumPy 1.20; for more details and guidance: https://numpy.org/devdocs/release/1.20.0-notes.html#deprecations\n",
      "  median=survey_df[col_name].describe(exclude=[np.object])[5]\n",
      "C:\\Users\\FPT SHOP\\AppData\\Local\\Temp\\ipykernel_9360\\2656827229.py:7: DeprecationWarning: `np.object` is a deprecated alias for the builtin `object`. To silence this warning, use `object` by itself. Doing this will not modify any behavior and is safe. \n",
      "Deprecated in NumPy 1.20; for more details and guidance: https://numpy.org/devdocs/release/1.20.0-notes.html#deprecations\n",
      "  upper_quartile=survey_df[col_name].describe(exclude=[np.object])[6]\n",
      "C:\\Users\\FPT SHOP\\AppData\\Local\\Temp\\ipykernel_9360\\2656827229.py:8: DeprecationWarning: `np.object` is a deprecated alias for the builtin `object`. To silence this warning, use `object` by itself. Doing this will not modify any behavior and is safe. \n",
      "Deprecated in NumPy 1.20; for more details and guidance: https://numpy.org/devdocs/release/1.20.0-notes.html#deprecations\n",
      "  max=survey_df[col_name].describe(exclude=[np.object])[7]\n"
     ]
    },
    {
     "data": {
      "text/html": [
       "<div>\n",
       "<style scoped>\n",
       "    .dataframe tbody tr th:only-of-type {\n",
       "        vertical-align: middle;\n",
       "    }\n",
       "\n",
       "    .dataframe tbody tr th {\n",
       "        vertical-align: top;\n",
       "    }\n",
       "\n",
       "    .dataframe thead th {\n",
       "        text-align: right;\n",
       "    }\n",
       "</style>\n",
       "<table border=\"1\" class=\"dataframe\">\n",
       "  <thead>\n",
       "    <tr style=\"text-align: right;\">\n",
       "      <th></th>\n",
       "      <th>WorkExp</th>\n",
       "      <th>CompTotal</th>\n",
       "      <th>ConvertedCompYearly</th>\n",
       "      <th>YearsCode</th>\n",
       "      <th>YearsCodePro</th>\n",
       "    </tr>\n",
       "    <tr>\n",
       "      <th>rows</th>\n",
       "      <th></th>\n",
       "      <th></th>\n",
       "      <th></th>\n",
       "      <th></th>\n",
       "      <th></th>\n",
       "    </tr>\n",
       "  </thead>\n",
       "  <tbody>\n",
       "    <tr>\n",
       "      <th>missing_ratio</th>\n",
       "      <td>49.8</td>\n",
       "      <td>4.760000e+01</td>\n",
       "      <td>48.0</td>\n",
       "      <td>2.6</td>\n",
       "      <td>29.3</td>\n",
       "    </tr>\n",
       "    <tr>\n",
       "      <th>min</th>\n",
       "      <td>0.0</td>\n",
       "      <td>0.000000e+00</td>\n",
       "      <td>1.0</td>\n",
       "      <td>0.0</td>\n",
       "      <td>0.0</td>\n",
       "    </tr>\n",
       "    <tr>\n",
       "      <th>lower_quartile</th>\n",
       "      <td>4.0</td>\n",
       "      <td>3.000000e+04</td>\n",
       "      <td>35832.0</td>\n",
       "      <td>5.0</td>\n",
       "      <td>4.0</td>\n",
       "    </tr>\n",
       "    <tr>\n",
       "      <th>median</th>\n",
       "      <td>8.0</td>\n",
       "      <td>7.750000e+04</td>\n",
       "      <td>67845.0</td>\n",
       "      <td>9.0</td>\n",
       "      <td>7.0</td>\n",
       "    </tr>\n",
       "    <tr>\n",
       "      <th>upper_quartile</th>\n",
       "      <td>15.0</td>\n",
       "      <td>1.540000e+05</td>\n",
       "      <td>120000.0</td>\n",
       "      <td>16.0</td>\n",
       "      <td>14.0</td>\n",
       "    </tr>\n",
       "    <tr>\n",
       "      <th>max</th>\n",
       "      <td>50.0</td>\n",
       "      <td>9.000000e+56</td>\n",
       "      <td>50000000.0</td>\n",
       "      <td>51.0</td>\n",
       "      <td>51.0</td>\n",
       "    </tr>\n",
       "  </tbody>\n",
       "</table>\n",
       "</div>"
      ],
      "text/plain": [
       "                WorkExp     CompTotal  ConvertedCompYearly  YearsCode  \\\n",
       "rows                                                                    \n",
       "missing_ratio      49.8  4.760000e+01                 48.0        2.6   \n",
       "min                 0.0  0.000000e+00                  1.0        0.0   \n",
       "lower_quartile      4.0  3.000000e+04              35832.0        5.0   \n",
       "median              8.0  7.750000e+04              67845.0        9.0   \n",
       "upper_quartile     15.0  1.540000e+05             120000.0       16.0   \n",
       "max                50.0  9.000000e+56           50000000.0       51.0   \n",
       "\n",
       "                YearsCodePro  \n",
       "rows                          \n",
       "missing_ratio           29.3  \n",
       "min                      0.0  \n",
       "lower_quartile           4.0  \n",
       "median                   7.0  \n",
       "upper_quartile          14.0  \n",
       "max                     51.0  "
      ]
     },
     "execution_count": 26,
     "metadata": {},
     "output_type": "execute_result"
    }
   ],
   "source": [
    "# YOUR CODE HERE\n",
    "def calculate(col_name):\n",
    "    missing_ratio=round(100*survey_df[col_name].isnull().sum()/len(survey_df[col_name]),1)\n",
    "    min=survey_df[col_name].describe(exclude=[np.object])[3]\n",
    "    lower_quartile=survey_df[col_name].describe(exclude=[np.object])[4]\n",
    "    median=survey_df[col_name].describe(exclude=[np.object])[5]\n",
    "    upper_quartile=survey_df[col_name].describe(exclude=[np.object])[6]\n",
    "    max=survey_df[col_name].describe(exclude=[np.object])[7]\n",
    "    values=[missing_ratio, min, lower_quartile, median, upper_quartile, max]\n",
    "    return values\n",
    "                     \n",
    "dict_columns={\n",
    "    'rows':['missing_ratio', 'min', 'lower_quartile', 'median', 'upper_quartile', 'max'],\n",
    "    'WorkExp':calculate('WorkExp'),\n",
    "    'CompTotal':calculate('CompTotal'),\n",
    "    'ConvertedCompYearly':calculate('ConvertedCompYearly'),\n",
    "    'YearsCode':calculate('YearsCode'),\n",
    "    'YearsCodePro':calculate('YearsCodePro')\n",
    "}\n",
    "num_col_info_df=pd.DataFrame(dict_columns).set_index(\"rows\")\n",
    "num_col_info_df"
   ]
  },
  {
   "cell_type": "code",
   "execution_count": 27,
   "metadata": {},
   "outputs": [],
   "source": [
    "# TEST\n",
    "assert num_col_info_df.shape == (6, 5)\n",
    "data = num_col_info_df.loc[['missing_ratio', 'min', 'lower_quartile', 'median', 'upper_quartile', 'max'],\n",
    "                           ['WorkExp', 'CompTotal', 'ConvertedCompYearly', 'YearsCode', 'YearsCodePro']].values\n",
    "\n",
    "correct_data = np.array([[     49.8,      47.6,      48. ,       2.6,      29.3],\n",
    "                         [      0. ,       0. ,       1. ,       0. ,       0. ],\n",
    "                         [      4. ,   30000. ,   35832. ,       5. ,       4. ],\n",
    "                         [      8. ,   77500. ,   67845. ,       9. ,       7. ],\n",
    "                         [     15. ,  154000. ,  120000. ,      16. ,      14. ],\n",
    "                         [     50. ,    9e+56 ,50000000. ,      51. ,      51. ]])\n",
    "\n",
    "\n",
    "assert np.array_equal(data, correct_data)"
   ]
  },
  {
   "cell_type": "markdown",
   "metadata": {},
   "source": [
    "**Có giá trị không hợp lệ trong mỗi cột không? (không xét giá trị thiếu)**\n",
    "\n",
    "- Cột \"Age\": bạn hãy tính số lượng giá trị không hợp lệ của cột \"Age\" (khoảng độ tuổi Age < giá trị tương ứng trong cột \"YearsCode\" HOẶC < giá trị tương ứng trong cột \"YearsCodePro\") và lưu kết quả vào biến `num_invalid_Age_vals`.\n",
    "- Cột \"YearsCode\": bạn hãy tính số lượng giá trị không hợp lệ của cột \"YearsCode\" (< giá trị tương ứng trong cột \"YearsCodePro\" HOẶC > giá trị tương ứng trong cột \"Age\") và lưu kết quả vào biến `num_invalid_YearsCode`.\n",
    "- Cột \"YearsCodePro\": bạn hãy tính số lượng giá trị không hợp lệ của cột \"YearsCodePro\" (> giá trị tương ứng trong cột \"YearsCode\" HOẶC > giá trị khoảng độ tuổi Age tương ứng trong cột \"Age\") và lưu kết quả vào biến `num_invalid_YearsCodePro`."
   ]
  },
  {
   "cell_type": "code",
   "execution_count": 28,
   "metadata": {},
   "outputs": [],
   "source": [
    "# YOUR CODE HERE\n",
    "check_Age_vals=[(survey_df['Age'].values[i][1]<survey_df['YearsCode'].values[i] or survey_df['Age'].values[i][1]<survey_df['YearsCodePro'].values[i])\n",
    "           for i in range(survey_df.shape[0])] #boolean\n",
    "num_invalid_Age_vals=sum(check_Age_vals)"
   ]
  },
  {
   "cell_type": "code",
   "execution_count": 29,
   "metadata": {},
   "outputs": [],
   "source": [
    "# YOUR CODE HERE\n",
    "check_YearsCode_vals=[(survey_df['YearsCode'].values[i]>survey_df['Age'].values[i][1] or survey_df['YearsCode'].values[i]<survey_df['YearsCodePro'].values[i])\n",
    "           for i in range(survey_df.shape[0])] #boolean\n",
    "num_invalid_YearsCode_vals=sum(check_YearsCode_vals)"
   ]
  },
  {
   "cell_type": "code",
   "execution_count": 30,
   "metadata": {},
   "outputs": [],
   "source": [
    "# YOUR CODE HERE\n",
    "check_YearsCodePro_vals=[(survey_df['YearsCodePro'].values[i]>survey_df['YearsCode'].values[i]or survey_df['YearsCodePro'].values[i]>survey_df['Age'].values[i][1])\n",
    "           for i in range(survey_df.shape[0])] #boolean\n",
    "num_invalid_YearsCodePro_vals=sum(check_YearsCodePro_vals)"
   ]
  },
  {
   "cell_type": "code",
   "execution_count": 31,
   "metadata": {},
   "outputs": [],
   "source": [
    "# TEST\n",
    "assert num_invalid_Age_vals == 15\n",
    "assert num_invalid_YearsCode_vals == 558\n",
    "assert num_invalid_YearsCodePro_vals == 548"
   ]
  },
  {
   "cell_type": "markdown",
   "metadata": {},
   "source": [
    "Do số lượng các giá trị không hợp lệ cũng khá ít nên ta có thể tiền xử lý bằng cách xóa các dòng chứa các giá trị không hợp lệ."
   ]
  },
  {
   "cell_type": "markdown",
   "metadata": {},
   "source": [
    "## Tiền xử lý - Điểm: (0.5đ)\n",
    "\n",
    "Bạn sẽ thực hiện tiền xử lý để xóa đi các dòng của DataFrame `survey_df` mà chứa ít nhất là một giá trị không hợp lệ. Sau khi tiền xử lý thì `survey_df` sẽ thay đổi. "
   ]
  },
  {
   "cell_type": "code",
   "execution_count": 32,
   "metadata": {},
   "outputs": [],
   "source": [
    "# YOUR CODE HERE\n",
    "check=[check_Age_vals[i] or check_YearsCode_vals[i] or check_YearsCodePro_vals[i] for i in range(survey_df.shape[0])]\n",
    "\n",
    "index=[i for i in range(len(check)) if check[i]==True]\n",
    "\n",
    "survey_df.drop(survey_df.index[index], inplace=True)"
   ]
  },
  {
   "cell_type": "code",
   "execution_count": 33,
   "metadata": {},
   "outputs": [],
   "source": [
    "# TEST\n",
    "assert len(survey_df) == 72710"
   ]
  },
  {
   "cell_type": "markdown",
   "metadata": {},
   "source": [
    "## Quay lại bước khám phá dữ liệu\n",
    "\n",
    "### Với mỗi cột có kiểu dữ liệu không phải dạng số, các giá trị được phân bố như thế nào? - Điểm: (1đ)\n",
    "\n",
    "Với các cột có kiểu dữ liệu không phải số, bạn sẽ tính:\n",
    "- Tỉ lệ % (từ 0 đến 100) các giá trị thiếu \n",
    "- Số lượng các giá trị (các giá trị ở đây là các giá trị khác nhau và ta không xét giá trị thiếu): với cột mà ứng với câu hỏi dạng multichoice (ví dụ, cột \"DevType\"), mỗi giá trị có thể chứa nhiều choice (các choice được phân tách bởi dấu chấm phẩy), và việc đếm trực tiếp các giá trị không có nhiều ý nghĩa lắm vì số lượng tổ hợp các choice là khá nhiều; một cách khác tốt hơn mà bạn sẽ làm là đếm số lượng các choice\n",
    "- Tỉ lệ % (từ 0 đến 100) của mỗi giá trị được sort theo tỉ lệ % giảm dần (ta không xét giá trị thiếu, tỉ lệ là tỉ lệ so với số lượng các giá trị không thiếu): bạn dùng dictionary để lưu, key là giá trị, value là tỉ lệ %; với cột mà ứng với câu hỏi dạng multichoice, cách làm tương tự như ở trên\n",
    "\n",
    "Bạn sẽ lưu kết quả vào DataFrame `cat_col_info_df`, trong đó: \n",
    "- Tên của các cột là tên của các cột không phải số trong `survey_df`\n",
    "- Tên của các dòng là: \"missing_ratio\", \"num_values\", \"value_ratios\"  \n",
    "\n",
    "Để dễ nhìn, tất cả các giá trị bạn đều làm tròn với 1 chữ số thập phân bằng phương thức `.round(1)`.\n",
    "\n",
    "Gợi ý: có thể bạn sẽ muốn dùng [phương thức `explode`](https://pandas.pydata.org/pandas-docs/stable/reference/api/pandas.Series.explode.html)."
   ]
  },
  {
   "cell_type": "code",
   "execution_count": 34,
   "metadata": {},
   "outputs": [
    {
     "data": {
      "text/plain": [
       "Index(['MainBranch', 'Country', 'Age', 'Gender', 'EdLevel', 'RemoteWork',\n",
       "       'DevType', 'LearnCodeCoursesCert', 'LanguageHaveWorkedWith',\n",
       "       'LanguageWantToWorkWith', 'DatabaseHaveWorkedWith',\n",
       "       'DatabaseWantToWorkWith', 'PlatformHaveWorkedWith',\n",
       "       'PlatformWantToWorkWith', 'WebframeHaveWorkedWith',\n",
       "       'WebframeWantToWorkWith', 'MiscTechHaveWorkedWith',\n",
       "       'MiscTechWantToWorkWith', 'ToolsTechHaveWorkedWith',\n",
       "       'ToolsTechWantToWorkWith', 'NEWCollabToolsHaveWorkedWith',\n",
       "       'NEWCollabToolsWantToWorkWith', 'OpSysPersonal use',\n",
       "       'OfficeStackAsyncHaveWorkedWith', 'OfficeStackAsyncWantToWorkWith',\n",
       "       'Employment', 'WorkExp', 'CompTotal', 'CompFreq', 'YearsCode',\n",
       "       'YearsCodePro', 'ConvertedCompYearly', 'NEWSOSites', 'SOVisitFreq',\n",
       "       'SOAccount', 'SOPartFreq', 'SOComm'],\n",
       "      dtype='object')"
      ]
     },
     "execution_count": 34,
     "metadata": {},
     "output_type": "execute_result"
    }
   ],
   "source": [
    "survey_df.columns"
   ]
  },
  {
   "cell_type": "code",
   "execution_count": 35,
   "metadata": {},
   "outputs": [],
   "source": [
    "# Các cột ứng với câu hỏi khảo sát multichoice\n",
    "multichoice_cols = ['DevType', 'Gender',\n",
    "                    'LanguageHaveWorkedWith', 'LanguageWantToWorkWith', \n",
    "                    'DatabaseHaveWorkedWith', 'DatabaseWantToWorkWith', \n",
    "                    'PlatformHaveWorkedWith', 'PlatformWantToWorkWith',\n",
    "                    'WebframeHaveWorkedWith', 'WebframeWantToWorkWith',\n",
    "                    'MiscTechHaveWorkedWith', 'MiscTechWantToWorkWith', \n",
    "                    ]"
   ]
  },
  {
   "cell_type": "code",
   "execution_count": 36,
   "metadata": {},
   "outputs": [
    {
     "data": {
      "text/html": [
       "<div>\n",
       "<style scoped>\n",
       "    .dataframe tbody tr th:only-of-type {\n",
       "        vertical-align: middle;\n",
       "    }\n",
       "\n",
       "    .dataframe tbody tr th {\n",
       "        vertical-align: top;\n",
       "    }\n",
       "\n",
       "    .dataframe thead th {\n",
       "        text-align: right;\n",
       "    }\n",
       "</style>\n",
       "<table border=\"1\" class=\"dataframe\">\n",
       "  <thead>\n",
       "    <tr style=\"text-align: right;\">\n",
       "      <th></th>\n",
       "      <th>MainBranch</th>\n",
       "      <th>Country</th>\n",
       "      <th>Age</th>\n",
       "      <th>Gender</th>\n",
       "      <th>EdLevel</th>\n",
       "      <th>RemoteWork</th>\n",
       "      <th>DevType</th>\n",
       "      <th>LearnCodeCoursesCert</th>\n",
       "      <th>LanguageHaveWorkedWith</th>\n",
       "      <th>LanguageWantToWorkWith</th>\n",
       "      <th>DatabaseHaveWorkedWith</th>\n",
       "      <th>DatabaseWantToWorkWith</th>\n",
       "      <th>PlatformHaveWorkedWith</th>\n",
       "      <th>PlatformWantToWorkWith</th>\n",
       "      <th>WebframeHaveWorkedWith</th>\n",
       "      <th>WebframeWantToWorkWith</th>\n",
       "      <th>MiscTechHaveWorkedWith</th>\n",
       "      <th>MiscTechWantToWorkWith</th>\n",
       "      <th>ToolsTechHaveWorkedWith</th>\n",
       "      <th>ToolsTechWantToWorkWith</th>\n",
       "      <th>NEWCollabToolsHaveWorkedWith</th>\n",
       "      <th>NEWCollabToolsWantToWorkWith</th>\n",
       "      <th>OpSysPersonal use</th>\n",
       "      <th>OfficeStackAsyncHaveWorkedWith</th>\n",
       "      <th>OfficeStackAsyncWantToWorkWith</th>\n",
       "      <th>Employment</th>\n",
       "      <th>CompFreq</th>\n",
       "      <th>NEWSOSites</th>\n",
       "      <th>SOVisitFreq</th>\n",
       "      <th>SOAccount</th>\n",
       "      <th>SOPartFreq</th>\n",
       "      <th>SOComm</th>\n",
       "    </tr>\n",
       "    <tr>\n",
       "      <th>Titles</th>\n",
       "      <th></th>\n",
       "      <th></th>\n",
       "      <th></th>\n",
       "      <th></th>\n",
       "      <th></th>\n",
       "      <th></th>\n",
       "      <th></th>\n",
       "      <th></th>\n",
       "      <th></th>\n",
       "      <th></th>\n",
       "      <th></th>\n",
       "      <th></th>\n",
       "      <th></th>\n",
       "      <th></th>\n",
       "      <th></th>\n",
       "      <th></th>\n",
       "      <th></th>\n",
       "      <th></th>\n",
       "      <th></th>\n",
       "      <th></th>\n",
       "      <th></th>\n",
       "      <th></th>\n",
       "      <th></th>\n",
       "      <th></th>\n",
       "      <th></th>\n",
       "      <th></th>\n",
       "      <th></th>\n",
       "      <th></th>\n",
       "      <th></th>\n",
       "      <th></th>\n",
       "      <th></th>\n",
       "      <th></th>\n",
       "    </tr>\n",
       "  </thead>\n",
       "  <tbody>\n",
       "    <tr>\n",
       "      <th>missing_ratio</th>\n",
       "      <td>0.0</td>\n",
       "      <td>2.1</td>\n",
       "      <td>3.9</td>\n",
       "      <td>3.3</td>\n",
       "      <td>2.3</td>\n",
       "      <td>19.7</td>\n",
       "      <td>16.4</td>\n",
       "      <td>59.9</td>\n",
       "      <td>3.1</td>\n",
       "      <td>8.5</td>\n",
       "      <td>18.0</td>\n",
       "      <td>30.4</td>\n",
       "      <td>31.9</td>\n",
       "      <td>44.9</td>\n",
       "      <td>27.0</td>\n",
       "      <td>37.1</td>\n",
       "      <td>38.6</td>\n",
       "      <td>49.8</td>\n",
       "      <td>26.1</td>\n",
       "      <td>36.4</td>\n",
       "      <td>4.0</td>\n",
       "      <td>12.4</td>\n",
       "      <td>3.2</td>\n",
       "      <td>37.0</td>\n",
       "      <td>56.3</td>\n",
       "      <td>2.1</td>\n",
       "      <td>39.5</td>\n",
       "      <td>2.6</td>\n",
       "      <td>3.1</td>\n",
       "      <td>2.3</td>\n",
       "      <td>20.5</td>\n",
       "      <td>2.6</td>\n",
       "    </tr>\n",
       "    <tr>\n",
       "      <th>num_values</th>\n",
       "      <td>6</td>\n",
       "      <td>180</td>\n",
       "      <td>7</td>\n",
       "      <td>5</td>\n",
       "      <td>9</td>\n",
       "      <td>3</td>\n",
       "      <td>29</td>\n",
       "      <td>8</td>\n",
       "      <td>42</td>\n",
       "      <td>42</td>\n",
       "      <td>17</td>\n",
       "      <td>17</td>\n",
       "      <td>14</td>\n",
       "      <td>14</td>\n",
       "      <td>25</td>\n",
       "      <td>25</td>\n",
       "      <td>23</td>\n",
       "      <td>23</td>\n",
       "      <td>13</td>\n",
       "      <td>13</td>\n",
       "      <td>27</td>\n",
       "      <td>27</td>\n",
       "      <td>6</td>\n",
       "      <td>21</td>\n",
       "      <td>21</td>\n",
       "      <td>9</td>\n",
       "      <td>3</td>\n",
       "      <td>5</td>\n",
       "      <td>5</td>\n",
       "      <td>3</td>\n",
       "      <td>6</td>\n",
       "      <td>6</td>\n",
       "    </tr>\n",
       "    <tr>\n",
       "      <th>value_ratios</th>\n",
       "      <td>{'I am a developer by profession': 72.9, 'I am learning to code': 8.7, 'I am not primarily a dev...</td>\n",
       "      <td>{'United States of America': 18.9, 'India': 9.2, 'Germany': 7.5, 'United Kingdom of Great Britai...</td>\n",
       "      <td>{(25, 34): 39.9, (18, 24): 23.7, (35, 44): 19.8, (45, 54): 7.5, (0, 17): 5.5, (55, 64): 2.8, (65...</td>\n",
       "      <td>{'Man': 90.9, 'Woman': 5.1, 'Non-binary, genderqueer, or gender non-conforming': 1.7, 'Prefer no...</td>\n",
       "      <td>{'Bachelor’s degree (B.A., B.S., B.Eng., etc.)': 42.3, 'Master’s degree (M.A., M.S., M.Eng., MBA...</td>\n",
       "      <td>{'Fully remote': 43.0, 'Hybrid (some remote, some in-person)': 42.5, 'Full in-person': 14.5}</td>\n",
       "      <td>{'Developer, full-stack': 17.4, 'Developer, back-end': 16.2, 'Developer, front-end': 9.7, 'Devel...</td>\n",
       "      <td>{'Udemy': 32.7, 'Coursera': 17.2, 'Codecademy': 12.9, 'Pluralsight': 11.0, 'Other': 10.9, 'edX':...</td>\n",
       "      <td>{'JavaScript': 12.6, 'HTML/CSS': 10.6, 'SQL': 9.6, 'Python': 9.3, 'TypeScript': 6.7, 'Java': 6.4...</td>\n",
       "      <td>{'JavaScript': 10.3, 'Python': 9.6, 'TypeScript': 8.5, 'HTML/CSS': 8.3, 'SQL': 8.1, 'Rust': 5.6,...</td>\n",
       "      <td>{'MySQL': 17.0, 'PostgreSQL': 15.9, 'SQLite': 11.6, 'MongoDB': 10.3, 'Microsoft SQL Server': 9.8...</td>\n",
       "      <td>{'PostgreSQL': 17.9, 'MongoDB': 12.3, 'MySQL': 11.5, 'Redis': 11.5, 'SQLite': 10.0, 'Microsoft S...</td>\n",
       "      <td>{'AWS': 26.5, 'Microsoft Azure': 14.9, 'Google Cloud': 13.9, 'Firebase': 11.0, 'Heroku': 10.4, '...</td>\n",
       "      <td>{'AWS': 28.5, 'Google Cloud': 16.1, 'Microsoft Azure': 15.4, 'Firebase': 10.4, 'DigitalOcean': 8...</td>\n",
       "      <td>{'Node.js': 15.0, 'React.js': 13.5, 'jQuery': 9.0, 'Express': 7.3, 'Angular': 6.5, 'Vue.js': 6.0...</td>\n",
       "      <td>{'React.js': 14.2, 'Node.js': 13.6, 'Vue.js': 8.2, 'Next.js': 6.7, 'Express': 6.0, 'ASP.NET Core...</td>\n",
       "      <td>{'.NET': 14.8, 'NumPy': 12.3, 'Pandas': 10.8, 'Spring': 6.9, 'TensorFlow': 5.6, 'Scikit-learn': ...</td>\n",
       "      <td>{'.NET': 11.4, 'NumPy': 9.9, 'Pandas': 8.8, 'TensorFlow': 8.6, 'Flutter': 7.7, 'React Native': 6...</td>\n",
       "      <td>{'npm': 26.5, 'Docker': 25.9, 'Yarn': 11.2, 'Homebrew': 10.7, 'Kubernetes': 9.3, 'Terraform': 4....</td>\n",
       "      <td>{'Docker': 26.2, 'npm': 18.6, 'Kubernetes': 15.0, 'Yarn': 9.0, 'Homebrew': 8.4, 'Terraform': 6.5...</td>\n",
       "      <td>{'Visual Studio Code': 21.3, 'Visual Studio': 9.2, 'IntelliJ': 8.0, 'Notepad++': 7.9, 'Vim': 6.7...</td>\n",
       "      <td>{'Visual Studio Code': 25.1, 'Visual Studio': 8.5, 'IntelliJ': 8.5, 'Vim': 7.3, 'Notepad++': 6.6...</td>\n",
       "      <td>{'Windows': 41.4, 'Linux-based': 26.7, 'macOS': 20.6, 'Windows Subsystem for Linux (WSL)': 10.0,...</td>\n",
       "      <td>{'Jira Work Management': 28.0, 'Confluence': 22.6, 'Trello': 18.9, 'Notion': 11.2, 'Asana': 4.5,...</td>\n",
       "      <td>{'Jira Work Management': 27.2, 'Confluence': 19.6, 'Trello': 16.6, 'Notion': 14.7, 'Stack Overfl...</td>\n",
       "      <td>{'Employed, full-time': 58.2, 'Student, full-time': 13.1, 'Independent contractor, freelancer, o...</td>\n",
       "      <td>{'Yearly': 52.6, 'Monthly': 44.8, 'Weekly': 2.6}</td>\n",
       "      <td>{'Stack Overflow': 53.6, 'Stack Exchange': 37.8, 'Collectives on Stack Overflow': 5.2, 'Stack Ov...</td>\n",
       "      <td>{'Daily or almost daily': 30.6, 'A few times per week': 27.9, 'Multiple times per day': 22.5, 'A...</td>\n",
       "      <td>{'Yes': 81.8, 'No': 12.5, 'Not sure/can't remember': 5.7}</td>\n",
       "      <td>{'Less than once per month or monthly': 46.1, 'I have never participated in Q&amp;A on Stack Overflo...</td>\n",
       "      <td>{'Yes, somewhat': 27.6, 'No, not really': 26.3, 'Neutral': 20.9, 'Yes, definitely': 14.5, 'No, n...</td>\n",
       "    </tr>\n",
       "  </tbody>\n",
       "</table>\n",
       "</div>"
      ],
      "text/plain": [
       "                                                                                                        MainBranch  \\\n",
       "Titles                                                                                                               \n",
       "missing_ratio                                                                                                  0.0   \n",
       "num_values                                                                                                       6   \n",
       "value_ratios   {'I am a developer by profession': 72.9, 'I am learning to code': 8.7, 'I am not primarily a dev...   \n",
       "\n",
       "                                                                                                           Country  \\\n",
       "Titles                                                                                                               \n",
       "missing_ratio                                                                                                  2.1   \n",
       "num_values                                                                                                     180   \n",
       "value_ratios   {'United States of America': 18.9, 'India': 9.2, 'Germany': 7.5, 'United Kingdom of Great Britai...   \n",
       "\n",
       "                                                                                                               Age  \\\n",
       "Titles                                                                                                               \n",
       "missing_ratio                                                                                                  3.9   \n",
       "num_values                                                                                                       7   \n",
       "value_ratios   {(25, 34): 39.9, (18, 24): 23.7, (35, 44): 19.8, (45, 54): 7.5, (0, 17): 5.5, (55, 64): 2.8, (65...   \n",
       "\n",
       "                                                                                                            Gender  \\\n",
       "Titles                                                                                                               \n",
       "missing_ratio                                                                                                  3.3   \n",
       "num_values                                                                                                       5   \n",
       "value_ratios   {'Man': 90.9, 'Woman': 5.1, 'Non-binary, genderqueer, or gender non-conforming': 1.7, 'Prefer no...   \n",
       "\n",
       "                                                                                                           EdLevel  \\\n",
       "Titles                                                                                                               \n",
       "missing_ratio                                                                                                  2.3   \n",
       "num_values                                                                                                       9   \n",
       "value_ratios   {'Bachelor’s degree (B.A., B.S., B.Eng., etc.)': 42.3, 'Master’s degree (M.A., M.S., M.Eng., MBA...   \n",
       "\n",
       "                                                                                                 RemoteWork  \\\n",
       "Titles                                                                                                        \n",
       "missing_ratio                                                                                          19.7   \n",
       "num_values                                                                                                3   \n",
       "value_ratios   {'Fully remote': 43.0, 'Hybrid (some remote, some in-person)': 42.5, 'Full in-person': 14.5}   \n",
       "\n",
       "                                                                                                           DevType  \\\n",
       "Titles                                                                                                               \n",
       "missing_ratio                                                                                                 16.4   \n",
       "num_values                                                                                                      29   \n",
       "value_ratios   {'Developer, full-stack': 17.4, 'Developer, back-end': 16.2, 'Developer, front-end': 9.7, 'Devel...   \n",
       "\n",
       "                                                                                              LearnCodeCoursesCert  \\\n",
       "Titles                                                                                                               \n",
       "missing_ratio                                                                                                 59.9   \n",
       "num_values                                                                                                       8   \n",
       "value_ratios   {'Udemy': 32.7, 'Coursera': 17.2, 'Codecademy': 12.9, 'Pluralsight': 11.0, 'Other': 10.9, 'edX':...   \n",
       "\n",
       "                                                                                            LanguageHaveWorkedWith  \\\n",
       "Titles                                                                                                               \n",
       "missing_ratio                                                                                                  3.1   \n",
       "num_values                                                                                                      42   \n",
       "value_ratios   {'JavaScript': 12.6, 'HTML/CSS': 10.6, 'SQL': 9.6, 'Python': 9.3, 'TypeScript': 6.7, 'Java': 6.4...   \n",
       "\n",
       "                                                                                            LanguageWantToWorkWith  \\\n",
       "Titles                                                                                                               \n",
       "missing_ratio                                                                                                  8.5   \n",
       "num_values                                                                                                      42   \n",
       "value_ratios   {'JavaScript': 10.3, 'Python': 9.6, 'TypeScript': 8.5, 'HTML/CSS': 8.3, 'SQL': 8.1, 'Rust': 5.6,...   \n",
       "\n",
       "                                                                                            DatabaseHaveWorkedWith  \\\n",
       "Titles                                                                                                               \n",
       "missing_ratio                                                                                                 18.0   \n",
       "num_values                                                                                                      17   \n",
       "value_ratios   {'MySQL': 17.0, 'PostgreSQL': 15.9, 'SQLite': 11.6, 'MongoDB': 10.3, 'Microsoft SQL Server': 9.8...   \n",
       "\n",
       "                                                                                            DatabaseWantToWorkWith  \\\n",
       "Titles                                                                                                               \n",
       "missing_ratio                                                                                                 30.4   \n",
       "num_values                                                                                                      17   \n",
       "value_ratios   {'PostgreSQL': 17.9, 'MongoDB': 12.3, 'MySQL': 11.5, 'Redis': 11.5, 'SQLite': 10.0, 'Microsoft S...   \n",
       "\n",
       "                                                                                            PlatformHaveWorkedWith  \\\n",
       "Titles                                                                                                               \n",
       "missing_ratio                                                                                                 31.9   \n",
       "num_values                                                                                                      14   \n",
       "value_ratios   {'AWS': 26.5, 'Microsoft Azure': 14.9, 'Google Cloud': 13.9, 'Firebase': 11.0, 'Heroku': 10.4, '...   \n",
       "\n",
       "                                                                                            PlatformWantToWorkWith  \\\n",
       "Titles                                                                                                               \n",
       "missing_ratio                                                                                                 44.9   \n",
       "num_values                                                                                                      14   \n",
       "value_ratios   {'AWS': 28.5, 'Google Cloud': 16.1, 'Microsoft Azure': 15.4, 'Firebase': 10.4, 'DigitalOcean': 8...   \n",
       "\n",
       "                                                                                            WebframeHaveWorkedWith  \\\n",
       "Titles                                                                                                               \n",
       "missing_ratio                                                                                                 27.0   \n",
       "num_values                                                                                                      25   \n",
       "value_ratios   {'Node.js': 15.0, 'React.js': 13.5, 'jQuery': 9.0, 'Express': 7.3, 'Angular': 6.5, 'Vue.js': 6.0...   \n",
       "\n",
       "                                                                                            WebframeWantToWorkWith  \\\n",
       "Titles                                                                                                               \n",
       "missing_ratio                                                                                                 37.1   \n",
       "num_values                                                                                                      25   \n",
       "value_ratios   {'React.js': 14.2, 'Node.js': 13.6, 'Vue.js': 8.2, 'Next.js': 6.7, 'Express': 6.0, 'ASP.NET Core...   \n",
       "\n",
       "                                                                                            MiscTechHaveWorkedWith  \\\n",
       "Titles                                                                                                               \n",
       "missing_ratio                                                                                                 38.6   \n",
       "num_values                                                                                                      23   \n",
       "value_ratios   {'.NET': 14.8, 'NumPy': 12.3, 'Pandas': 10.8, 'Spring': 6.9, 'TensorFlow': 5.6, 'Scikit-learn': ...   \n",
       "\n",
       "                                                                                            MiscTechWantToWorkWith  \\\n",
       "Titles                                                                                                               \n",
       "missing_ratio                                                                                                 49.8   \n",
       "num_values                                                                                                      23   \n",
       "value_ratios   {'.NET': 11.4, 'NumPy': 9.9, 'Pandas': 8.8, 'TensorFlow': 8.6, 'Flutter': 7.7, 'React Native': 6...   \n",
       "\n",
       "                                                                                           ToolsTechHaveWorkedWith  \\\n",
       "Titles                                                                                                               \n",
       "missing_ratio                                                                                                 26.1   \n",
       "num_values                                                                                                      13   \n",
       "value_ratios   {'npm': 26.5, 'Docker': 25.9, 'Yarn': 11.2, 'Homebrew': 10.7, 'Kubernetes': 9.3, 'Terraform': 4....   \n",
       "\n",
       "                                                                                           ToolsTechWantToWorkWith  \\\n",
       "Titles                                                                                                               \n",
       "missing_ratio                                                                                                 36.4   \n",
       "num_values                                                                                                      13   \n",
       "value_ratios   {'Docker': 26.2, 'npm': 18.6, 'Kubernetes': 15.0, 'Yarn': 9.0, 'Homebrew': 8.4, 'Terraform': 6.5...   \n",
       "\n",
       "                                                                                      NEWCollabToolsHaveWorkedWith  \\\n",
       "Titles                                                                                                               \n",
       "missing_ratio                                                                                                  4.0   \n",
       "num_values                                                                                                      27   \n",
       "value_ratios   {'Visual Studio Code': 21.3, 'Visual Studio': 9.2, 'IntelliJ': 8.0, 'Notepad++': 7.9, 'Vim': 6.7...   \n",
       "\n",
       "                                                                                      NEWCollabToolsWantToWorkWith  \\\n",
       "Titles                                                                                                               \n",
       "missing_ratio                                                                                                 12.4   \n",
       "num_values                                                                                                      27   \n",
       "value_ratios   {'Visual Studio Code': 25.1, 'Visual Studio': 8.5, 'IntelliJ': 8.5, 'Vim': 7.3, 'Notepad++': 6.6...   \n",
       "\n",
       "                                                                                                 OpSysPersonal use  \\\n",
       "Titles                                                                                                               \n",
       "missing_ratio                                                                                                  3.2   \n",
       "num_values                                                                                                       6   \n",
       "value_ratios   {'Windows': 41.4, 'Linux-based': 26.7, 'macOS': 20.6, 'Windows Subsystem for Linux (WSL)': 10.0,...   \n",
       "\n",
       "                                                                                    OfficeStackAsyncHaveWorkedWith  \\\n",
       "Titles                                                                                                               \n",
       "missing_ratio                                                                                                 37.0   \n",
       "num_values                                                                                                      21   \n",
       "value_ratios   {'Jira Work Management': 28.0, 'Confluence': 22.6, 'Trello': 18.9, 'Notion': 11.2, 'Asana': 4.5,...   \n",
       "\n",
       "                                                                                    OfficeStackAsyncWantToWorkWith  \\\n",
       "Titles                                                                                                               \n",
       "missing_ratio                                                                                                 56.3   \n",
       "num_values                                                                                                      21   \n",
       "value_ratios   {'Jira Work Management': 27.2, 'Confluence': 19.6, 'Trello': 16.6, 'Notion': 14.7, 'Stack Overfl...   \n",
       "\n",
       "                                                                                                        Employment  \\\n",
       "Titles                                                                                                               \n",
       "missing_ratio                                                                                                  2.1   \n",
       "num_values                                                                                                       9   \n",
       "value_ratios   {'Employed, full-time': 58.2, 'Student, full-time': 13.1, 'Independent contractor, freelancer, o...   \n",
       "\n",
       "                                                       CompFreq  \\\n",
       "Titles                                                            \n",
       "missing_ratio                                              39.5   \n",
       "num_values                                                    3   \n",
       "value_ratios   {'Yearly': 52.6, 'Monthly': 44.8, 'Weekly': 2.6}   \n",
       "\n",
       "                                                                                                        NEWSOSites  \\\n",
       "Titles                                                                                                               \n",
       "missing_ratio                                                                                                  2.6   \n",
       "num_values                                                                                                       5   \n",
       "value_ratios   {'Stack Overflow': 53.6, 'Stack Exchange': 37.8, 'Collectives on Stack Overflow': 5.2, 'Stack Ov...   \n",
       "\n",
       "                                                                                                       SOVisitFreq  \\\n",
       "Titles                                                                                                               \n",
       "missing_ratio                                                                                                  3.1   \n",
       "num_values                                                                                                       5   \n",
       "value_ratios   {'Daily or almost daily': 30.6, 'A few times per week': 27.9, 'Multiple times per day': 22.5, 'A...   \n",
       "\n",
       "                                                               SOAccount  \\\n",
       "Titles                                                                     \n",
       "missing_ratio                                                        2.3   \n",
       "num_values                                                             3   \n",
       "value_ratios   {'Yes': 81.8, 'No': 12.5, 'Not sure/can't remember': 5.7}   \n",
       "\n",
       "                                                                                                        SOPartFreq  \\\n",
       "Titles                                                                                                               \n",
       "missing_ratio                                                                                                 20.5   \n",
       "num_values                                                                                                       6   \n",
       "value_ratios   {'Less than once per month or monthly': 46.1, 'I have never participated in Q&A on Stack Overflo...   \n",
       "\n",
       "                                                                                                            SOComm  \n",
       "Titles                                                                                                              \n",
       "missing_ratio                                                                                                  2.6  \n",
       "num_values                                                                                                       6  \n",
       "value_ratios   {'Yes, somewhat': 27.6, 'No, not really': 26.3, 'Neutral': 20.9, 'Yes, definitely': 14.5, 'No, n...  "
      ]
     },
     "execution_count": 36,
     "metadata": {},
     "output_type": "execute_result"
    }
   ],
   "source": [
    "pd.set_option('display.max_colwidth', 100) # Để dễ nhìn\n",
    "pd.set_option('display.max_columns', None) # Để dễ nhìn\n",
    "\n",
    "# YOUR CODE HERE\n",
    "\n",
    "def cat_col_info(df):\n",
    "    object_df=df.select_dtypes(exclude=['float32','float64','int32','int64'])\n",
    "    col_names=list(object_df.columns)\n",
    "    rows_names=[\"missing_ratio\", \"num_values\", \"value_ratios\"]\n",
    "    phong=[]\n",
    "    dic={}\n",
    "    for i in col_names:\n",
    "        df=object_df.copy()[[i]]\n",
    "        size=len(df)\n",
    "        if i!='Age':\n",
    "            new=list(df[i].values)\n",
    "            new=[value.split(';') if type(value)==str else np.nan for value in new ]\n",
    "            df[i]=new\n",
    "            df=df.explode(i)\n",
    "        temp=[]\n",
    "        if i!='Age':\n",
    "            temp.append(((df[i].isnull().sum()/size)*100).round(1))\n",
    "            df.dropna(inplace=True)\n",
    "        else:\n",
    "            temp.append(((df[i].value_counts()[(np.nan,np.nan)]/len(df))*100).round(1))\n",
    "            df=df[df.Age!=(np.nan,np.nan)]\n",
    "        vals=list(df[i].values)\n",
    "        num_vals=list(set(vals))\n",
    "        temp.append(len(num_vals))\n",
    "        temp2={}\n",
    "        new=[(df[i].value_counts()[j]/len(vals)*100).round(1) for j in num_vals]\n",
    "        temp2={num_vals[j]:new[j] for j in range(len(num_vals))}\n",
    "        temp2_sort={k:v for k,v in sorted(temp2.items(), key= lambda item:item[1], reverse=True)}\n",
    "        temp.append(temp2_sort)\n",
    "        phong.append(temp)\n",
    "    dic={col_names[i]:phong[i] for i in range(len(col_names))}\n",
    "    dic['Titles']=rows_names\n",
    "    cat_col_info_df=pd.DataFrame(dic).set_index('Titles')\n",
    "    return cat_col_info_df\n",
    "\n",
    "cat_col_info_df=cat_col_info(survey_df)\n",
    "cat_col_info_df"
   ]
  },
  {
   "cell_type": "code",
   "execution_count": 37,
   "metadata": {},
   "outputs": [],
   "source": [
    "# TEST\n",
    "c = cat_col_info_df['MainBranch']\n",
    "assert c.loc['missing_ratio'] == 0.0\n",
    "assert c.loc['num_values'] == 6\n",
    "assert c.loc['value_ratios']['I am a developer by profession'] == 72.9\n",
    "\n",
    "c = cat_col_info_df['DevType']\n",
    "assert c.loc['missing_ratio'] == 16.4\n",
    "assert c.loc['num_values'] == 29\n",
    "assert c.loc['value_ratios']['Academic researcher'] == 1.6\n",
    "\n",
    "c = cat_col_info_df['PlatformHaveWorkedWith']\n",
    "assert c.loc['missing_ratio'] == 31.9\n",
    "assert c.loc['num_values'] == 14\n",
    "assert c.loc['value_ratios']['DigitalOcean'] == 8.1"
   ]
  },
  {
   "cell_type": "markdown",
   "metadata": {},
   "source": [
    "## Đặt câu hỏi \n",
    "\n",
    "Sau khi khám phá dữ liệu, ta đã hiểu hơn về dữ liệu. Bây giờ, ta hãy xem thử có câu hỏi nào có thể được trả lời bằng dữ liệu này.\n",
    "\n",
    "**Một câu hỏi có thể có là:** Platform nào (Windows, Linux, Docker, AWS, ...) được yêu thích nhất, platform nào được yêu thích nhì, platform nào được yêu thích ba, ...?\n",
    "\n",
    "Một platform được xem là được yêu thích nếu một người đã dùng platform này (cột \"PlatformHaveWorkedWith\") và muốn tiếp tục dùng platform trong năm kế (cột \"PlatformWantToWorkWith\").\n",
    "\n",
    "**Trả lời được câu hỏi này sẽ** phần nào giúp ta định hướng là nên tập trung học platform nào để có thể chuẩn bị cho tương lai (mình nói \"phần nào\" vì ở đây dữ liệu chỉ giới hạn trong phạm vi những người làm khảo sát của StackOverflow)."
   ]
  },
  {
   "cell_type": "markdown",
   "metadata": {},
   "source": [
    "## Tiền xử lý\n",
    "\n",
    "Nếu bạn thấy cần thực hiện thêm thao tác tiền xử lý để chuẩn bị dữ liệu cho bước phân tích thì bạn làm ở đây. Bước này là không bắt buộc. "
   ]
  },
  {
   "cell_type": "code",
   "execution_count": 38,
   "metadata": {},
   "outputs": [],
   "source": [
    "# YOUR CODE HERE (OPTION) \n",
    "cat_col_info_df=cat_col_info(survey_df)\n",
    "list_all_platform_names_2cols=list(cat_col_info_df['PlatformHaveWorkedWith']['value_ratios'].keys())+list(cat_col_info_df['PlatformWantToWorkWith']['value_ratios'].keys())            \n",
    "platform_names=functools.reduce(lambda l, x: l.append(x) or l if x not in l else l, list_all_platform_names_2cols, [])\n",
    "\n",
    "#tìm ra những phần giao giữa 2 danh sách 'PlatformHaveWorkedWith' và 'PlatformWantToWorkWith'\n",
    "def intersection(list1,list2):\n",
    "    size=min(len(list1),len(list2))\n",
    "    if len(list1)<len(list2):\n",
    "        first,second=list1,list2\n",
    "    else:\n",
    "        first,second=list2,list1\n",
    "    return [first[i] for i in range(len(first)) if first[i] in second]"
   ]
  },
  {
   "cell_type": "markdown",
   "metadata": {},
   "source": [
    "## Phân tích dữ liệu - Điểm: (2đ)\n",
    "\n",
    "Bây giờ, bạn sẽ thực hiện phân tích dữ liệu để trả lời cho câu hỏi ở trên. Cụ thể các bước như sau:\n",
    "- Bước 1: tính Series `most_loved_platforms`, trong đó: \n",
    "    - Index là tên flatform (ở bước khám phá dữ liệu, bạn đã thấy có tất cả 16 platform)\n",
    "    - Data là tỉ lệ % (từ 0 đến 100, được làm tròn với một chữ số thập phân bằng phương thức `round(1)`) được yêu thích (được sort giảm dần) \n",
    "- Bước 2: từ Series `most_loved_platforms`, bạn vẽ bar chart:\n",
    "    - Bạn cho các bar nằm ngang (cho dễ nhìn)\n",
    "    - Bạn đặt tên trục hoành là \"Tỉ lệ %\""
   ]
  },
  {
   "cell_type": "code",
   "execution_count": 39,
   "metadata": {},
   "outputs": [
    {
     "name": "stderr",
     "output_type": "stream",
     "text": [
      "C:\\Users\\FPT SHOP\\AppData\\Local\\Temp\\ipykernel_9360\\2030230316.py:4: SettingWithCopyWarning: \n",
      "A value is trying to be set on a copy of a slice from a DataFrame\n",
      "\n",
      "See the caveats in the documentation: https://pandas.pydata.org/pandas-docs/stable/user_guide/indexing.html#returning-a-view-versus-a-copy\n",
      "  platforms_df.dropna(inplace=True)\n"
     ]
    },
    {
     "data": {
      "text/plain": [
       "AWS                            30.6\n",
       "Microsoft Azure                15.5\n",
       "Google Cloud                   14.1\n",
       "Firebase                       11.0\n",
       "DigitalOcean                    8.1\n",
       "Heroku                          7.9\n",
       "VMware                          3.3\n",
       "Managed Hosting                 2.8\n",
       "Linode                          2.0\n",
       "OVH                             1.6\n",
       "Oracle Cloud Infrastructure     1.0\n",
       "OpenStack                       0.8\n",
       "IBM Cloud or Watson             0.6\n",
       "Colocation                      0.6\n",
       "dtype: float64"
      ]
     },
     "execution_count": 39,
     "metadata": {},
     "output_type": "execute_result"
    }
   ],
   "source": [
    "# YOUR CODE HERE\n",
    "def find_most_loved_platforms_2022(df):\n",
    "    platforms_df=survey_df[['PlatformHaveWorkedWith','PlatformWantToWorkWith']]\n",
    "    platforms_df.dropna(inplace=True)\n",
    "    list1=list(platforms_df['PlatformHaveWorkedWith'].values)\n",
    "    list1=[value.split(';') if type(value)==str else np.nan for value in list1 ]\n",
    "    list2=list(platforms_df['PlatformWantToWorkWith'].values)\n",
    "    list2=[value.split(';') if type(value)==str else np.nan for value in list2 ]\n",
    "    raw_pfs=[intersection(list1[i],list2[i]) for i in range(len(list1)) if list1[i]!=np.nan and list2[i]!=np.nan]\n",
    "    clear_raw_pfs =[item for item in raw_pfs if item !=[]]\n",
    "    raw_most_loved=pd.DataFrame({'data':clear_raw_pfs})\n",
    "    raw_most_loved=raw_most_loved.explode('data')\n",
    "    percents=[]\n",
    "    for i in platform_names:\n",
    "        percents.append(((raw_most_loved['data'].value_counts()[i]/len(raw_most_loved))*100).round(1))\n",
    "    most_loved_platforms=pd.Series(index=platform_names,data=percents)\n",
    "    most_loved_platforms=most_loved_platforms.sort_values(ascending=False)\n",
    "    return most_loved_platforms\n",
    "\n",
    "most_loved_platforms=find_most_loved_platforms_2022(survey_df)\n",
    "most_loved_platforms"
   ]
  },
  {
   "cell_type": "code",
   "execution_count": 40,
   "metadata": {},
   "outputs": [
    {
     "data": {
      "image/png": "[encoded data removed]",
      "text/plain": [
       "<Figure size 432x288 with 1 Axes>"
      ]
     },
     "metadata": {
      "needs_background": "light"
     },
     "output_type": "display_data"
    }
   ],
   "source": [
    "# YOUR CODE HERE\n",
    "def bar_chart(most_loved_platforms_year,title):\n",
    "    plt.barh(list(most_loved_platforms_year.index), list(most_loved_platforms_year.values), color='green', edgecolor='black')\n",
    "    plt.xlabel('Ratio (%)')\n",
    "    plt.ylabel('Platform')\n",
    "    plt.title(title)\n",
    "    plt.show();\n",
    "\n",
    "bar_chart(most_loved_platforms,'Most loved platforms in 2022')"
   ]
  },
  {
   "cell_type": "markdown",
   "metadata": {},
   "source": [
    "Có điều gì thay đổi trong hai năm vừa qua, các bạn hãy tìm hiểu bằng cách trực quan với các năm 2020, 2021 nhé!"
   ]
  },
  {
   "cell_type": "code",
   "execution_count": 41,
   "metadata": {},
   "outputs": [
    {
     "name": "stderr",
     "output_type": "stream",
     "text": [
      "C:\\Users\\FPT SHOP\\AppData\\Local\\Temp\\ipykernel_9360\\1901106104.py:33: SettingWithCopyWarning: \n",
      "A value is trying to be set on a copy of a slice from a DataFrame\n",
      "\n",
      "See the caveats in the documentation: https://pandas.pydata.org/pandas-docs/stable/user_guide/indexing.html#returning-a-view-versus-a-copy\n",
      "  platforms_df.dropna(inplace=True)\n",
      "C:\\Users\\FPT SHOP\\AppData\\Local\\Temp\\ipykernel_9360\\1901106104.py:11: SettingWithCopyWarning: \n",
      "A value is trying to be set on a copy of a slice from a DataFrame\n",
      "\n",
      "See the caveats in the documentation: https://pandas.pydata.org/pandas-docs/stable/user_guide/indexing.html#returning-a-view-versus-a-copy\n",
      "  platforms_df.dropna(inplace=True)\n"
     ]
    },
    {
     "data": {
      "image/png": "[encoded data removed]",
      "text/plain": [
       "<Figure size 432x288 with 1 Axes>"
      ]
     },
     "metadata": {
      "needs_background": "light"
     },
     "output_type": "display_data"
    },
    {
     "data": {
      "image/png": "[encoded data removed]",
      "text/plain": [
       "<Figure size 432x288 with 1 Axes>"
      ]
     },
     "metadata": {
      "needs_background": "light"
     },
     "output_type": "display_data"
    },
    {
     "data": {
      "image/png": "[encoded data removed]",
      "text/plain": [
       "<Figure size 432x288 with 1 Axes>"
      ]
     },
     "metadata": {
      "needs_background": "light"
     },
     "output_type": "display_data"
    }
   ],
   "source": [
    "# YOUR CODE HERE\n",
    "#read dataset\n",
    "survey_2020_df=pd.read_csv(f'./data/2020/survey_results_public.csv').set_index('Respondent')\n",
    "survey_2021_df=pd.read_csv(f'./data/2021/survey_results_public.csv').set_index('ResponseId')\n",
    "\n",
    "def find_most_loved_platforms_2020(df):\n",
    "    cat_col_info_df=cat_col_info(df)\n",
    "    list_all_platform_names_2cols=list(cat_col_info_df['PlatformWorkedWith']['value_ratios'].keys())+list(cat_col_info_df['PlatformDesireNextYear']['value_ratios'].keys())            \n",
    "    platform_names=functools.reduce(lambda l, x: l.append(x) or l if x not in l else l, list_all_platform_names_2cols, [])\n",
    "    platforms_df=survey_2020_df[['PlatformWorkedWith','PlatformDesireNextYear']]\n",
    "    platforms_df.dropna(inplace=True)\n",
    "    list1=list(platforms_df['PlatformWorkedWith'].values)\n",
    "    list1=[value.split(';') if type(value)==str else np.nan for value in list1 ]\n",
    "    list2=list(platforms_df['PlatformDesireNextYear'].values)\n",
    "    list2=[value.split(';') if type(value)==str else np.nan for value in list2 ]\n",
    "    raw_pfs=[intersection(list1[i],list2[i]) for i in range(len(list1)) if list1[i]!=np.nan and list2[i]!=np.nan]\n",
    "    clear_raw_pfs =[item for item in raw_pfs if item !=[]]\n",
    "    raw_most_loved=pd.DataFrame({'data':clear_raw_pfs})\n",
    "    raw_most_loved=raw_most_loved.explode('data')\n",
    "    percents=[]\n",
    "    for i in platform_names:\n",
    "        percents.append(((raw_most_loved['data'].value_counts()[i]/len(raw_most_loved))*100).round(1))\n",
    "    most_loved_platforms_2020=pd.Series(index=platform_names,data=percents)\n",
    "    most_loved_platforms_2020=most_loved_platforms.sort_values(ascending=False)\n",
    "    return most_loved_platforms_2020\n",
    "\n",
    "def find_most_loved_platforms_2021(df):\n",
    "    survey_2021_df[\"Age\"] = survey_2021_df[\"Age\"].apply(transform_age)\n",
    "    cat_col_info_df=cat_col_info(df)\n",
    "    list_all_platform_names_2cols=list(cat_col_info_df['PlatformHaveWorkedWith']['value_ratios'].keys())+list(cat_col_info_df['PlatformWantToWorkWith']['value_ratios'].keys())            \n",
    "    platform_names=functools.reduce(lambda l, x: l.append(x) or l if x not in l else l, list_all_platform_names_2cols, [])\n",
    "    platforms_df=survey_2021_df[['PlatformHaveWorkedWith','PlatformWantToWorkWith']]\n",
    "    platforms_df.dropna(inplace=True)\n",
    "    list1=list(platforms_df['PlatformHaveWorkedWith'].values)\n",
    "    list1=[value.split(';') if type(value)==str else np.nan for value in list1 ]\n",
    "    list2=list(platforms_df['PlatformWantToWorkWith'].values)\n",
    "    list2=[value.split(';') if type(value)==str else np.nan for value in list2 ]\n",
    "    raw_pfs=[intersection(list1[i],list2[i]) for i in range(len(list1)) if list1[i]!=np.nan and list2[i]!=np.nan]\n",
    "    clear_raw_pfs =[item for item in raw_pfs if item !=[]]\n",
    "    raw_most_loved=pd.DataFrame({'data':clear_raw_pfs})\n",
    "    raw_most_loved=raw_most_loved.explode('data')\n",
    "    percents=[]\n",
    "    for i in platform_names:\n",
    "        percents.append(((raw_most_loved['data'].value_counts()[i]/len(raw_most_loved))*100).round(1))\n",
    "    most_loved_platforms=pd.Series(index=platform_names,data=percents)\n",
    "    most_loved_platforms=most_loved_platforms.sort_values(ascending=False)\n",
    "    return most_loved_platforms\n",
    "\n",
    "most_loved_platforms_2021=find_most_loved_platforms_2021(survey_2021_df)\n",
    "most_loved_platforms_2020=find_most_loved_platforms_2020(survey_2020_df)\n",
    "\n",
    "bar_chart(most_loved_platforms_2020,'Most loved platforms in 2020')\n",
    "bar_chart(most_loved_platforms_2021,'Most loved platforms in 2021')\n",
    "bar_chart(most_loved_platforms,'Most loved platforms in 2022')"
   ]
  },
  {
   "cell_type": "markdown",
   "metadata": {},
   "source": [
    "## Đặt câu hỏi của bạn - Điểm: (1.5đ)\n",
    "\n",
    "Bây giờ, đến lượt bạn phải tự suy nghĩ và đưa ra câu hỏi mà có thể trả lời bằng dữ liệu. Ngoài việc đưa ra câu hỏi, bạn cũng phải giải thích để người đọc thấy nếu trả lời được câu hỏi thì sẽ có lợi ích gì. Bạn không nên đưa ra câu hỏi cùng dạng với câu hỏi của mình ở trên.  \n",
    "\n",
    "YOUR ANSWER HERE\n",
    "\n",
    "**Câu hỏi:** Những người thực hiện khảo sát này có xu hướng lựa chọn khóa học online trên nền tảng nào?\n",
    "\n",
    "\n",
    "**Trả lời được câu hỏi này sẽ:** giúp cho những người muốn học các khóa học online có thể tham khảo, lựa chọn được những khóa học chất lượng đang phổ biến được nhiều người tin cậy theo học.\n"
   ]
  },
  {
   "cell_type": "markdown",
   "metadata": {},
   "source": [
    "## Tiền xử lý để chuẩn bị dữ liệu cho bước phân tích để trả lời cho câu hỏi của bạn\n",
    "\n",
    "Phần này là không bắt buộc. "
   ]
  },
  {
   "cell_type": "code",
   "execution_count": 42,
   "metadata": {},
   "outputs": [],
   "source": [
    "# YOUR CODE HERE (OPTION) "
   ]
  },
  {
   "cell_type": "markdown",
   "metadata": {},
   "source": [
    "## Phân tích dữ liệu để ra câu trả lời cho câu hỏi của bạn - Điểm: (2đ)"
   ]
  },
  {
   "cell_type": "code",
   "execution_count": 45,
   "metadata": {},
   "outputs": [
    {
     "data": {
      "image/png": "[encoded data removed]",
      "text/plain": [
       "<Figure size 720x720 with 1 Axes>"
      ]
     },
     "metadata": {},
     "output_type": "display_data"
    }
   ],
   "source": [
    "def prettify(ax):\n",
    "  ax.grid(False)\n",
    "  ax.set_frame_on(False)\n",
    "  ax.tick_params(top=False, bottom=False, left=False, right=False, labelbottom=False)\n",
    "\n",
    "lw = {}\n",
    "for x in survey_df.LearnCodeCoursesCert.dropna():\n",
    "    for d in x.split(';'):\n",
    "        if d not in lw:\n",
    "            lw[d] = 1   # create new instance\n",
    "        else:\n",
    "            lw[d] += 1  # increments that instance           \n",
    "lw = {k:v for k,v in sorted(lw.items(), key=lambda x:x[1])}\n",
    "pos = np.arange(0,len(lw.keys()), 1)\n",
    "labels = [x for x in lw.keys()]\n",
    "tot = survey_df.LearnCodeCoursesCert.count()\n",
    "pcnts = [round(100*x/tot, 2) for x in lw.values()]\n",
    "\n",
    "fig, ax = plt.subplots(figsize=(10,10))\n",
    "fig.subplots_adjust(hspace=0.01)\n",
    "plt.xlabel('Ratio (%)')\n",
    "plt.ylabel('Course')\n",
    "plt.title('The most popular course in 2022')\n",
    "\n",
    "ax.barh(labels, lw.values(), color='y', edgecolor='k')\n",
    "ax.set_xticks(np.arange(0, max(lw.values())+600, 100))\n",
    "ax.xaxis.set_ticklabels([])\n",
    "for (y, p), x  in zip(enumerate(pcnts), lw.values()):\n",
    "    ax.annotate(\"%.2f%%\"%p, (x+100 ,y-0.125))\n",
    "ax.xaxis.set_ticks_position('none')\n",
    "ax.grid(False)\n",
    "ax.set_frame_on(False)\n",
    "prettify(ax)\n"
   ]
  }
 ],
 "metadata": {
  "kernelspec": {
   "display_name": "Python 3.10.0 64-bit",
   "language": "python",
   "name": "python3"
  },
  "language_info": {
   "codemirror_mode": {
    "name": "ipython",
    "version": 3
   },
   "file_extension": ".py",
   "mimetype": "text/x-python",
   "name": "python",
   "nbconvert_exporter": "python",
   "pygments_lexer": "ipython3",
   "version": "3.10.0"
  },
  "vscode": {
   "interpreter": {
    "hash": "2ae786e0187e8aee91d8c6a51496c4f1e2e88dd3dd8ce991dbf3208fe5193d93"
   }
  }
 },
 "nbformat": 4,
 "nbformat_minor": 4
}
