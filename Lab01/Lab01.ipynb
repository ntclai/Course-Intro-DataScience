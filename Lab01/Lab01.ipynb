{
 "cells": [
  {
   "cell_type": "markdown",
   "metadata": {
    "id": "Du6rimrD4gbN"
   },
   "source": [
    "<h1><b>HW1: Thu thập và tiền xử lý dữ liệu</b></h1>\n",
    "\n",
    "Họ tên: Nguyễn Thị Cẩm Lai\n",
    "\n",
    "MSSV: 20120128\n",
    "\n",
    "<hr />\n",
    "\n",
    "<h2><b>Cách làm và nộp bài</b></h2>\n",
    "<b>Cách làm bài</b>\n",
    "\n",
    "Các bạn sẽ làm trực tiếp trên file notebook này. Đầu tiên, bạn điền họ tên và MSSV của mình ở bên trên. Trong file, bạn sẽ làm ở những phần có ghi là:\n",
    "\n",
    "<i style=\"background-color:tomato\"><FONT COLOR=\"green\"># YOUR CODE HERE</FONT></i>\n",
    "\n",
    "<FONT COLOR=\"green\">raise</FONT> NotImplementedError()\n",
    "\n",
    "Tất nhiên, khi làm bạn sẽ xóa dòng <b>raise NotImplementedError()</b> đi. Đối với những phần yêu cầu làm thì thường ở ngay phía dưới sẽ có một (hoặc một số) cell chứa các bộ test để giúp bạn biết đã code đúng hay chưa. Nếu chạy cell này không có lỗi gì thì có nghĩa là qua được các bộ test và ngược lại, nếu không qua được test thì là code sai, nhưng nếu qua được test thì chưa chắc đã đúng.\n",
    "</br></br>\n",
    "Trong khi làm bài, bạn có thể cho in ra màn hình, tạo thêm các cell để test. Tuy nhiên, khi nộp bài thì code của các bạn sẽ được chạy lại, do đó phải xóa các cell mà bạn đã tạo ra trước đó đi. Ngoài ra, bạn lưu ý là tuyệt đối không được tự tiện xóa các cell hay sửa code của Thầy (trừ những chỗ được phép sửa như đã đề cập ở trên).\n",
    "</br></br>\n",
    "Trong khi làm bài, thương xuyên lưu lại bài của bạn để tránh mất mát thông tin. Ngoài ra, chúng ta cần hết sức lưu ý là việc đạo văn là bị nghiêm cấm và sẽ bị xử lý đối với các bài làm giống nhau. Mục tiêu chính của chúng ta là học một cách chân thật, các bạn có thể tham khảo ý tưởng từ bạn bè của bạn hay từ các nguồn tham khảo khác trên mạng. Tuy nhiên, phần bài làm cuối cùng vẫn phải là của bạn dựa trên những sự hiểu biết thực sự. Khi tham khảo các nguồn trên mạng thì bạn cũng nên ghi rõ nguồn đó trong bài làm của mình. <font color='red'>Trong trường hợp các bạn vi phạm những điều mình đã đề cập ở trên thì sẽ bị 0 điểm cho toàn bộ môn học này.</font>\n",
    "\n",
    "<h5><b>Cách nộp bài</h5></b>\n",
    "\n",
    "Khi chấm bài, mình sẽ chọn Kernel - Restart & Run All để chạy lại toàn bộ code của các bạn từ ban đầu trên google colab. Do đó, để đảm bảo code các bạn không bị lỗi, các bạn nên chạy thử như mình chạy để đảm bảo mọi thứ diễn ra như mong đợi. \n",
    "\n",
    "Sau đó, bạn tạo thư mục nộp bài theo các yêu cầu sau:\n",
    "* Đầu tiên, các bạn tạo một thư mục MSSV (vd, nếu bạn có MSSV là 123456 thì bạn đặt tên thư mục là 123456)\n",
    "* Trong thư mục, MSSV vừa tạo, bạn bỏ file notebook bài làm của bạn vào cùng với file project được tạo bởi thư viện scrapy (file project khi tạo này các bạn có thể đặt bất kỳ tên gì)\n",
    "* Cuối cùng, bạn nén thư mục MSSV này lại và nộp ở link trên moodle. Đuôi của file nén phải là .zip (chứ không được .rar hay gì khác).\n",
    "\n",
    "<font color='red'>Bạn lưu ý tuân thủ chính xác qui định nộp bài ở trên, nếu nộp sai quy định sẽ bị trừ nửa số điểm cho bài làm của mình.</font>\n",
    "</br></br>\n",
    "<hr />\n",
    "</br>\n",
    "<h2><b>Import</b></h2>\n",
    "\n",
    "Trong bài thực hành này vì dữ liệu thu thập của chúng ta sẽ rất lớn, nên mình sẽ giúp các bạn thu thập dữ liệu được nhanh chóng bằng cách sử dụng một thư viện có tên scrapy. Vì thư viện này không có sẵn nên các bạn cần cài đặt trước khi sử dụng."
   ]
  },
  {
   "cell_type": "code",
   "execution_count": 1,
   "metadata": {
    "id": "7ZL9mrLkc3Dp"
   },
   "outputs": [
    {
     "name": "stdout",
     "output_type": "stream",
     "text": [
      "Requirement already satisfied: scrapy in c:\\users\\fpt shop\\miniconda3\\lib\\site-packages (2.6.3)\n",
      "Requirement already satisfied: itemloaders>=1.0.1 in c:\\users\\fpt shop\\miniconda3\\lib\\site-packages (from scrapy) (1.0.6)\n",
      "Requirement already satisfied: parsel>=1.5.0 in c:\\users\\fpt shop\\miniconda3\\lib\\site-packages (from scrapy) (1.6.0)\n",
      "Requirement already satisfied: service-identity>=18.1.0 in c:\\users\\fpt shop\\miniconda3\\lib\\site-packages (from scrapy) (21.1.0)\n",
      "Requirement already satisfied: protego>=0.1.15 in c:\\users\\fpt shop\\miniconda3\\lib\\site-packages (from scrapy) (0.2.1)\n",
      "Requirement already satisfied: Twisted>=18.9.0 in c:\\users\\fpt shop\\miniconda3\\lib\\site-packages (from scrapy) (22.8.0)\n",
      "Requirement already satisfied: itemadapter>=0.1.0 in c:\\users\\fpt shop\\miniconda3\\lib\\site-packages (from scrapy) (0.7.0)\n",
      "Requirement already satisfied: tldextract in c:\\users\\fpt shop\\miniconda3\\lib\\site-packages (from scrapy) (3.4.0)\n",
      "Requirement already satisfied: PyDispatcher>=2.0.5 in c:\\users\\fpt shop\\miniconda3\\lib\\site-packages (from scrapy) (2.0.6)\n",
      "Requirement already satisfied: pyOpenSSL>=21.0.0 in c:\\users\\fpt shop\\miniconda3\\lib\\site-packages (from scrapy) (22.1.0)\n",
      "Requirement already satisfied: queuelib>=1.4.2 in c:\\users\\fpt shop\\miniconda3\\lib\\site-packages (from scrapy) (1.6.2)\n",
      "Requirement already satisfied: w3lib>=1.17.0 in c:\\users\\fpt shop\\miniconda3\\lib\\site-packages (from scrapy) (2.0.1)\n",
      "Requirement already satisfied: cssselect>=0.9.1 in c:\\users\\fpt shop\\miniconda3\\lib\\site-packages (from scrapy) (1.1.0)\n",
      "Requirement already satisfied: cryptography>=3.3 in c:\\users\\fpt shop\\miniconda3\\lib\\site-packages (from scrapy) (38.0.1)\n",
      "Requirement already satisfied: zope.interface>=5.0.0 in c:\\users\\fpt shop\\miniconda3\\lib\\site-packages (from scrapy) (5.5.0)\n",
      "Requirement already satisfied: lxml>=3.5.0 in c:\\users\\fpt shop\\miniconda3\\lib\\site-packages (from scrapy) (4.9.1)\n",
      "Requirement already satisfied: setuptools in c:\\users\\fpt shop\\miniconda3\\lib\\site-packages (from scrapy) (52.0.0.post20210125)\n",
      "Requirement already satisfied: cffi>=1.12 in c:\\users\\fpt shop\\miniconda3\\lib\\site-packages (from cryptography>=3.3->scrapy) (1.14.6)\n",
      "Requirement already satisfied: pycparser in c:\\users\\fpt shop\\miniconda3\\lib\\site-packages (from cffi>=1.12->cryptography>=3.3->scrapy) (2.20)\n",
      "Requirement already satisfied: jmespath>=0.9.5 in c:\\users\\fpt shop\\miniconda3\\lib\\site-packages (from itemloaders>=1.0.1->scrapy) (1.0.1)\n",
      "Requirement already satisfied: six>=1.6.0 in c:\\users\\fpt shop\\miniconda3\\lib\\site-packages (from parsel>=1.5.0->scrapy) (1.16.0)\n",
      "Requirement already satisfied: pyasn1-modules in c:\\users\\fpt shop\\miniconda3\\lib\\site-packages (from service-identity>=18.1.0->scrapy) (0.2.8)\n",
      "Requirement already satisfied: pyasn1 in c:\\users\\fpt shop\\miniconda3\\lib\\site-packages (from service-identity>=18.1.0->scrapy) (0.4.8)\n",
      "Requirement already satisfied: attrs>=19.1.0 in c:\\users\\fpt shop\\miniconda3\\lib\\site-packages (from service-identity>=18.1.0->scrapy) (22.1.0)\n",
      "Requirement already satisfied: incremental>=21.3.0 in c:\\users\\fpt shop\\miniconda3\\lib\\site-packages (from Twisted>=18.9.0->scrapy) (21.3.0)\n",
      "Requirement already satisfied: twisted-iocpsupport<2,>=1.0.2 in c:\\users\\fpt shop\\miniconda3\\lib\\site-packages (from Twisted>=18.9.0->scrapy) (1.0.2)\n",
      "Requirement already satisfied: Automat>=0.8.0 in c:\\users\\fpt shop\\miniconda3\\lib\\site-packages (from Twisted>=18.9.0->scrapy) (20.2.0)\n",
      "Requirement already satisfied: hyperlink>=17.1.1 in c:\\users\\fpt shop\\miniconda3\\lib\\site-packages (from Twisted>=18.9.0->scrapy) (21.0.0)\n",
      "Requirement already satisfied: constantly>=15.1 in c:\\users\\fpt shop\\miniconda3\\lib\\site-packages (from Twisted>=18.9.0->scrapy) (15.1.0)\n",
      "Requirement already satisfied: typing-extensions>=3.6.5 in c:\\users\\fpt shop\\miniconda3\\lib\\site-packages (from Twisted>=18.9.0->scrapy) (4.4.0)\n",
      "Requirement already satisfied: idna>=2.5 in c:\\users\\fpt shop\\miniconda3\\lib\\site-packages (from hyperlink>=17.1.1->Twisted>=18.9.0->scrapy) (2.10)\n",
      "Requirement already satisfied: requests>=2.1.0 in c:\\users\\fpt shop\\miniconda3\\lib\\site-packages (from tldextract->scrapy) (2.25.1)\n",
      "Requirement already satisfied: filelock>=3.0.8 in c:\\users\\fpt shop\\miniconda3\\lib\\site-packages (from tldextract->scrapy) (3.8.0)\n",
      "Requirement already satisfied: requests-file>=1.4 in c:\\users\\fpt shop\\miniconda3\\lib\\site-packages (from tldextract->scrapy) (1.5.1)\n",
      "Requirement already satisfied: urllib3<1.27,>=1.21.1 in c:\\users\\fpt shop\\miniconda3\\lib\\site-packages (from requests>=2.1.0->tldextract->scrapy) (1.26.6)\n",
      "Requirement already satisfied: chardet<5,>=3.0.2 in c:\\users\\fpt shop\\miniconda3\\lib\\site-packages (from requests>=2.1.0->tldextract->scrapy) (4.0.0)\n",
      "Requirement already satisfied: certifi>=2017.4.17 in c:\\users\\fpt shop\\miniconda3\\lib\\site-packages (from requests>=2.1.0->tldextract->scrapy) (2021.5.30)\n",
      "Requirement already satisfied: spider3 in c:\\users\\fpt shop\\miniconda3\\lib\\site-packages (1.0.2)\n"
     ]
    }
   ],
   "source": [
    "!pip install scrapy\n",
    "!pip install spider3"
   ]
  },
  {
   "cell_type": "code",
   "execution_count": 2,
   "metadata": {
    "id": "Nah1kqOV74Wk"
   },
   "outputs": [],
   "source": [
    "import json\n",
    "import re\n",
    "import pandas as pd\n",
    "import scrapy\n",
    "from pandas.testing import assert_frame_equal # to compare two dataframes\n",
    "# YOUR CODE HERE (OPTION) \n",
    "import numpy as np\n",
    "# Nếu cần các thư viện khác thì bạn có thể import thêm tại đây"
   ]
  },
  {
   "cell_type": "markdown",
   "metadata": {
    "id": "CADRNR64WnmB"
   },
   "source": [
    "Như bạn đã biết, World Cup là một giải bóng đá lớn nhất thế giới được tổ chức mỗi 4 năm 1 lần. Vì cuối tháng 11 này kỳ World Cup 2022 sẽ diễn ra, do đó ở Lab 1 này, chúng ta sẽ khởi động môn học bằng việc thu thập dữ liệu của các cầu thủ bóng đá. <b>SoFIFA</b> (https://sofifa.com/) là một trang web lưu trữ dữ liệu của các cầu thủ trong trò chơi bóng đá nổi tiếng FIFA 23 mà có các chỉ số phản ánh gần đúng với phong độ của các cầu thủ bóng đá ngoài đời. Trong phần này, nhiệm vụ đầu tiên của bạn là sẽ cần thu thập ID của các cầu thủ. Mình có check \"Terms of Service\" của SoFIFA thì không thấy có mục nào nói là cấm parse HTML, vì vậy với mục đích học thì chắc là không có vấn đề gì lớn, miễn là chương trình của bạn đừng \"hit\" trang web quá nhiều lần trong một khoảng thời gian ngắn thì sẽ không có vấn đề gì. \n",
    "</br></br>\n",
    "Công việc cụ thể của bạn ở phần đầu tiên này là sẽ cần viết class <b>collect_player_url()</b> ở bên dưới. Vì dữ liệu lúc sau các bạn cần thu thập sẽ rất lớn nên ở đây, chúng ta sẽ xài một thư viên có tên scrapy để có thể thu thập dữ liệu lớn được nhanh chóng hơn. Về cách sử dụng thư viện này thì bạn có thể tham khảo thêm tại trang web sau: https://docs.scrapy.org/en/latest/intro/tutorial.html.\n",
    "</br></br>\n",
    "<h2><b>Tạo một project mới với scrapy</b><h2>\n",
    "\n",
    "Để sử dụng thư viện scrapy sau khi cài đặt xong, các bạn sẽ gọi câu lệnh như bên dưới để bắt đầu tạo một project mới với scrapy với tên gọi là <b>\"fifa_crawler\"</b>."
   ]
  },
  {
   "cell_type": "code",
   "execution_count": 3,
   "metadata": {
    "id": "6ndHFd1lWnUj"
   },
   "outputs": [
    {
     "name": "stderr",
     "output_type": "stream",
     "text": [
      "Traceback (most recent call last):\n",
      "  File \"c:\\users\\fpt shop\\miniconda3\\lib\\runpy.py\", line 197, in _run_module_as_main\n",
      "    return _run_code(code, main_globals, None,\n",
      "  File \"c:\\users\\fpt shop\\miniconda3\\lib\\runpy.py\", line 87, in _run_code\n",
      "    exec(code, run_globals)\n",
      "  File \"C:\\Users\\FPT SHOP\\miniconda3\\Scripts\\scrapy.exe\\__main__.py\", line 7, in <module>\n",
      "  File \"c:\\users\\fpt shop\\miniconda3\\lib\\site-packages\\scrapy\\cmdline.py\", line 154, in execute\n",
      "    _run_print_help(parser, _run_command, cmd, args, opts)\n",
      "  File \"c:\\users\\fpt shop\\miniconda3\\lib\\site-packages\\scrapy\\cmdline.py\", line 109, in _run_print_help\n",
      "    func(*a, **kw)\n",
      "  File \"c:\\users\\fpt shop\\miniconda3\\lib\\site-packages\\scrapy\\cmdline.py\", line 162, in _run_command\n",
      "    cmd.run(args, opts)\n",
      "  File \"c:\\users\\fpt shop\\miniconda3\\lib\\site-packages\\scrapy\\commands\\startproject.py\", line 100, in run\n",
      "    print(f'Error: scrapy.cfg already exists in {abspath(project_dir)}')\n",
      "  File \"c:\\users\\fpt shop\\miniconda3\\lib\\encodings\\cp1252.py\", line 19, in encode\n",
      "    return codecs.charmap_encode(input,self.errors,encoding_table)[0]\n",
      "UnicodeEncodeError: 'charmap' codec can't encode character '\\u0103' in position 73: character maps to <undefined>\n"
     ]
    }
   ],
   "source": [
    "!scrapy startproject fifa_crawler"
   ]
  },
  {
   "cell_type": "code",
   "execution_count": 4,
   "metadata": {
    "id": "TyLNgVqWvt3Z"
   },
   "outputs": [
    {
     "name": "stdout",
     "output_type": "stream",
     "text": [
      "C:\\Users\\FPT SHOP\\Documents\\TAILIEU\\Năm 3\\Nhập môn KHDL\\Lab01\\fifa_crawler\\fifa_crawler\n"
     ]
    }
   ],
   "source": [
    "cd fifa_crawler/fifa_crawler"
   ]
  },
  {
   "cell_type": "markdown",
   "metadata": {
    "id": "LtjRbH9NmmI8"
   },
   "source": [
    "Sau khi tạo xong project với scrapy, vì thu thập dữ liệu với thư viện này không cho phép xài notebook trực tiếp nên các bạn sau khi hoàn thành xong class <b>collect_player_url(scrapy.Spider)</b> ở bên dưới, các bạn cần tạo một file có tên <b>collect_players_urls.py</b> vào đường dẫn sau <b>fifa_crawler/fifa_crawler/spiders/collect_players_urls.py</b>. Ngoài ra, để tránh việc <b>hit</b> trang web quá nhiều lần, thay vì thu thập toàn bộ ID các cầu thủ của thì các bạn sẽ chỉ cần thu thập 720 ID cầu thủ. Để cho dễ dàng, mình đã để sẵn 1 đường dẫn urls chứa định dạng offset (từng trang của các cầu thủ với mỗi trang chứa 60 cầu thủ khác nhau) để các bạn có thể dễ dàng chuyển trang mới trong lúc thu thập."
   ]
  },
  {
   "cell_type": "code",
   "execution_count": 5,
   "metadata": {
    "id": "nsIYPdgWeJ0z"
   },
   "outputs": [],
   "source": [
    "import scrapy\n",
    "\n",
    "class collect_player_url(scrapy.Spider):\n",
    "    name='players_urls' \n",
    "    def start_requests(self):\n",
    "        urls = ['https://sofifa.com/players?col=oa&sort=desc&offset=0']\n",
    "        # YOUR CODE HERE\n",
    "        self.pages=0\n",
    "        for url in urls:\n",
    "            yield scrapy.Request(url=url, callback=self.parse)\n",
    "  \n",
    "    def parse(self, response):\n",
    "    # YOUR CODE HERE\n",
    "        for player in response.css('.col-name'):\n",
    "            player_link = player.xpath('a/@href').re(r'/player/\\w+')\n",
    "            if len(player_link)> 0:\n",
    "                yield {'player_url': player_link[0]}\n",
    "                \n",
    "        next_page=response.xpath('.//a[@class=\"bp3-button bp3-intent-primary pjax\"]/@href').extract()\n",
    "        if next_page and self.pages <11:\n",
    "            if len(next_page)==1: # previous, next\n",
    "                next_href=next_page[0]\n",
    "            else:\n",
    "                next_href=next_page[1]\n",
    "            next_page_url='https://sofifa.com'+next_href\n",
    "            self.pages+=1\n",
    "            request=scrapy.Request(url=next_page_url)\n",
    "            yield request\n"
   ]
  },
  {
   "cell_type": "markdown",
   "metadata": {
    "id": "ShUFd8SmfCgf"
   },
   "source": [
    "Sau khi đã viết xong class trên, và đã tạo file <b>collect_players_urls.py</b> trong đường dẫn đã đề cập, bạn sẽ tiến hành gọi lệnh như bên dưới để thu thập ID của các cầu thủ bóng đá và lưu vào một file có tên <b>players_urls.json</b> mà chứa trong thư mục dataset. Thư mục dataset này bạn không cần tạo mà khi thu thập dữ liệu scrapy sẽ tự động tạo cho bạn."
   ]
  },
  {
   "cell_type": "code",
   "execution_count": null,
   "metadata": {
    "id": "kLoJ44s6e9NG"
   },
   "outputs": [],
   "source": [
    "!scrapy crawl players_urls -o dataset/players_urls.json"
   ]
  },
  {
   "cell_type": "markdown",
   "metadata": {
    "id": "caESkJGPopG9"
   },
   "source": [
    "Sau khi đã có danh sách 720 ID của các cầu thủ đã thu thập từ trang web SoFIFA, bạn sẽ tiến hành thu thập dữ liệu cụ thể của từng cầu thủ ứng với các ID này bằng cách hoàn thành class <b>collect_player_info(scrapy.Spider)</b> như bên dưới. Các bạn cũng lưu ý lại là như mình đã đề cập, việc sử dụng scrapy trực tiếp notebook là không được mà chúng ta sẽ cần tạo tiếp một file mới có tên <b>collect_players_info.py</b> vào cùng đường dẫn như file <b>collect_players_urls.py</b>. Ở đây, cũng để cho tiện thì mình cũng để cho các bạn 1 đường dẫn url mới với ID 231747 ứng với ID đầu tiên mà chúng ta đã thu thập ở bước trước. Nhiệm vụ của các bạn là dựa vào url này để tiếp tục hoàn thành việc parse HTML và thu thập các thông tin chi tiết của ID này (chúng ta cũng làm tương tự cho 719 ID còn lại). Về chi tiết tất cả các dữ liệu các bạn cần thu thập thì mình có để sẵn 1 file test có tên <b>players_info.json</b> là file đã được mình thu thập về thông tin chi tiết của 720 cầu thủ cho các bạn."
   ]
  },
  {
   "cell_type": "code",
   "execution_count": null,
   "metadata": {
    "colab": {
     "base_uri": "https://localhost:8080/"
    },
    "id": "wHicINKmvDvC",
    "outputId": "e6693593-7eb2-44e4-d8e5-d38b0993ba83"
   },
   "outputs": [],
   "source": [
    "df_test = pd.read_json('/content/players_info.json', encoding='utf-8-sig')\n",
    "df_test.iloc[0]"
   ]
  },
  {
   "cell_type": "code",
   "execution_count": null,
   "metadata": {
    "id": "7vHUkFitpbpv"
   },
   "outputs": [],
   "source": [
    "import scrapy\n",
    "import json\n",
    "\n",
    "class collect_player_info(scrapy.Spider):\n",
    "    name='players_info'\n",
    "    def __init__(self):\n",
    "        try:\n",
    "            with open('dataset/players_urls.json') as f:\n",
    "                self.players = json.load(f)\n",
    "            self.player_count = 1\n",
    "        except IOError:\n",
    "            print(\"File not found\")\n",
    "\n",
    "    def start_requests(self):\n",
    "        urls = ['https://sofifa.com/player/231747?units=mks']\n",
    "        # YOUR CODE HERE\n",
    "        for url in urls:\n",
    "            yield scrapy.Request(url=url, callback=self.parse)\n",
    "    \n",
    "  \n",
    "    def parse(self, response):\n",
    "      # YOUR CODE HERE\n",
    "        def extract_with_css(query, getall=False):\n",
    "            if getall:\n",
    "                return response.css(query).getall()\n",
    "            return response.css(query).get(default='').strip()\n",
    "        \n",
    "        def extract_with_xpath(query, extract_all=False):\n",
    "            if extract_all:\n",
    "                return response.xpath(query).extract()\n",
    "            return response.xpath(query).extract_first(default='').strip()\n",
    "        str1=extract_with_css(\"div.info div::text\", getall=True)[-1]# lưu age, birth_date, height, weight\n",
    "        birth_date=str1[17:21]+'/'+str1[9:12]+'/'+str1[13:15]\n",
    "        teams={}\n",
    "        temp1=response.xpath('//div[@class=\"center\"][1]//div[@class=\"grid\"]//div[@class=\"col col-12\"]//div[@class=\"block-quarter\"]').xpath('@class').getall()\n",
    "        index_team=[]\n",
    "        if len(temp1)>7:\n",
    "            index_team=[3,4]\n",
    "        else:\n",
    "            index_team=[3]\n",
    "        for i in index_team:\n",
    "            n=response.xpath(f'//div[@class=\"center\"][1]//div[@class=\"grid\"]//div[@class=\"col col-12\"]//div[@class=\"block-quarter\"][{i}]//div[@class=\"card\"]//h5/a/text()').get()\n",
    "            v=response.xpath(f'//div[@class=\"center\"][1]//div[@class=\"grid\"]//div[@class=\"col col-12\"]//div[@class=\"block-quarter\"][{i}]//div[@class=\"card\"]//ul[@class=\"ellipsis pl\"]//li/span/text()').get()\n",
    "            teams[' '+n]=int(v)\n",
    "            \n",
    "        #Get Release Clause\n",
    "        temp2=response.xpath('//div[@class=\"block-quarter\"]//div[@class=\"card\"]//ul[@class=\"pl\"]//li[@class=\"ellipsis\"]/span/text()')\n",
    "        release_clause=None\n",
    "        if len(temp2)>3:\n",
    "            release_clause=temp2[3]\n",
    "        if release_clause!=None:\n",
    "            yield{\n",
    "                \"id\":self.players[self.player_count-1]['player_url'][8:],\n",
    "                \"name\": extract_with_xpath(\"//div[@class='info']/h1/text()\"), #ok\n",
    "                \"primary_position\": extract_with_xpath(\"//div[@class='meta ellipsis']/span[1]/text()\"), #ok\n",
    "                \"positions\":extract_with_xpath(\"//div[@class='meta ellipsis']/span/text()\", extract_all=True), #ok\n",
    "                \"age\": str1[:3],#ok\n",
    "                \"birth_date\": birth_date,#ok\n",
    "                \"height\": str1[23:26],#ok\n",
    "                \"weight\": str1[29:31], #ok\n",
    "            \n",
    "                \"Overall Rating\": extract_with_xpath(\"//div[@class='block-quarter'][1]/div/span/text()\"),#ok\n",
    "                \"Potential\": extract_with_xpath(\"//div[@class='block-quarter'][2]/div/span/text()\"), #ok\n",
    "                \"Value\": extract_with_xpath(\"//div[@class='block-quarter'][3]/div/text()\"),#ok\n",
    "                \"Wage\": extract_with_xpath(\"//div[@class='block-quarter'][4]/div/text()\"),#ok\n",
    "            \n",
    "                \"Preferred Foot\": extract_with_xpath(\"//div[@class='card'][1]/ul/li[1]/text()\"),#ok\n",
    "                \"Weak Foot\": extract_with_xpath(\"//div[@class='card'][1]/ul/li[2]/text()\"),#ok\n",
    "                \"Skill Moves\": extract_with_xpath(\"//div[@class='card'][1]/ul/li[3]/text()\"),#ok\n",
    "                \"International Reputation\": extract_with_xpath(\"//div[@class='card'][1]/ul/li[4]/text()\"), #ok\n",
    "                \"Work Rate\": extract_with_xpath(\"//div[@class='card'][1]/ul/li[5]/span/text()\"), #ok\n",
    "                \"Body Type\": extract_with_xpath(\"//div[@class='card'][1]/ul/li[6]/span/text()\"), #ok\n",
    "                \"Real Face\": extract_with_xpath(\"//div[@class='card'][1]/ul/li[7]/span/text()\"), #ok\n",
    "                \"Release Clause\": extract_with_xpath(\"//div[@class='card'][1]/ul/li[8]/span/text()\"), #ok\n",
    "                \"teams\":teams, #ok\n",
    "                \"attacking\": {\"Crossing\": extract_with_xpath(\"//div[@class='col col-12']/div[3]//ul/li[1]/span/text()\"),\"Finishing\": extract_with_xpath(\"//div[@class='col col-12']/div[3]//ul/li[2]/span/text()\"), \"HeadingAccuracy\": extract_with_xpath(\"//div[@class='col col-12']/div[3]//ul/li[3]/span/text()\"), \"ShortPassing\":extract_with_xpath(\"//div[@class='col col-12']/div[3]//ul/li[4]/span/text()\"), \"Volleys\": extract_with_xpath(\"//div[@class='col col-12']/div[3]//ul/li[5]/span/text()\")}, #ok\n",
    "            \n",
    "                \"skill\":{\"Dribbling\":extract_with_xpath(\"//div[@class='center'][2]/div/div[2]/div[4]//ul/li[1]/span[1]/text()\"), \"Curve\": extract_with_xpath(\"//div[@class='center'][2]/div/div[2]/div[4]//ul/li[2]/span[1]/text()\"), \"FKAccuracy\":extract_with_xpath(\"//div[@class='center'][2]/div/div[2]/div[4]//ul/li[3]/span[1]/text()\"), \"LongPassing\": extract_with_xpath(\"//div[@class='center'][2]/div/div[2]/div[4]//ul/li[4]/span[1]/text()\") , \"BallControl\":extract_with_xpath(\"//div[@class='center'][2]/div/div[2]/div[4]//ul/li[5]/span[1]/text()\")}, #ok\n",
    "            \n",
    "                \"movement\":{\"Acceleration\": extract_with_xpath(\"//div[@class='center'][2]/div/div[2]/div[5]//ul/li[1]/span[1]/text()\"), \"SprintSpeed\":extract_with_xpath(\"//div[@class='center'][2]/div/div[2]/div[5]//ul/li[2]/span[1]/text()\"), \"Agility\": extract_with_xpath(\"//div[@class='center'][2]/div/div[2]/div[5]//ul/li[3]/span[1]/text()\"), \"Reactions\": extract_with_xpath(\"//div[@class='center'][2]/div/div[2]/div[5]//ul/li[4]/span[1]/text()\"), \"Balance\": extract_with_xpath(\"//div[@class='center'][2]/div/div[2]/div[5]//ul/li[5]/span[1]/text()\")}, #ok\n",
    "            \n",
    "                \"power\":{\"ShotPower\":extract_with_xpath(\"//div[@class='center'][2]/div/div[2]/div[6]//ul/li[1]/span[1]/text()\"), \"Jumping\": extract_with_xpath(\"//div[@class='center'][2]/div/div[2]/div[6]//ul/li[2]/span[1]/text()\"), \"Stamina\":extract_with_xpath(\"//div[@class='center'][2]/div/div[2]/div[6]//ul/li[3]/span[1]/text()\"), \"Strength\":extract_with_xpath(\"//div[@class='center'][2]/div/div[2]/div[6]//ul/li[4]/span[1]/text()\"), \"LongShots\":extract_with_xpath(\"//div[@class='center'][2]/div/div[2]/div[6]//ul/li[5]/span[1]/text()\")}, #ok\n",
    "            \n",
    "                \"mentality\":{'Aggression':extract_with_xpath(\"//div[@class='block-quarter'][5]/div/ul/li/span/text()\"),'Interceptions':extract_with_xpath(\"//div[@class='block-quarter'][5]/div/ul/li[2]/span/text()\"),'Positioning':extract_with_xpath(\"//div[@class='block-quarter'][5]/div/ul/li[3]/span/text()\"),'Vision':extract_with_xpath(\"//div[@class='block-quarter'][5]/div/ul/li[4]/span/text()\"),'Penalties':extract_with_xpath(\"//div[@class='block-quarter'][5]/div/ul/li[5]/span/text()\"),'Composure':extract_with_xpath(\"//div[@class='block-quarter'][5]/div/ul/li[6]/span/text()\")}, #ok \n",
    "            \n",
    "                \"defending\": {'DefensiveAwareness':extract_with_xpath(\"//div[@class='block-quarter'][6]/div/ul/li/span/text()\"),'StandingTackle':extract_with_xpath(\"//div[@class='block-quarter'][6]/div/ul/li[2]/span/text()\"),'SlidingTackle':extract_with_xpath(\"//div[@class='block-quarter'][6]/div/ul/li[3]/span/text()\")}, #ok\n",
    "            \n",
    "                \"goalkeeping\": {\"GKDiving\": extract_with_xpath(\"//div[@class='block-quarter'][7]/div/ul/li[1]/span/text()\"), \"GKHandling\": extract_with_xpath(\"//div[@class='block-quarter'][7]/div/ul/li[2]/span/text()\"), \"GKKicking\": extract_with_xpath(\"//div[@class='block-quarter'][7]/div/ul/li[3]/span/text()\"), \"GKPositioning\":extract_with_xpath(\"//div[@class='block-quarter'][7]/div/ul/li[4]/span/text()\") , \"GKReflexes\": extract_with_xpath(\"//div[@class='block-quarter'][7]/div/ul/li[5]/span/text()\")}, #ok\n",
    "            \n",
    "                \"player_traits\":extract_with_xpath(\"//div[@class='block-quarter'][8]/div/ul/li/span/text()\", extract_all=True), #ok\n",
    "                \"player_specialities\": extract_with_xpath(\"//div[@class='block-quarter'][2]/div/ul/li/a/text()\", extract_all=True) #ok\n",
    "            }\n",
    "        else:\n",
    "            yield{\n",
    "                \"id\":self.players[self.player_count-1]['player_url'][8:],\n",
    "                \"name\": extract_with_xpath(\"//div[@class='info']/h1/text()\"), #ok\n",
    "                \"primary_position\": extract_with_xpath(\"//div[@class='meta ellipsis']/span[1]/text()\"), #ok\n",
    "                \"positions\":extract_with_xpath(\"//div[@class='meta ellipsis']/span/text()\", extract_all=True), #ok\n",
    "                \"age\": str1[:3],#ok\n",
    "                \"birth_date\": birth_date,#ok\n",
    "                \"height\": str1[23:26],#ok\n",
    "                \"weight\": str1[29:31], #ok\n",
    "            \n",
    "                \"Overall Rating\": extract_with_xpath(\"//div[@class='block-quarter'][1]/div/span/text()\"),#ok\n",
    "                \"Potential\": extract_with_xpath(\"//div[@class='block-quarter'][2]/div/span/text()\"), #ok\n",
    "                \"Value\": extract_with_xpath(\"//div[@class='block-quarter'][3]/div/text()\"),#ok\n",
    "                \"Wage\": extract_with_xpath(\"//div[@class='block-quarter'][4]/div/text()\"),#ok\n",
    "            \n",
    "                \"Preferred Foot\": extract_with_xpath(\"//div[@class='card'][1]/ul/li[1]/text()\"),#ok\n",
    "                \"Weak Foot\": extract_with_xpath(\"//div[@class='card'][1]/ul/li[2]/text()\"),#ok\n",
    "                \"Skill Moves\": extract_with_xpath(\"//div[@class='card'][1]/ul/li[3]/text()\"),#ok\n",
    "                \"International Reputation\": extract_with_xpath(\"//div[@class='card'][1]/ul/li[4]/text()\"), #ok\n",
    "                \"Work Rate\": extract_with_xpath(\"//div[@class='card'][1]/ul/li[5]/span/text()\"), #ok\n",
    "                \"Body Type\": extract_with_xpath(\"//div[@class='card'][1]/ul/li[6]/span/text()\"), #ok\n",
    "                \"Real Face\": extract_with_xpath(\"//div[@class='card'][1]/ul/li[7]/span/text()\"), #ok\n",
    "                \"teams\":teams, #ok\n",
    "                \"attacking\": {\"Crossing\": extract_with_xpath(\"//div[@class='col col-12']/div[3]//ul/li[1]/span/text()\"),\"Finishing\": extract_with_xpath(\"//div[@class='col col-12']/div[3]//ul/li[2]/span/text()\"), \"HeadingAccuracy\": extract_with_xpath(\"//div[@class='col col-12']/div[3]//ul/li[3]/span/text()\"), \"ShortPassing\":extract_with_xpath(\"//div[@class='col col-12']/div[3]//ul/li[4]/span/text()\"), \"Volleys\": extract_with_xpath(\"//div[@class='col col-12']/div[3]//ul/li[5]/span/text()\")}, #ok\n",
    "            \n",
    "                \"skill\":{\"Dribbling\":extract_with_xpath(\"//div[@class='center'][2]/div/div[2]/div[4]//ul/li[1]/span[1]/text()\"), \"Curve\": extract_with_xpath(\"//div[@class='center'][2]/div/div[2]/div[4]//ul/li[2]/span[1]/text()\"), \"FKAccuracy\":extract_with_xpath(\"//div[@class='center'][2]/div/div[2]/div[4]//ul/li[3]/span[1]/text()\"), \"LongPassing\": extract_with_xpath(\"//div[@class='center'][2]/div/div[2]/div[4]//ul/li[4]/span[1]/text()\") , \"BallControl\":extract_with_xpath(\"//div[@class='center'][2]/div/div[2]/div[4]//ul/li[5]/span[1]/text()\")}, #ok\n",
    "            \n",
    "                \"movement\":{\"Acceleration\": extract_with_xpath(\"//div[@class='center'][2]/div/div[2]/div[5]//ul/li[1]/span[1]/text()\"), \"SprintSpeed\":extract_with_xpath(\"//div[@class='center'][2]/div/div[2]/div[5]//ul/li[2]/span[1]/text()\"), \"Agility\": extract_with_xpath(\"//div[@class='center'][2]/div/div[2]/div[5]//ul/li[3]/span[1]/text()\"), \"Reactions\": extract_with_xpath(\"//div[@class='center'][2]/div/div[2]/div[5]//ul/li[4]/span[1]/text()\"), \"Balance\": extract_with_xpath(\"//div[@class='center'][2]/div/div[2]/div[5]//ul/li[5]/span[1]/text()\")}, #ok\n",
    "            \n",
    "                \"power\":{\"ShotPower\":extract_with_xpath(\"//div[@class='center'][2]/div/div[2]/div[6]//ul/li[1]/span[1]/text()\"), \"Jumping\": extract_with_xpath(\"//div[@class='center'][2]/div/div[2]/div[6]//ul/li[2]/span[1]/text()\"), \"Stamina\":extract_with_xpath(\"//div[@class='center'][2]/div/div[2]/div[6]//ul/li[3]/span[1]/text()\"), \"Strength\":extract_with_xpath(\"//div[@class='center'][2]/div/div[2]/div[6]//ul/li[4]/span[1]/text()\"), \"LongShots\":extract_with_xpath(\"//div[@class='center'][2]/div/div[2]/div[6]//ul/li[5]/span[1]/text()\")}, #ok\n",
    "            \n",
    "                \"mentality\":{'Aggression':extract_with_xpath(\"//div[@class='block-quarter'][5]/div/ul/li/span/text()\"),'Interceptions':extract_with_xpath(\"//div[@class='block-quarter'][5]/div/ul/li[2]/span/text()\"),'Positioning':extract_with_xpath(\"//div[@class='block-quarter'][5]/div/ul/li[3]/span/text()\"),'Vision':extract_with_xpath(\"//div[@class='block-quarter'][5]/div/ul/li[4]/span/text()\"),'Penalties':extract_with_xpath(\"//div[@class='block-quarter'][5]/div/ul/li[5]/span/text()\"),'Composure':extract_with_xpath(\"//div[@class='block-quarter'][5]/div/ul/li[6]/span/text()\")}, #ok \n",
    "            \n",
    "                \"defending\": {'DefensiveAwareness':extract_with_xpath(\"//div[@class='block-quarter'][6]/div/ul/li/span/text()\"),'StandingTackle':extract_with_xpath(\"//div[@class='block-quarter'][6]/div/ul/li[2]/span/text()\"),'SlidingTackle':extract_with_xpath(\"//div[@class='block-quarter'][6]/div/ul/li[3]/span/text()\")}, #ok\n",
    "            \n",
    "                \"goalkeeping\": {\"GKDiving\": extract_with_xpath(\"//div[@class='block-quarter'][7]/div/ul/li[1]/span/text()\"), \"GKHandling\": extract_with_xpath(\"//div[@class='block-quarter'][7]/div/ul/li[2]/span/text()\"), \"GKKicking\": extract_with_xpath(\"//div[@class='block-quarter'][7]/div/ul/li[3]/span/text()\"), \"GKPositioning\":extract_with_xpath(\"//div[@class='block-quarter'][7]/div/ul/li[4]/span/text()\") , \"GKReflexes\": extract_with_xpath(\"//div[@class='block-quarter'][7]/div/ul/li[5]/span/text()\")}, #ok\n",
    "            \n",
    "                \"player_traits\":extract_with_xpath(\"//div[@class='block-quarter'][8]/div/ul/li/span/text()\", extract_all=True), #ok\n",
    "                \"player_specialities\": extract_with_xpath(\"//div[@class='block-quarter'][2]/div/ul/li/a/text()\", extract_all=True)\n",
    "            }\n",
    "        if self.player_count < len(self.players):\n",
    "            next_page_url = 'https://sofifa.com' + self.players[self.player_count]['player_url'] + '?units=mks'\n",
    "            self.player_count += 1\n",
    "            yield scrapy.Request(url=next_page_url, callback=self.parse) "
   ]
  },
  {
   "cell_type": "markdown",
   "metadata": {
    "id": "WMtk8cmuqnXm"
   },
   "source": [
    "Sau khi đã hoàn thành class ở trên và lưu lại trong file <b>collect_players_info.py</b>, các bạn sẽ tiếp tục chạy câu lệnh bên dưới để thu thập thông tin chi tiết của toàn bộ 720 cầu thủ và xuất ra file <b>players_info.json</b> ở cùng đường dẫn dataset như trên."
   ]
  },
  {
   "cell_type": "code",
   "execution_count": null,
   "metadata": {
    "id": "ZeWsqMVMpNpW"
   },
   "outputs": [],
   "source": [
    "!scrapy crawl players_info -o dataset/players_info.json"
   ]
  },
  {
   "cell_type": "markdown",
   "metadata": {
    "id": "swqaBClCrg39"
   },
   "source": [
    "Sau khi đã có thông tin chi tiết của 720 cầu thủ, các bạn sẽ tiến hành đọc file <b>players_info.json</b> vào pandas với tên gọi <b>df_players_info</b> và kiểm tra lại với file của mình xem dữ liệu các bạn thu thập là khớp chưa. Nếu đã trùng khớp hai file thì bạn sẽ đến với bước tiền xử lý dữ liệu."
   ]
  },
  {
   "cell_type": "code",
   "execution_count": null,
   "metadata": {
    "id": "vIzyLHd2rPwI"
   },
   "outputs": [],
   "source": [
    "# YOUR CODE HERE\n",
    "df_players_info=pd.read_json('dataset/players_info.json',encoding='utf-8-sig')\n",
    "df_players_info.iloc[0]\n",
    "assert_frame_equal(df_players_info, df_test)"
   ]
  },
  {
   "cell_type": "markdown",
   "metadata": {
    "id": "crik-hTWt1RH"
   },
   "source": [
    "<h2><b>Tiền xử lý dữ liệu</b></h2>\n",
    "\n",
    "<b>1)</b> Sau khi đã kiểm tra và khớp với dữ liệu từ file mình đã cung cấp, nhiệm vụ đầu tiên của các bạn trong bước tiền xử lý dữ liệu là cần phân tách các chỉ số cụ thể của mỗi cầu thủ. Như chúng ta thấy, ở mỗi cột <b>attacking, skill, movement</b> sẽ là một từ điển chứa chi tiết cụ thể từng chỉ số chi tiết ở trong đó. Do đó, chúng ta sẽ cần phân tách các từ điển này thành các cột cụ thể và nhiệm vụ khi này của bạn là hoàn thành hàm <b>split_players_info()</b> ở bên dưới rồi lưu lại vào một dataframe mới với tên <b>df_split_players_info</b>."
   ]
  },
  {
   "cell_type": "code",
   "execution_count": null,
   "metadata": {
    "id": "HFCvJ3r51ZHb"
   },
   "outputs": [],
   "source": [
    "def split_players_info():\n",
    "    # YOUR CODE HERE\n",
    "    df_players_info=pd.read_json('dataset/players_info.json',encoding='utf-8-sig')\n",
    "    \n",
    "    #xử lý thuộc tính Release Clause\n",
    "    df_players_info['Release Clause']=df_players_info['Release Clause'].replace(np.nan,'null')\n",
    "    \n",
    "    #tạo dataframe mới\n",
    "    new_df=df_players_info[['id','name','primary_position','positions','age','birth_date',\n",
    "                           'height','weight','Overall Rating','Potential','Value','Wage',\n",
    "                           'Preferred Foot','Weak Foot','Skill Moves','International Reputation',\n",
    "                           'Work Rate','Body Type','Real Face','Release Clause','teams',\n",
    "                           'player_traits','player_specialities']]\n",
    "    \n",
    "    #tạo các list\n",
    "    \n",
    "    #attacking\n",
    "    temp1=list(df_players_info['attacking'])\n",
    "    crossing=[temp1[i]['Crossing'] for i in range(len(temp1))]\n",
    "    finishing=[temp1[i]['Finishing'] for i in range(len(temp1))]\n",
    "    headingaccuracy=[temp1[i]['HeadingAccuracy'] for i in range(len(temp1))]\n",
    "    shortpassing=[temp1[i]['ShortPassing'] for i in range(len(temp1))]\n",
    "    volleys=[temp1[i]['Volleys'] for i in range(len(temp1))]\n",
    "    \n",
    "    #skill\n",
    "    temp2=list(df_players_info['skill'])\n",
    "    dribbling=[temp2[i]['Dribbling'] for i in range(len(temp2))]\n",
    "    curve=[temp2[i]['Curve'] for i in range(len(temp2))]\n",
    "    fkaccuracy=[temp2[i]['FKAccuracy'] for i in range(len(temp2))]\n",
    "    longpassing=[temp2[i]['LongPassing'] for i in range(len(temp2))]\n",
    "    ballcontrol=[temp2[i]['BallControl'] for i in range(len(temp2))]\n",
    "    \n",
    "    #movement\n",
    "    temp3=list(df_players_info['movement'])\n",
    "    acceleration=[temp3[i]['Acceleration'] for i in range(len(temp3))]\n",
    "    sprintspeed=[temp3[i]['SprintSpeed'] for i in range(len(temp3))]\n",
    "    agility=[temp3[i]['Agility'] for i in range(len(temp3))]\n",
    "    reactions=[temp3[i]['Reactions'] for i in range(len(temp3))]\n",
    "    balance=[temp3[i]['Balance'] for i in range(len(temp3))]\n",
    "    \n",
    "    #power\n",
    "    temp4=list(df_players_info['power'])\n",
    "    shotpower=[temp4[i]['ShotPower'] for i in range(len(temp4))]\n",
    "    jumping=[temp4[i]['Jumping'] for i in range(len(temp4))]\n",
    "    stamina=[temp4[i]['Stamina'] for i in range(len(temp4))]\n",
    "    strength=[temp4[i]['Strength'] for i in range(len(temp4))]\n",
    "    longshots=[temp4[i]['LongShots'] for i in range(len(temp4))]\n",
    "    \n",
    "    #mentality\n",
    "    temp5=list(df_players_info['mentality'])\n",
    "    aggression=[temp5[i]['Aggression'] for i in range(len(temp5))]\n",
    "    interceptions=[temp5[i]['Interceptions'] for i in range(len(temp5))]\n",
    "    positioning=[temp5[i]['Positioning'] for i in range(len(temp5))]\n",
    "    vision=[temp5[i]['Vision'] for i in range(len(temp5))]\n",
    "    penalties=[temp5[i]['Penalties'] for i in range(len(temp5))]\n",
    "    composure=[temp5[i]['Composure'] for i in range(len(temp5))]\n",
    "    \n",
    "    #defending\n",
    "    temp6=list(df_players_info['defending'])\n",
    "    defensiveawareness=[temp6[i]['DefensiveAwareness'] for i in range(len(temp6))]\n",
    "    standingtackle=[temp6[i]['StandingTackle'] for i in range(len(temp6))]\n",
    "    slidingtackle=[temp6[i]['SlidingTackle'] for i in range(len(temp6))]\n",
    "    \n",
    "    #goalkeeping\n",
    "    temp7=list(df_players_info['goalkeeping'])\n",
    "    gkdiving=[temp7[i]['GKDiving'] for i in range(len(temp7))]\n",
    "    gkhandling=[temp7[i]['GKHandling'] for i in range(len(temp7))]\n",
    "    gkkicking=[temp7[i]['GKKicking'] for i in range(len(temp7))]\n",
    "    gkpositioning=[temp7[i]['GKPositioning'] for i in range(len(temp7))]\n",
    "    gkreflexes=[temp7[i]['GKReflexes'] for i in range(len(temp7))]\n",
    "    \n",
    "    #thêm các list này vào dataframe mới đã tạo ở bên trên\n",
    "    new_df['Crossing']=np.array(crossing)\n",
    "    new_df['Finishing']=np.array(finishing)\n",
    "    new_df['HeadingAccuracy']=np.array(headingaccuracy)\n",
    "    new_df['ShortPassing']=np.array(shortpassing)\n",
    "    new_df['Volleys']=np.array(volleys)\n",
    "    new_df['Dribbling']=np.array(dribbling)\n",
    "    new_df['Curve']=np.array(curve)\n",
    "    new_df['FK_Accuracy']=np.array(fkaccuracy)\n",
    "    new_df['LongPassing']=np.array(longpassing)\n",
    "    new_df['BallControl']=np.array(ballcontrol)\n",
    "    new_df['Acceleration']=np.array(acceleration)\n",
    "    new_df['SprintSpeed']=np.array(sprintspeed)\n",
    "    new_df['Agility']=np.array(agility)\n",
    "    new_df['Reactions']=np.array(reactions)\n",
    "    new_df['Balance']=np.array(balance)\n",
    "    new_df['ShotPower']=np.array(shotpower)\n",
    "    new_df['Jumping']=np.array(jumping)\n",
    "    new_df['Stamina']=np.array(stamina)\n",
    "    new_df['Strength']=np.array(strength)\n",
    "    new_df['LongShots']=np.array(longshots)\n",
    "    new_df['Aggression']=np.array(aggression)\n",
    "    new_df['Interceptions']=np.array(interceptions)\n",
    "    new_df['Positioning']=np.array(positioning)\n",
    "    new_df['Vision']=np.array(vision)\n",
    "    new_df['Penalties']=np.array(penalties)\n",
    "    new_df['Composure']=np.array(composure)\n",
    "    new_df['Defensive Awareness']=np.array(defensiveawareness)\n",
    "    new_df['Standing Tackle']=np.array(standingtackle)\n",
    "    new_df['Sliding Tackle']=np.array(slidingtackle)\n",
    "    new_df['GK_Diving']=np.array(gkdiving)\n",
    "    new_df['GK_Handling']=np.array(gkhandling)\n",
    "    new_df['GK_Kicking']=np.array(gkkicking)\n",
    "    new_df['GK_Positioning']=np.array(gkpositioning)\n",
    "    new_df['GK_Reflexes']=np.array(gkreflexes)\n",
    "    \n",
    "    #tạo dictionary theo yêu cầu\n",
    "    keys=list(new_df.columns)\n",
    "    temp2={}\n",
    "    df_split_players_info={}\n",
    "    for k in keys:\n",
    "        l=new_df[k]\n",
    "        for i in range(len(l)):\n",
    "            temp2[str(i)]=l[i]\n",
    "        df_split_players_info[k]=temp2\n",
    "        temp2={}\n",
    "    return pd.DataFrame(df_split_players_info)"
   ]
  },
  {
   "cell_type": "code",
   "execution_count": null,
   "metadata": {
    "id": "Trd9o5bUEujU"
   },
   "outputs": [],
   "source": [
    "# TEST\n",
    "df_split_players_info = split_players_info()\n",
    "df_split_players_info_test = pd.read_json('/content/split_players_info.json', encoding='utf-8-sig')\n",
    "assert_frame_equal(df_split_players_info.iloc[:, 23:], df_split_players_info_test.iloc[:, 23:])"
   ]
  },
  {
   "cell_type": "markdown",
   "metadata": {
    "id": "VQtEUA263lFE"
   },
   "source": [
    "<b>2)</b> Vì cột giá trị của cầu thủ (Value) và tiền lương (Wage) đang ở dạng viết tắt nên các bạn cần chuyển hai cột này về dạng số (float) bằng cách hoàn thành hàm <b>value_and_wage_to_float(col)</b>. Ví dụ, cầu thủ A có giá trị là €1M và tiền lương là €1K, hai cột này sau khi được tiền xử lý thì cầu thủ A sẽ có giá trị là 1000000.0 và tiền lương là 1000. Ngoài ra, bạn cần lưu ý kiểm tra các cột này có giá trị bị thiếu hay không, nếu có sẽ điền là 0.0 và ngược lại sẽ tiền xử lý như trên."
   ]
  },
  {
   "cell_type": "code",
   "execution_count": null,
   "metadata": {
    "id": "-w1ySIhU3J_O"
   },
   "outputs": [],
   "source": [
    "def value_and_wage_to_float(col):\n",
    "    #YOUR CODE HERE\n",
    "    for i in range(len(col)):\n",
    "        vals=0\n",
    "        if 'M' in col[i]:\n",
    "            vals=float(10**6)\n",
    "        if 'K' in col[i]:\n",
    "            vals=float(10**3)\n",
    "        col[i]=col[i][1:-1]\n",
    "        if col[i]!='':\n",
    "            col[i]=float(col[i])\n",
    "            col[i]*=vals\n",
    "        else: # nếu cột bị thiếu\n",
    "            col[i]=0.0\n",
    "    return col\n",
    "\n",
    "df_split_players_info = split_players_info()\n",
    "df_split_players_info[['Value','Wage']]=df_split_players_info[['Value','Wage']].apply(value_and_wage_to_float)"
   ]
  },
  {
   "cell_type": "code",
   "execution_count": null,
   "metadata": {
    "id": "h6hcwHaZ4znE"
   },
   "outputs": [],
   "source": [
    "# TEST\n",
    "assert df_split_players_info['Wage'].to_list()[:5] == [230000.0, 350000.0, 420000.0, 450000.0, 195000.0]\n",
    "assert df_split_players_info['Wage'].to_list()[-5:] == [41000.0, 21000.0, 59000.0, 15000.0, 50000.0]\n",
    "assert df_split_players_info['Value'].to_list()[:5] == [190500000.0, 107500000.0, 84000000.0, 64000000.0, 54000000.0]\n",
    "assert df_split_players_info['Value'].to_list()[-5:] == [32000000.0, 9500000.0, 19500000.0, 22000000.0, 20000000.0]"
   ]
  },
  {
   "cell_type": "markdown",
   "metadata": {
    "id": "HpUsosnEDJia"
   },
   "source": [
    "<b>3)</b> Vì cột giá trị giải phóng hợp đồng (Release Clause) của cầu thủ đang ở dạng object, các bạn cần chuyển về dạng chuỗi và sau đó tiến hành tiền xử lý tương tự như hai cột <b>Value</b> và <b>Wage</b> ở trên bằng cách hoàn thành hàm <b>release_clause_to_float(col)</b>."
   ]
  },
  {
   "cell_type": "code",
   "execution_count": null,
   "metadata": {
    "id": "nDExKO517OuE"
   },
   "outputs": [],
   "source": [
    "import numpy as np\n",
    "\n",
    "def release_clause_to_float(col):\n",
    "    # YOUR CODE HERE\n",
    "    for i in range(len(col)):\n",
    "        col[i]=str(col[i])\n",
    "        vals=0\n",
    "        if 'M' in col[i]:\n",
    "            vals=float(10**6)\n",
    "        if 'K' in col[i]:\n",
    "            vals=float(10**3)\n",
    "        col[i]=col[i][1:-1]\n",
    "        if col[i]!='' and col[i]!='ul':\n",
    "            col[i]=float(col[i])\n",
    "            col[i]=col[i]*vals\n",
    "        else:\n",
    "            col[i]=float(0.0)\n",
    "    return col\n",
    "\n",
    "df_split_players_info[['Release Clause']]=df_split_players_info[['Release Clause']].apply(release_clause_to_float)"
   ]
  },
  {
   "cell_type": "code",
   "execution_count": null,
   "metadata": {
    "id": "Hkj6nUcEFI8b"
   },
   "outputs": [],
   "source": [
    "# TEST\n",
    "assert df_split_players_info['Release Clause'].to_list()[:5] == [366700000.0, 198900000.0, 172200000.0, 131199999.99999999, 99900000.0]\n",
    "assert df_split_players_info['Release Clause'].to_list()[-5:] == [0.0, 17100000.0, 38500000.0, 48400000.0, 35500000.0]"
   ]
  }
 ],
 "metadata": {
  "colab": {
   "collapsed_sections": [],
   "provenance": []
  },
  "kernelspec": {
   "display_name": "Python 3 (ipykernel)",
   "language": "python",
   "name": "python3"
  },
  "language_info": {
   "codemirror_mode": {
    "name": "ipython",
    "version": 3
   },
   "file_extension": ".py",
   "mimetype": "text/x-python",
   "name": "python",
   "nbconvert_exporter": "python",
   "pygments_lexer": "ipython3",
   "version": "3.10.0"
  }
 },
 "nbformat": 4,
 "nbformat_minor": 4
}
