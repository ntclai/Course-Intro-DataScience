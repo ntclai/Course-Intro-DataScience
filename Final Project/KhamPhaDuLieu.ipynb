{
 "cells": [
  {
   "cell_type": "markdown",
   "id": "8e24ac7e-ad54-4c1c-80e4-4c7f18558887",
   "metadata": {},
   "source": [
    "<div style=\"text-align: left; background-color:#E9F7EF; font-family:Arial; color:#526085; padding: 12px; line-height:1.25;border-radius:1px; margin-bottom: 0em; text-align: center; font-size: 58px;border-style: solid;border-color: dark green;\">ĐỒ ÁN THỰC HÀNH</div>\n",
    "<div style=\"text-align: left; background-color:#fadefc; font-family: Arial; color:#551184; padding: 12px; line-height:1.25;border-radius:1px; margin-bottom: 0em; text-align: center; font-size: 18px\">| Bộ môn: Nhập môn Khoa học Dữ liệu |</div>"
   ]
  },
  {
   "cell_type": "markdown",
   "id": "d8590d53-bc69-4848-8130-a7dc8b8dd8de",
   "metadata": {},
   "source": [
    "# <div style=\"text-align: left; background-color:#0C6A86; font-family:Arial; color:white; padding: 12px; line-height:1.25;border-radius:1px; margin-bottom: 0em; text-align: center; font-size: 30px;border-style: solid;border-color: black;\">B. KHÁM PHÁ DỮ LIỆU</div>"
   ]
  },
  {
   "cell_type": "markdown",
   "id": "73f5e08c-4495-4f7c-a468-61f1760ba316",
   "metadata": {},
   "source": [
    "<a id=\"top\"></a>\n",
    "<div class=\"list-group\" id=\"list-tab\" role=\"tablist\">\n",
    "    <h3 style=\"text-align: left; background-color: #ACA224; font-family:newtimeroman; color: white; padding: 14px; line-height: 1; border-radius:10px\"><b>Mục lục 📝</b></h3>\n",
    "    \n",
    "   * [I. Mô tả chung](#1)\n",
    "        \n",
    "   * [II. Nội dung thực hiện](#2)\n",
    "        - [1. Đọc dữ liệu và tính số dòng và cột](#2.1)\n",
    "        - [2. Mỗi dòng có ý nghĩa gì? Có vấn đề các dòng có ý nghĩa khác nhau không?](#2.2)\n",
    "        - [3. Dữ liệu có các dòng bị lặp không?](#2.3)\n",
    "        - [4. Tỉ lệ giá trị thiếu và thống kê mô tả của từng cột](#2.4)\n",
    "        - [5. Kiểu dữ liệu của mỗi cột](#2.5)\n",
    "        - [6. Xem xét tập giá trị của các thuộc tính phân loại](#2.6)\n",
    "        - [7. Xem xét sự phân bố giá trị của các cột dữ liệu dạng số](#2.7)\n",
    "        - [8. Xem xét sự phân bố giá trị của các cột dữ liệu không phải dạng số](#2.8)\n",
    "\n",
    "   * [III. Thu thập kết quả](#3)\n",
    "       "
   ]
  },
  {
   "cell_type": "markdown",
   "id": "8868aeec-e6aa-4549-9330-ab91bb65b0ce",
   "metadata": {},
   "source": [
    "<a id=\"1\"></a>\n",
    "## <div style=\"text-align: left; background-color:#ACA224; font-family:newtimeroman;color: white; padding: 14px; line-height: 1;border-radius:10px\">I. Mô tả chung</div>"
   ]
  },
  {
   "cell_type": "markdown",
   "id": "4644f842-d0b8-4b0e-959b-74c35a06c377",
   "metadata": {},
   "source": [
    "<div style=\"border-radius:10px;border:#0C6A86 solid;padding: 15px;background-color:#ebfae8;font-size:110%;text-align:left\">\n",
    "    \n",
    "💬Ở phần này chúng ta sẽ thực hiện khám phá dữ liệu đã thu thập bằng cách sử dụng thống kê mô tả để hiểu dữ liệu tốt hơn, tức là để xác định các vấn đề về dữ liệu (dữ liệu bị thiếu giá trị, giá trị không hợp lệ, cột có kiểu dữ liệu không phù hợp để xử lý thêm,...). Thông qua việc khám phá dữ liệu, có thể ta sẽ phát hiện ra những điểm bất thường, không hợp lý của dữ liệu, từ đó thực hiện tiền xử lý để dữ liệu trở nên rõ ràng và dễ hiểu hơn, phục vụ tốt cho các phần sau của đồ án."
   ]
  },
  {
   "cell_type": "markdown",
   "id": "5758db62",
   "metadata": {},
   "source": [
    "<a id=\"2\"></a>\n",
    "## <div style=\"text-align: left; background-color:#ACA224; font-family:newtimeroman;color: white; padding: 14px; line-height: 1;border-radius:10px\">II. Nội dung thực hiện</div>"
   ]
  },
  {
   "cell_type": "markdown",
   "id": "60af38e3",
   "metadata": {},
   "source": [
    "<a id=\"2.1\"></a>\n",
    "### <span style='color:#2B9C15'>1. Đọc dữ liệu và tính số dòng và cột </span>"
   ]
  },
  {
   "cell_type": "markdown",
   "id": "85cbdfc3",
   "metadata": {},
   "source": [
    "👉 Đầu tiên ta import các thư viện cần thiết."
   ]
  },
  {
   "cell_type": "code",
   "execution_count": 1,
   "id": "feb9865d",
   "metadata": {},
   "outputs": [],
   "source": [
    "import numpy as np\n",
    "import pandas as pd"
   ]
  },
  {
   "cell_type": "markdown",
   "id": "a2f5c7fc",
   "metadata": {},
   "source": [
    "👉 Tiếp đến đọc file `\"chotot.csv\"` vào dataframe `house_df` và in ra 3 dòng đầu tiên của dataframe."
   ]
  },
  {
   "cell_type": "code",
   "execution_count": 2,
   "id": "70f39db2",
   "metadata": {},
   "outputs": [
    {
     "data": {
      "text/html": [
       "<div>\n",
       "<style scoped>\n",
       "    .dataframe tbody tr th:only-of-type {\n",
       "        vertical-align: middle;\n",
       "    }\n",
       "\n",
       "    .dataframe tbody tr th {\n",
       "        vertical-align: top;\n",
       "    }\n",
       "\n",
       "    .dataframe thead th {\n",
       "        text-align: right;\n",
       "    }\n",
       "</style>\n",
       "<table border=\"1\" class=\"dataframe\">\n",
       "  <thead>\n",
       "    <tr style=\"text-align: right;\">\n",
       "      <th></th>\n",
       "      <th>DiaChi</th>\n",
       "      <th>GiaBan</th>\n",
       "      <th>DuAn</th>\n",
       "      <th>DienTich</th>\n",
       "      <th>TinhTrangBDS</th>\n",
       "      <th>Gia/m2</th>\n",
       "      <th>PhongNgu</th>\n",
       "      <th>PhongVeSinh</th>\n",
       "      <th>SoTang</th>\n",
       "      <th>TinhTrangGiayTo</th>\n",
       "      <th>TinhTrangNoiThat</th>\n",
       "      <th>HuongBanCong</th>\n",
       "      <th>HuongCua</th>\n",
       "      <th>DacDiem</th>\n",
       "    </tr>\n",
       "  </thead>\n",
       "  <tbody>\n",
       "    <tr>\n",
       "      <th>0</th>\n",
       "      <td>Đường Huy Cận, Phường Phước Long B (Quận 9 cũ)...</td>\n",
       "      <td>2,35 tỷ</td>\n",
       "      <td>The Art</td>\n",
       "      <td>66 m²</td>\n",
       "      <td>Chưa bàn giao</td>\n",
       "      <td>35,61 triệu/m²</td>\n",
       "      <td>2 phòng</td>\n",
       "      <td>2 phòng</td>\n",
       "      <td>8.0</td>\n",
       "      <td>Đã có sổ</td>\n",
       "      <td>Nội thất cao cấp</td>\n",
       "      <td>Tây Bắc</td>\n",
       "      <td>Đông Bắc</td>\n",
       "      <td>NaN</td>\n",
       "    </tr>\n",
       "    <tr>\n",
       "      <th>1</th>\n",
       "      <td>số 88, số 88 Đường N1, Phường Sơn Kỳ, Quận Tân...</td>\n",
       "      <td>3,42 tỷ</td>\n",
       "      <td>Celadon City</td>\n",
       "      <td>71 m²</td>\n",
       "      <td>Đã bàn giao</td>\n",
       "      <td>48,17 triệu/m²</td>\n",
       "      <td>2 phòng</td>\n",
       "      <td>2 phòng</td>\n",
       "      <td>NaN</td>\n",
       "      <td>Đang chờ sổ</td>\n",
       "      <td>Nội thất cao cấp</td>\n",
       "      <td>NaN</td>\n",
       "      <td>NaN</td>\n",
       "      <td>NaN</td>\n",
       "    </tr>\n",
       "    <tr>\n",
       "      <th>2</th>\n",
       "      <td>Võ Văn Kiệt, Phường An Lạc, Quận Bình Tân, Tp ...</td>\n",
       "      <td>2,4 tỷ</td>\n",
       "      <td>Akari City</td>\n",
       "      <td>56 m²</td>\n",
       "      <td>Đã bàn giao</td>\n",
       "      <td>42,86 triệu/m²</td>\n",
       "      <td>2 phòng</td>\n",
       "      <td>NaN</td>\n",
       "      <td>NaN</td>\n",
       "      <td>NaN</td>\n",
       "      <td>NaN</td>\n",
       "      <td>NaN</td>\n",
       "      <td>NaN</td>\n",
       "      <td>NaN</td>\n",
       "    </tr>\n",
       "  </tbody>\n",
       "</table>\n",
       "</div>"
      ],
      "text/plain": [
       "                                              DiaChi   GiaBan          DuAn  \\\n",
       "0  Đường Huy Cận, Phường Phước Long B (Quận 9 cũ)...  2,35 tỷ       The Art   \n",
       "1  số 88, số 88 Đường N1, Phường Sơn Kỳ, Quận Tân...  3,42 tỷ  Celadon City   \n",
       "2  Võ Văn Kiệt, Phường An Lạc, Quận Bình Tân, Tp ...   2,4 tỷ    Akari City   \n",
       "\n",
       "  DienTich   TinhTrangBDS          Gia/m2 PhongNgu PhongVeSinh  SoTang  \\\n",
       "0    66 m²  Chưa bàn giao  35,61 triệu/m²  2 phòng     2 phòng     8.0   \n",
       "1    71 m²    Đã bàn giao  48,17 triệu/m²  2 phòng     2 phòng     NaN   \n",
       "2    56 m²    Đã bàn giao  42,86 triệu/m²  2 phòng         NaN     NaN   \n",
       "\n",
       "  TinhTrangGiayTo  TinhTrangNoiThat HuongBanCong  HuongCua DacDiem  \n",
       "0        Đã có sổ  Nội thất cao cấp      Tây Bắc  Đông Bắc     NaN  \n",
       "1     Đang chờ sổ  Nội thất cao cấp          NaN       NaN     NaN  \n",
       "2             NaN               NaN          NaN       NaN     NaN  "
      ]
     },
     "execution_count": 2,
     "metadata": {},
     "output_type": "execute_result"
    }
   ],
   "source": [
    "house_df = pd.read_csv('chotot.csv')\n",
    "house_df.head(3)"
   ]
  },
  {
   "cell_type": "markdown",
   "id": "4061427f",
   "metadata": {},
   "source": [
    "👉 Tính số dòng và số cột và lưu vào 2 biến `num_rows` và `num_cols`."
   ]
  },
  {
   "cell_type": "code",
   "execution_count": 3,
   "id": "e912fb6d",
   "metadata": {},
   "outputs": [
    {
     "name": "stdout",
     "output_type": "stream",
     "text": [
      "Number of rows: 1135\n",
      "Number of columns: 14\n"
     ]
    }
   ],
   "source": [
    "num_rows, num_cols = house_df.shape\n",
    "print(f'Number of rows: {num_rows}\\nNumber of columns: {num_cols}')"
   ]
  },
  {
   "cell_type": "markdown",
   "id": "65f1b59f",
   "metadata": {},
   "source": [
    "<a id=\"2.2\"></a>\n",
    "### <span style='color:#2B9C15'>2. Mỗi dòng có ý nghĩa gì? Có vấn đề các dòng có ý nghĩa khác nhau không? </span>"
   ]
  },
  {
   "cell_type": "markdown",
   "id": "31afc105",
   "metadata": {},
   "source": [
    "💬 Như đã được đề cập ở trên, dữ liệu được thu thập bằng cách crawl dữ liệu thô trên trang web [Chợ tốt](https://nha.chotot.com/). Mỗi dòng trong tập dữ liệu này tương ứng với một bản ghi các thông tin về căn hộ chung cư ở TP.HCM được đăng bán trên trang web 'chotot'. Bao gồm các thuộc tính như: địa chỉ, giá bán, dự án thầu, tình trạng bàn giao, số phòng ngủ, số phòng vệ sinh, giá/m2, căn hộ ở tầng mấy của chung cư, tình trạng giấy tờ, tình trạng nội thất, hướng ban công, hướng cửa chính, là căn góc hay trung tâm. Do vậy, ta có thể thấy rằng không có dòng nào bị \"lạc loài\"."
   ]
  },
  {
   "cell_type": "markdown",
   "id": "138821ab",
   "metadata": {},
   "source": [
    "<a id=\"2.3\"></a>\n",
    "### <span style='color:#2B9C15'>3. Dữ liệu có các dòng bị lặp không? </span>"
   ]
  },
  {
   "cell_type": "markdown",
   "id": "73e3c0b8",
   "metadata": {},
   "source": [
    "👉 Ta kiểm tra xem có dòng nào bị lặp không bằng cách sử dụng các phương thức `duplicated()` và `any()` trên dataframe `house_df` và lưu kết quả vào biến `have_duplicated_rows`. Biến này sẽ có giá trị True nếu dữ liệu có các dòng bị lặp và có giá trị False nếu ngược lại."
   ]
  },
  {
   "cell_type": "code",
   "execution_count": 4,
   "id": "3fe99e7c",
   "metadata": {},
   "outputs": [
    {
     "data": {
      "text/plain": [
       "False"
      ]
     },
     "execution_count": 4,
     "metadata": {},
     "output_type": "execute_result"
    }
   ],
   "source": [
    "have_duplicate_rows = house_df.duplicated().any()\n",
    "have_duplicate_rows"
   ]
  },
  {
   "cell_type": "markdown",
   "id": "47d55291",
   "metadata": {},
   "source": [
    "💡 Do vậy, ta có thể thấy rằng dữ liệu không có các dòng bị lặp. Dễ thấy do thông tin các căn hộ được đăng bán là khác nhau và duy nhất cho một người chủ đăng bán."
   ]
  },
  {
   "cell_type": "markdown",
   "id": "313f1a24",
   "metadata": {},
   "source": [
    "<a id=\"2.4\"></a>\n",
    "### <span style='color:#2B9C15'>4. Tỉ lệ giá trị thiếu và thống kê mô tả của từng cột </span>"
   ]
  },
  {
   "cell_type": "markdown",
   "id": "15f9c43f",
   "metadata": {},
   "source": [
    "👉 Ta cũng cần xem xét đến các giá trị thiếu trong dữ liệu. Đầu tiên, ta tính tỉ lệ giá trị thiếu của từng cột bằng cách sử dụng phương thức `isnull()` trên dataframe `house_df` và tính tổng số giá trị thiếu của từng cột bằng phương thức `sum()`. Cuối cùng ta chia số dòng và lưu kết quả vào `missing_ratio`."
   ]
  },
  {
   "cell_type": "code",
   "execution_count": 5,
   "id": "26dbf1f7",
   "metadata": {},
   "outputs": [
    {
     "data": {
      "text/plain": [
       "DiaChi              0.000000\n",
       "GiaBan              0.000000\n",
       "DuAn                0.000000\n",
       "DienTich            0.000000\n",
       "TinhTrangBDS        0.000881\n",
       "Gia/m2              0.000000\n",
       "PhongNgu            0.000000\n",
       "PhongVeSinh         0.166520\n",
       "SoTang              0.751542\n",
       "TinhTrangGiayTo     0.496916\n",
       "TinhTrangNoiThat    0.536564\n",
       "HuongBanCong        0.748899\n",
       "HuongCua            0.796476\n",
       "DacDiem             0.824670\n",
       "dtype: float64"
      ]
     },
     "execution_count": 5,
     "metadata": {},
     "output_type": "execute_result"
    }
   ],
   "source": [
    "missing_ratio = house_df.isnull().sum()\n",
    "missing_ratio = missing_ratio / num_rows\n",
    "missing_ratio"
   ]
  },
  {
   "cell_type": "markdown",
   "id": "2b279838",
   "metadata": {},
   "source": [
    "**💡  Nhận xét**\n",
    "- Có thể thấy, dữ liệu có rất nhiều thuộc tính bị thiếu và tỉ lệ thiếu khá lớn. Do vậy, việc tiền xử lý cho bộ dữ liệu này là vô cùng cần thiết.\n",
    "- Sở dĩ việc có nhiều giá trị thiếu do mỗi người đăng thông tin lên web có các thông tin cho ngôi nhà khác nhau, và trang web không có một form bắt buộc cho các bài được đăng nên có những thông tin ngôi nhà này có cho biết nhưng ngôi nhà khác lại không cho biết."
   ]
  },
  {
   "cell_type": "markdown",
   "id": "8eca0732",
   "metadata": {},
   "source": [
    "👉 Ta cũng cần tính các giá trị thống kê mô tả của các cột numeric bằng phương thức `describe()` trên dataframe `house_df`."
   ]
  },
  {
   "cell_type": "code",
   "execution_count": 6,
   "id": "23f1b45b",
   "metadata": {},
   "outputs": [
    {
     "data": {
      "text/html": [
       "<style type=\"text/css\">\n",
       "#T_0486c_row0_col0, #T_0486c_row1_col0, #T_0486c_row2_col0, #T_0486c_row3_col0, #T_0486c_row4_col0, #T_0486c_row5_col0, #T_0486c_row6_col0, #T_0486c_row7_col0 {\n",
       "  background-color: #C2A3E7;\n",
       "  color: black;\n",
       "  border-color: #8b8c8c;\n",
       "}\n",
       "</style>\n",
       "<table id=\"T_0486c\">\n",
       "  <thead>\n",
       "    <tr>\n",
       "      <th class=\"blank level0\" >&nbsp;</th>\n",
       "      <th id=\"T_0486c_level0_col0\" class=\"col_heading level0 col0\" >SoTang</th>\n",
       "    </tr>\n",
       "  </thead>\n",
       "  <tbody>\n",
       "    <tr>\n",
       "      <th id=\"T_0486c_level0_row0\" class=\"row_heading level0 row0\" >count</th>\n",
       "      <td id=\"T_0486c_row0_col0\" class=\"data row0 col0\" >282.000000</td>\n",
       "    </tr>\n",
       "    <tr>\n",
       "      <th id=\"T_0486c_level0_row1\" class=\"row_heading level0 row1\" >mean</th>\n",
       "      <td id=\"T_0486c_row1_col0\" class=\"data row1 col0\" >13.386525</td>\n",
       "    </tr>\n",
       "    <tr>\n",
       "      <th id=\"T_0486c_level0_row2\" class=\"row_heading level0 row2\" >std</th>\n",
       "      <td id=\"T_0486c_row2_col0\" class=\"data row2 col0\" >20.639670</td>\n",
       "    </tr>\n",
       "    <tr>\n",
       "      <th id=\"T_0486c_level0_row3\" class=\"row_heading level0 row3\" >min</th>\n",
       "      <td id=\"T_0486c_row3_col0\" class=\"data row3 col0\" >1.000000</td>\n",
       "    </tr>\n",
       "    <tr>\n",
       "      <th id=\"T_0486c_level0_row4\" class=\"row_heading level0 row4\" >25%</th>\n",
       "      <td id=\"T_0486c_row4_col0\" class=\"data row4 col0\" >7.000000</td>\n",
       "    </tr>\n",
       "    <tr>\n",
       "      <th id=\"T_0486c_level0_row5\" class=\"row_heading level0 row5\" >50%</th>\n",
       "      <td id=\"T_0486c_row5_col0\" class=\"data row5 col0\" >10.000000</td>\n",
       "    </tr>\n",
       "    <tr>\n",
       "      <th id=\"T_0486c_level0_row6\" class=\"row_heading level0 row6\" >75%</th>\n",
       "      <td id=\"T_0486c_row6_col0\" class=\"data row6 col0\" >16.000000</td>\n",
       "    </tr>\n",
       "    <tr>\n",
       "      <th id=\"T_0486c_level0_row7\" class=\"row_heading level0 row7\" >max</th>\n",
       "      <td id=\"T_0486c_row7_col0\" class=\"data row7 col0\" >321.000000</td>\n",
       "    </tr>\n",
       "  </tbody>\n",
       "</table>\n"
      ],
      "text/plain": [
       "<pandas.io.formats.style.Styler at 0x27a7cd711e0>"
      ]
     },
     "execution_count": 6,
     "metadata": {},
     "output_type": "execute_result"
    }
   ],
   "source": [
    "house_df.describe().style.set_properties(**{'background-color': '#C2A3E7' ,'color':'black','border-color': '#8b8c8c'})"
   ]
  },
  {
   "cell_type": "markdown",
   "id": "c62fa1db-dee9-4fa7-9ae8-c37d59f353c8",
   "metadata": {},
   "source": [
    "**💡 Nhận xét**\n",
    "- Do hiện tại bộ dữ liệu chỉ có một cột SoTang là có kiểu dữ liệu numerical nên dùng phương thức describe() sẽ chỉ thống kê cho mỗi cột 'SoTang'.\n",
    "- Để xem thống kê cho các cột không phải dạng numerical ta phải gọi cụ thể cột đó."
   ]
  },
  {
   "cell_type": "code",
   "execution_count": 7,
   "id": "06ff9fd9-621d-48f2-ba68-2a116fe326b5",
   "metadata": {},
   "outputs": [
    {
     "data": {
      "text/html": [
       "<style type=\"text/css\">\n",
       "#T_a93e9_row0_col0, #T_a93e9_row0_col1, #T_a93e9_row0_col2, #T_a93e9_row0_col3, #T_a93e9_row0_col4, #T_a93e9_row0_col5, #T_a93e9_row0_col6, #T_a93e9_row0_col7, #T_a93e9_row0_col8, #T_a93e9_row0_col9, #T_a93e9_row0_col10, #T_a93e9_row0_col11, #T_a93e9_row0_col12, #T_a93e9_row1_col0, #T_a93e9_row1_col1, #T_a93e9_row1_col2, #T_a93e9_row1_col3, #T_a93e9_row1_col4, #T_a93e9_row1_col5, #T_a93e9_row1_col6, #T_a93e9_row1_col7, #T_a93e9_row1_col8, #T_a93e9_row1_col9, #T_a93e9_row1_col10, #T_a93e9_row1_col11, #T_a93e9_row1_col12, #T_a93e9_row2_col0, #T_a93e9_row2_col1, #T_a93e9_row2_col2, #T_a93e9_row2_col3, #T_a93e9_row2_col4, #T_a93e9_row2_col5, #T_a93e9_row2_col6, #T_a93e9_row2_col7, #T_a93e9_row2_col8, #T_a93e9_row2_col9, #T_a93e9_row2_col10, #T_a93e9_row2_col11, #T_a93e9_row2_col12, #T_a93e9_row3_col0, #T_a93e9_row3_col1, #T_a93e9_row3_col2, #T_a93e9_row3_col3, #T_a93e9_row3_col4, #T_a93e9_row3_col5, #T_a93e9_row3_col6, #T_a93e9_row3_col7, #T_a93e9_row3_col8, #T_a93e9_row3_col9, #T_a93e9_row3_col10, #T_a93e9_row3_col11, #T_a93e9_row3_col12 {\n",
       "  background-color: #C2A3E7;\n",
       "  color: black;\n",
       "  border-color: #8b8c8c;\n",
       "}\n",
       "</style>\n",
       "<table id=\"T_a93e9\">\n",
       "  <thead>\n",
       "    <tr>\n",
       "      <th class=\"blank level0\" >&nbsp;</th>\n",
       "      <th id=\"T_a93e9_level0_col0\" class=\"col_heading level0 col0\" >DiaChi</th>\n",
       "      <th id=\"T_a93e9_level0_col1\" class=\"col_heading level0 col1\" >GiaBan</th>\n",
       "      <th id=\"T_a93e9_level0_col2\" class=\"col_heading level0 col2\" >DuAn</th>\n",
       "      <th id=\"T_a93e9_level0_col3\" class=\"col_heading level0 col3\" >DienTich</th>\n",
       "      <th id=\"T_a93e9_level0_col4\" class=\"col_heading level0 col4\" >TinhTrangBDS</th>\n",
       "      <th id=\"T_a93e9_level0_col5\" class=\"col_heading level0 col5\" >Gia/m2</th>\n",
       "      <th id=\"T_a93e9_level0_col6\" class=\"col_heading level0 col6\" >PhongNgu</th>\n",
       "      <th id=\"T_a93e9_level0_col7\" class=\"col_heading level0 col7\" >PhongVeSinh</th>\n",
       "      <th id=\"T_a93e9_level0_col8\" class=\"col_heading level0 col8\" >TinhTrangGiayTo</th>\n",
       "      <th id=\"T_a93e9_level0_col9\" class=\"col_heading level0 col9\" >TinhTrangNoiThat</th>\n",
       "      <th id=\"T_a93e9_level0_col10\" class=\"col_heading level0 col10\" >HuongBanCong</th>\n",
       "      <th id=\"T_a93e9_level0_col11\" class=\"col_heading level0 col11\" >HuongCua</th>\n",
       "      <th id=\"T_a93e9_level0_col12\" class=\"col_heading level0 col12\" >DacDiem</th>\n",
       "    </tr>\n",
       "  </thead>\n",
       "  <tbody>\n",
       "    <tr>\n",
       "      <th id=\"T_a93e9_level0_row0\" class=\"row_heading level0 row0\" >count</th>\n",
       "      <td id=\"T_a93e9_row0_col0\" class=\"data row0 col0\" >1135</td>\n",
       "      <td id=\"T_a93e9_row0_col1\" class=\"data row0 col1\" >1135</td>\n",
       "      <td id=\"T_a93e9_row0_col2\" class=\"data row0 col2\" >1135</td>\n",
       "      <td id=\"T_a93e9_row0_col3\" class=\"data row0 col3\" >1135</td>\n",
       "      <td id=\"T_a93e9_row0_col4\" class=\"data row0 col4\" >1134</td>\n",
       "      <td id=\"T_a93e9_row0_col5\" class=\"data row0 col5\" >1135</td>\n",
       "      <td id=\"T_a93e9_row0_col6\" class=\"data row0 col6\" >1135</td>\n",
       "      <td id=\"T_a93e9_row0_col7\" class=\"data row0 col7\" >946</td>\n",
       "      <td id=\"T_a93e9_row0_col8\" class=\"data row0 col8\" >571</td>\n",
       "      <td id=\"T_a93e9_row0_col9\" class=\"data row0 col9\" >526</td>\n",
       "      <td id=\"T_a93e9_row0_col10\" class=\"data row0 col10\" >285</td>\n",
       "      <td id=\"T_a93e9_row0_col11\" class=\"data row0 col11\" >231</td>\n",
       "      <td id=\"T_a93e9_row0_col12\" class=\"data row0 col12\" >199</td>\n",
       "    </tr>\n",
       "    <tr>\n",
       "      <th id=\"T_a93e9_level0_row1\" class=\"row_heading level0 row1\" >unique</th>\n",
       "      <td id=\"T_a93e9_row1_col0\" class=\"data row1 col0\" >452</td>\n",
       "      <td id=\"T_a93e9_row1_col1\" class=\"data row1 col1\" >330</td>\n",
       "      <td id=\"T_a93e9_row1_col2\" class=\"data row1 col2\" >311</td>\n",
       "      <td id=\"T_a93e9_row1_col3\" class=\"data row1 col3\" >173</td>\n",
       "      <td id=\"T_a93e9_row1_col4\" class=\"data row1 col4\" >2</td>\n",
       "      <td id=\"T_a93e9_row1_col5\" class=\"data row1 col5\" >866</td>\n",
       "      <td id=\"T_a93e9_row1_col6\" class=\"data row1 col6\" >5</td>\n",
       "      <td id=\"T_a93e9_row1_col7\" class=\"data row1 col7\" >5</td>\n",
       "      <td id=\"T_a93e9_row1_col8\" class=\"data row1 col8\" >3</td>\n",
       "      <td id=\"T_a93e9_row1_col9\" class=\"data row1 col9\" >4</td>\n",
       "      <td id=\"T_a93e9_row1_col10\" class=\"data row1 col10\" >8</td>\n",
       "      <td id=\"T_a93e9_row1_col11\" class=\"data row1 col11\" >8</td>\n",
       "      <td id=\"T_a93e9_row1_col12\" class=\"data row1 col12\" >1</td>\n",
       "    </tr>\n",
       "    <tr>\n",
       "      <th id=\"T_a93e9_level0_row2\" class=\"row_heading level0 row2\" >top</th>\n",
       "      <td id=\"T_a93e9_row2_col0\" class=\"data row2 col0\" >Số 4, Đào Trí, Phường Phú Thuận, Quận 7, Tp Hồ Chí Minh</td>\n",
       "      <td id=\"T_a93e9_row2_col1\" class=\"data row2 col1\" >2,1 tỷ</td>\n",
       "      <td id=\"T_a93e9_row2_col2\" class=\"data row2 col2\" >Saigon Riverside Complex Q7</td>\n",
       "      <td id=\"T_a93e9_row2_col3\" class=\"data row2 col3\" >70 m²</td>\n",
       "      <td id=\"T_a93e9_row2_col4\" class=\"data row2 col4\" >Đã bàn giao</td>\n",
       "      <td id=\"T_a93e9_row2_col5\" class=\"data row2 col5\" >50 triệu/m²</td>\n",
       "      <td id=\"T_a93e9_row2_col6\" class=\"data row2 col6\" >2 phòng</td>\n",
       "      <td id=\"T_a93e9_row2_col7\" class=\"data row2 col7\" >2 phòng</td>\n",
       "      <td id=\"T_a93e9_row2_col8\" class=\"data row2 col8\" >Đã có sổ</td>\n",
       "      <td id=\"T_a93e9_row2_col9\" class=\"data row2 col9\" >Nội thất đầy đủ</td>\n",
       "      <td id=\"T_a93e9_row2_col10\" class=\"data row2 col10\" >Đông Nam</td>\n",
       "      <td id=\"T_a93e9_row2_col11\" class=\"data row2 col11\" >Tây Bắc</td>\n",
       "      <td id=\"T_a93e9_row2_col12\" class=\"data row2 col12\" >Căn góc</td>\n",
       "    </tr>\n",
       "    <tr>\n",
       "      <th id=\"T_a93e9_level0_row3\" class=\"row_heading level0 row3\" >freq</th>\n",
       "      <td id=\"T_a93e9_row3_col0\" class=\"data row3 col0\" >39</td>\n",
       "      <td id=\"T_a93e9_row3_col1\" class=\"data row3 col1\" >40</td>\n",
       "      <td id=\"T_a93e9_row3_col2\" class=\"data row3 col2\" >44</td>\n",
       "      <td id=\"T_a93e9_row3_col3\" class=\"data row3 col3\" >43</td>\n",
       "      <td id=\"T_a93e9_row3_col4\" class=\"data row3 col4\" >929</td>\n",
       "      <td id=\"T_a93e9_row3_col5\" class=\"data row3 col5\" >16</td>\n",
       "      <td id=\"T_a93e9_row3_col6\" class=\"data row3 col6\" >785</td>\n",
       "      <td id=\"T_a93e9_row3_col7\" class=\"data row3 col7\" >687</td>\n",
       "      <td id=\"T_a93e9_row3_col8\" class=\"data row3 col8\" >370</td>\n",
       "      <td id=\"T_a93e9_row3_col9\" class=\"data row3 col9\" >210</td>\n",
       "      <td id=\"T_a93e9_row3_col10\" class=\"data row3 col10\" >77</td>\n",
       "      <td id=\"T_a93e9_row3_col11\" class=\"data row3 col11\" >40</td>\n",
       "      <td id=\"T_a93e9_row3_col12\" class=\"data row3 col12\" >199</td>\n",
       "    </tr>\n",
       "  </tbody>\n",
       "</table>\n"
      ],
      "text/plain": [
       "<pandas.io.formats.style.Styler at 0x27a7cd733d0>"
      ]
     },
     "execution_count": 7,
     "metadata": {},
     "output_type": "execute_result"
    }
   ],
   "source": [
    "cate_col_df=house_df.select_dtypes(exclude=['float64','float32','int64','int32'])\n",
    "cate_col_df.describe().style.set_properties(**{'background-color': '#C2A3E7' ,'color':'black','border-color': '#8b8c8c'})"
   ]
  },
  {
   "cell_type": "markdown",
   "id": "695b2b8d-6476-42eb-b744-aae8789bd4e7",
   "metadata": {},
   "source": [
    "👉 Ví dụ với cột 'GiaBan':\n",
    "- Có 1137 dòng.\n",
    "- Có 330 giá trị khác nhau.\n",
    "- Giá trị xuất hiện nhiều nhất là 2,1 tỷ với tần suất xuất hiện là 40 lần."
   ]
  },
  {
   "cell_type": "markdown",
   "id": "afced45a",
   "metadata": {},
   "source": [
    "<a id=\"2.5\"></a>\n",
    "### <span style='color:#2B9C15'>5. Kiểu dữ liệu của mỗi cột </span>"
   ]
  },
  {
   "cell_type": "markdown",
   "id": "0b774d28",
   "metadata": {},
   "source": [
    "👉 Ta sử dụng phương thức `dtypes` trên dataframe `house_df` để xem kiểu dữ liệu của mỗi cột. Kết quả được lưu vào series `col_dtypes`; series này có index là tên các cột và giá trị là kiểu dữ liệu của các cột tương ứng."
   ]
  },
  {
   "cell_type": "code",
   "execution_count": 8,
   "id": "d2a34321",
   "metadata": {},
   "outputs": [
    {
     "data": {
      "text/plain": [
       "DiaChi               object\n",
       "GiaBan               object\n",
       "DuAn                 object\n",
       "DienTich             object\n",
       "TinhTrangBDS         object\n",
       "Gia/m2               object\n",
       "PhongNgu             object\n",
       "PhongVeSinh          object\n",
       "SoTang              float64\n",
       "TinhTrangGiayTo      object\n",
       "TinhTrangNoiThat     object\n",
       "HuongBanCong         object\n",
       "HuongCua             object\n",
       "DacDiem              object\n",
       "dtype: object"
      ]
     },
     "execution_count": 8,
     "metadata": {},
     "output_type": "execute_result"
    }
   ],
   "source": [
    "col_dtype = house_df.dtypes\n",
    "col_dtype"
   ]
  },
  {
   "cell_type": "markdown",
   "id": "2d4208fe",
   "metadata": {},
   "source": [
    "**💡 Nhận xét:** Về mặt kiểu dữ liệu, các thuộc tính của tập dữ liệu có nhiều cột đang ở định dạng chưa phù hợp, nên cần phải tiền xử lý ở giai đoạn này."
   ]
  },
  {
   "cell_type": "markdown",
   "id": "c65bff61",
   "metadata": {},
   "source": [
    "<a id=\"2.6\"></a>\n",
    "### <span style='color:#2B9C15'>6. Thay đổi kiểu dữ liệu phù hợp cho các cột </span>"
   ]
  },
  {
   "cell_type": "markdown",
   "id": "ad716936-ddfc-4802-ac5a-7f440c359ed2",
   "metadata": {
    "tags": []
   },
   "source": [
    "**💡 Nhận xét 1**\n",
    "\n",
    "- Các cột: **GiaBan, DienTich, Gia/m2, PhongNgu, PhongVeSinh** nên được đưa về kiểu dữ liệu numerical để tiếp tục xử lý.\n",
    "- Về mặt thực tế những giá trị này là dạng số thực, và là những thuộc tính quan trọng liên quan đến giá căn hộ, do đó để thuận tiện cho việc áp dụng mô hình học máy thì nên đưa các cột này về dạng số.\n",
    "\n",
    "**🛠 Cách xử lý**\n",
    "- Bước 1: Kiểm tra xem các giá trị trong cùng một thuộc tính liệu chúng có cùng một đơn vị hay không. Chỉ cần xem xét điều này với các thuộc tính: GiaBan, DienTich, Gia/m2.\n",
    "- Bước 2: Nếu ở bước 1, các giá trị không cùng đơn vị với nhau thì ta sẽ tiến hành xử lý đưa về cùng đơn vị. Sau khi các giá trị trong các cột thuộc tính đã có cùng đơn vị với nhau thì ta sẽ xóa phần đơn vị, chỉ để lại phần giá trị số."
   ]
  },
  {
   "cell_type": "markdown",
   "id": "bdc921dd-d4a6-4494-88e2-1ddb1d99a12f",
   "metadata": {},
   "source": [
    "**👉 Code bước 1**"
   ]
  },
  {
   "cell_type": "code",
   "execution_count": 9,
   "id": "8abfd3a1-c301-415a-b888-851d75324f0b",
   "metadata": {},
   "outputs": [
    {
     "name": "stdout",
     "output_type": "stream",
     "text": [
      "Các đơn vị của cột 'Gia/m2': {'triệu/m²', 'tỷ/m²'}\n",
      "Các đơn vị của cột 'DienTich': {'m²'}\n",
      "Các đơn vị của cột 'GiaBan': {'triệu', 'tỷ'}\n"
     ]
    }
   ],
   "source": [
    "#xử lý cho cột 'Gia/m2'.\n",
    "list_val1=house_df['Gia/m2'].values.tolist()\n",
    "list_unit1=[]\n",
    "for i in list_val1:\n",
    "    list_unit1.append(i.split(\" \",1)[1])\n",
    "    \n",
    "#Xử lý cho cột 'DienTich'\n",
    "list_val2=house_df['DienTich'].values.tolist()\n",
    "list_unit2=[]\n",
    "for i in list_val2:\n",
    "    list_unit2.append(i.split(\" \",1)[1])  \n",
    "    \n",
    "#Xử lý cho cột 'GiaBan'\n",
    "list_val3=house_df['GiaBan'].values.tolist()\n",
    "list_unit3=[]\n",
    "for i in list_val3:\n",
    "    list_unit3.append(i.split(\" \",1)[1])\n",
    "    \n",
    "print(f\"Các đơn vị của cột 'Gia/m2':\", set(list_unit1))\n",
    "print(f\"Các đơn vị của cột 'DienTich':\", set(list_unit2))\n",
    "print(f\"Các đơn vị của cột 'GiaBan':\", set(list_unit3))"
   ]
  },
  {
   "cell_type": "markdown",
   "id": "5f70a11a-6fc2-4384-97f1-0a30f1dff5ba",
   "metadata": {},
   "source": [
    "**👉 Code bước 2**\n",
    "\n",
    "Ở đây chúng ta sẽ:\n",
    "- Chuyển đơn vị cột 'GiaBan' về cùng đơn vị tỷ vnđ.\n",
    "- Chuyển đơn vị cột 'Gia/m2' về cùng đơn vị triệu vnđ.\n",
    "- Xóa phần đơn vị tiền của tất cả các cột (chỉ để lại giá trị số)."
   ]
  },
  {
   "cell_type": "code",
   "execution_count": 10,
   "id": "80e36190-ad5a-47cb-9cde-c936372b1f15",
   "metadata": {},
   "outputs": [
    {
     "data": {
      "text/html": [
       "<div>\n",
       "<style scoped>\n",
       "    .dataframe tbody tr th:only-of-type {\n",
       "        vertical-align: middle;\n",
       "    }\n",
       "\n",
       "    .dataframe tbody tr th {\n",
       "        vertical-align: top;\n",
       "    }\n",
       "\n",
       "    .dataframe thead th {\n",
       "        text-align: right;\n",
       "    }\n",
       "</style>\n",
       "<table border=\"1\" class=\"dataframe\">\n",
       "  <thead>\n",
       "    <tr style=\"text-align: right;\">\n",
       "      <th></th>\n",
       "      <th>DiaChi</th>\n",
       "      <th>GiaBan</th>\n",
       "      <th>DuAn</th>\n",
       "      <th>DienTich</th>\n",
       "      <th>TinhTrangBDS</th>\n",
       "      <th>Gia/m2</th>\n",
       "      <th>PhongNgu</th>\n",
       "      <th>PhongVeSinh</th>\n",
       "      <th>SoTang</th>\n",
       "      <th>TinhTrangGiayTo</th>\n",
       "      <th>TinhTrangNoiThat</th>\n",
       "      <th>HuongBanCong</th>\n",
       "      <th>HuongCua</th>\n",
       "      <th>DacDiem</th>\n",
       "    </tr>\n",
       "  </thead>\n",
       "  <tbody>\n",
       "    <tr>\n",
       "      <th>0</th>\n",
       "      <td>Đường Huy Cận, Phường Phước Long B (Quận 9 cũ)...</td>\n",
       "      <td>2.35</td>\n",
       "      <td>The Art</td>\n",
       "      <td>66.0</td>\n",
       "      <td>Chưa bàn giao</td>\n",
       "      <td>35.61</td>\n",
       "      <td>2.0</td>\n",
       "      <td>2.0</td>\n",
       "      <td>8.0</td>\n",
       "      <td>Đã có sổ</td>\n",
       "      <td>Nội thất cao cấp</td>\n",
       "      <td>Tây Bắc</td>\n",
       "      <td>Đông Bắc</td>\n",
       "      <td>NaN</td>\n",
       "    </tr>\n",
       "    <tr>\n",
       "      <th>1</th>\n",
       "      <td>số 88, số 88 Đường N1, Phường Sơn Kỳ, Quận Tân...</td>\n",
       "      <td>3.42</td>\n",
       "      <td>Celadon City</td>\n",
       "      <td>71.0</td>\n",
       "      <td>Đã bàn giao</td>\n",
       "      <td>48.17</td>\n",
       "      <td>2.0</td>\n",
       "      <td>2.0</td>\n",
       "      <td>NaN</td>\n",
       "      <td>Đang chờ sổ</td>\n",
       "      <td>Nội thất cao cấp</td>\n",
       "      <td>NaN</td>\n",
       "      <td>NaN</td>\n",
       "      <td>NaN</td>\n",
       "    </tr>\n",
       "  </tbody>\n",
       "</table>\n",
       "</div>"
      ],
      "text/plain": [
       "                                              DiaChi  GiaBan          DuAn  \\\n",
       "0  Đường Huy Cận, Phường Phước Long B (Quận 9 cũ)...    2.35       The Art   \n",
       "1  số 88, số 88 Đường N1, Phường Sơn Kỳ, Quận Tân...    3.42  Celadon City   \n",
       "\n",
       "   DienTich   TinhTrangBDS  Gia/m2  PhongNgu  PhongVeSinh  SoTang  \\\n",
       "0      66.0  Chưa bàn giao   35.61       2.0          2.0     8.0   \n",
       "1      71.0    Đã bàn giao   48.17       2.0          2.0     NaN   \n",
       "\n",
       "  TinhTrangGiayTo  TinhTrangNoiThat HuongBanCong  HuongCua DacDiem  \n",
       "0        Đã có sổ  Nội thất cao cấp      Tây Bắc  Đông Bắc     NaN  \n",
       "1     Đang chờ sổ  Nội thất cao cấp          NaN       NaN     NaN  "
      ]
     },
     "execution_count": 10,
     "metadata": {},
     "output_type": "execute_result"
    }
   ],
   "source": [
    "#xử lý cho 4 cột 'GiaBan', 'DienTich', 'PhongNgu', 'PhongVeSinh'.\n",
    "vals=house_df[['GiaBan', 'DienTich', 'PhongNgu', 'PhongVeSinh']].values\n",
    "list_vals=vals.tolist()\n",
    "list_num_vals=[[str(float(str(l).split()[0].replace(',','.'))/(10**3)) if (len(str(l).split())>1) and ('triệu' in str(l).split()[1])\n",
    "                else str(l).split()[0].replace(',','.') for l in lv] for lv in list_vals]\n",
    "house_df[['GiaBan', 'DienTich', 'PhongNgu', 'PhongVeSinh']]=list_num_vals\n",
    "#xử lý cho cột 'Gia/m2'.\n",
    "list_val=house_df['Gia/m2'].values.tolist()\n",
    "list_num_val=[str(float(str(l).split()[0].replace(',','.'))*(10**3)) if (len(str(l).split())>1) and ('tỷ' in str(l).split()[1])\n",
    "                else str(l).split()[0].replace(',','.') for l in list_val]\n",
    "house_df['Gia/m2']=list_num_val\n",
    "house_df[['GiaBan', 'DienTich', 'Gia/m2', 'PhongNgu', 'PhongVeSinh']]=house_df[['GiaBan', 'DienTich', 'Gia/m2', 'PhongNgu', 'PhongVeSinh']].astype('float64')\n",
    "house_df.head(2)"
   ]
  },
  {
   "cell_type": "code",
   "execution_count": 11,
   "id": "89a14123-0023-49db-948a-9e4dccbb1ae5",
   "metadata": {},
   "outputs": [
    {
     "name": "stdout",
     "output_type": "stream",
     "text": [
      "Sau khi chuyển đổi kiểu dữ liệu, ta có kết quả:\n"
     ]
    },
    {
     "data": {
      "text/plain": [
       "DiaChi               object\n",
       "GiaBan              float64\n",
       "DuAn                 object\n",
       "DienTich            float64\n",
       "TinhTrangBDS         object\n",
       "Gia/m2              float64\n",
       "PhongNgu            float64\n",
       "PhongVeSinh         float64\n",
       "SoTang              float64\n",
       "TinhTrangGiayTo      object\n",
       "TinhTrangNoiThat     object\n",
       "HuongBanCong         object\n",
       "HuongCua             object\n",
       "DacDiem              object\n",
       "dtype: object"
      ]
     },
     "execution_count": 11,
     "metadata": {},
     "output_type": "execute_result"
    }
   ],
   "source": [
    "print(f\"Sau khi chuyển đổi kiểu dữ liệu, ta có kết quả:\")\n",
    "house_df.dtypes"
   ]
  },
  {
   "cell_type": "markdown",
   "id": "65f414ba-9067-4db9-b8aa-e186d817d7f4",
   "metadata": {},
   "source": [
    "**💡 Nhận xét 2**\n",
    "\n",
    "Cột địa chỉ chứa các giá trị quá cụ thể dẫn đến sự riêng biệt, không có ý nghĩa cho việc trực quan hay phân tích. Do đó ta sẽ lấy địa chỉ một cách tổng quát là quận/huyện/thành phố trực thuộc và thêm vào dataframe cột 'Quan'."
   ]
  },
  {
   "cell_type": "markdown",
   "id": "a55cf4b7-a4ef-484f-a6a3-2b3042b2239e",
   "metadata": {},
   "source": [
    "**👉 Code**"
   ]
  },
  {
   "cell_type": "code",
   "execution_count": 12,
   "id": "b61ce535-1a2b-4462-a996-620217af83fc",
   "metadata": {},
   "outputs": [
    {
     "data": {
      "text/html": [
       "<div>\n",
       "<style scoped>\n",
       "    .dataframe tbody tr th:only-of-type {\n",
       "        vertical-align: middle;\n",
       "    }\n",
       "\n",
       "    .dataframe tbody tr th {\n",
       "        vertical-align: top;\n",
       "    }\n",
       "\n",
       "    .dataframe thead th {\n",
       "        text-align: right;\n",
       "    }\n",
       "</style>\n",
       "<table border=\"1\" class=\"dataframe\">\n",
       "  <thead>\n",
       "    <tr style=\"text-align: right;\">\n",
       "      <th></th>\n",
       "      <th>DiaChi</th>\n",
       "      <th>GiaBan</th>\n",
       "      <th>DuAn</th>\n",
       "      <th>DienTich</th>\n",
       "      <th>TinhTrangBDS</th>\n",
       "      <th>Gia/m2</th>\n",
       "      <th>PhongNgu</th>\n",
       "      <th>PhongVeSinh</th>\n",
       "      <th>SoTang</th>\n",
       "      <th>TinhTrangGiayTo</th>\n",
       "      <th>TinhTrangNoiThat</th>\n",
       "      <th>HuongBanCong</th>\n",
       "      <th>HuongCua</th>\n",
       "      <th>DacDiem</th>\n",
       "      <th>Quan</th>\n",
       "    </tr>\n",
       "  </thead>\n",
       "  <tbody>\n",
       "    <tr>\n",
       "      <th>0</th>\n",
       "      <td>Đường Huy Cận, Phường Phước Long B (Quận 9 cũ)...</td>\n",
       "      <td>2.35</td>\n",
       "      <td>The Art</td>\n",
       "      <td>66.0</td>\n",
       "      <td>Chưa bàn giao</td>\n",
       "      <td>35.61</td>\n",
       "      <td>2.0</td>\n",
       "      <td>2.0</td>\n",
       "      <td>8.0</td>\n",
       "      <td>Đã có sổ</td>\n",
       "      <td>Nội thất cao cấp</td>\n",
       "      <td>Tây Bắc</td>\n",
       "      <td>Đông Bắc</td>\n",
       "      <td>NaN</td>\n",
       "      <td>Thành phố Thủ Đức</td>\n",
       "    </tr>\n",
       "    <tr>\n",
       "      <th>1</th>\n",
       "      <td>số 88, số 88 Đường N1, Phường Sơn Kỳ, Quận Tân...</td>\n",
       "      <td>3.42</td>\n",
       "      <td>Celadon City</td>\n",
       "      <td>71.0</td>\n",
       "      <td>Đã bàn giao</td>\n",
       "      <td>48.17</td>\n",
       "      <td>2.0</td>\n",
       "      <td>2.0</td>\n",
       "      <td>NaN</td>\n",
       "      <td>Đang chờ sổ</td>\n",
       "      <td>Nội thất cao cấp</td>\n",
       "      <td>NaN</td>\n",
       "      <td>NaN</td>\n",
       "      <td>NaN</td>\n",
       "      <td>Quận Tân Phú</td>\n",
       "    </tr>\n",
       "  </tbody>\n",
       "</table>\n",
       "</div>"
      ],
      "text/plain": [
       "                                              DiaChi  GiaBan          DuAn  \\\n",
       "0  Đường Huy Cận, Phường Phước Long B (Quận 9 cũ)...    2.35       The Art   \n",
       "1  số 88, số 88 Đường N1, Phường Sơn Kỳ, Quận Tân...    3.42  Celadon City   \n",
       "\n",
       "   DienTich   TinhTrangBDS  Gia/m2  PhongNgu  PhongVeSinh  SoTang  \\\n",
       "0      66.0  Chưa bàn giao   35.61       2.0          2.0     8.0   \n",
       "1      71.0    Đã bàn giao   48.17       2.0          2.0     NaN   \n",
       "\n",
       "  TinhTrangGiayTo  TinhTrangNoiThat HuongBanCong  HuongCua DacDiem  \\\n",
       "0        Đã có sổ  Nội thất cao cấp      Tây Bắc  Đông Bắc     NaN   \n",
       "1     Đang chờ sổ  Nội thất cao cấp          NaN       NaN     NaN   \n",
       "\n",
       "                 Quan  \n",
       "0   Thành phố Thủ Đức  \n",
       "1        Quận Tân Phú  "
      ]
     },
     "execution_count": 12,
     "metadata": {},
     "output_type": "execute_result"
    }
   ],
   "source": [
    "df = house_df.copy()\n",
    "addr=[]\n",
    "for i in range(0,len(df['DiaChi'])):\n",
    "    a= df.DiaChi[i].split(',')\n",
    "    temp=[]\n",
    "    for j in a:\n",
    "        if 'Huyện' in j:\n",
    "            temp.append(j)\n",
    "        if 'Quận' in j:\n",
    "            temp.append(j)\n",
    "        if 'Thủ Đức' in j:\n",
    "            temp.append(j)\n",
    "    addr=addr+[temp[-1]]\n",
    "house_df['Quan']=addr\n",
    "house_df.head(2)"
   ]
  },
  {
   "cell_type": "markdown",
   "id": "cd35fc3b-f4bd-42cd-be82-7bfa042329d5",
   "metadata": {},
   "source": [
    "<a id=\"2.7\"></a>\n",
    "### <span style='color:#2B9C15'>7. Xem xét sự phân bố giá trị của các cột dữ liệu dạng số </span>"
   ]
  },
  {
   "cell_type": "markdown",
   "id": "88044723-5bcb-4471-ae0c-867da8549ab7",
   "metadata": {},
   "source": [
    "👉 Ta thấy sau các bước tiền xử lý ở trên có 6 cột dữ liệu kiểu số là: GiaBan, DienTich, Gia/m2, PhongNgu, PhongVeSinh, SoTang.\n",
    "\n",
    "👉 Thực hiện thống kê trên 6 cột này và lưu vào một dataframe với các dòng là đại diện cho các giá trị như sau:\n",
    "- Tỉ lệ % (từ 0 đến 100) các giá trị thiếu (missing_ratio).\n",
    "- Giá trị min (min).\n",
    "- Giá trị lower quartile (phân vị 25) (lower_quartile).\n",
    "- Giá trị median (phân vị 50) (median).\n",
    "- Giá trị upper quartile (phân vị 75) (upper_quartile).\n",
    "- Giá trị max (max)."
   ]
  },
  {
   "cell_type": "code",
   "execution_count": 13,
   "id": "298a89b8-19cb-4748-b085-fef5abea66ae",
   "metadata": {},
   "outputs": [
    {
     "data": {
      "text/html": [
       "<style type=\"text/css\">\n",
       "#T_8ebe8_row0_col0, #T_8ebe8_row0_col1, #T_8ebe8_row0_col2, #T_8ebe8_row0_col3, #T_8ebe8_row0_col4, #T_8ebe8_row1_col0, #T_8ebe8_row1_col1, #T_8ebe8_row1_col2, #T_8ebe8_row1_col3, #T_8ebe8_row1_col4, #T_8ebe8_row2_col0, #T_8ebe8_row2_col1, #T_8ebe8_row2_col2, #T_8ebe8_row2_col3, #T_8ebe8_row2_col4, #T_8ebe8_row3_col0, #T_8ebe8_row3_col1, #T_8ebe8_row3_col2, #T_8ebe8_row3_col3, #T_8ebe8_row3_col4, #T_8ebe8_row4_col0, #T_8ebe8_row4_col1, #T_8ebe8_row4_col2, #T_8ebe8_row4_col3, #T_8ebe8_row4_col4, #T_8ebe8_row5_col0, #T_8ebe8_row5_col1, #T_8ebe8_row5_col2, #T_8ebe8_row5_col3, #T_8ebe8_row5_col4 {\n",
       "  background-color: #C2A3E7;\n",
       "  color: black;\n",
       "  border-color: #8b8c8c;\n",
       "}\n",
       "</style>\n",
       "<table id=\"T_8ebe8\">\n",
       "  <thead>\n",
       "    <tr>\n",
       "      <th class=\"blank level0\" >&nbsp;</th>\n",
       "      <th id=\"T_8ebe8_level0_col0\" class=\"col_heading level0 col0\" >GiaBan</th>\n",
       "      <th id=\"T_8ebe8_level0_col1\" class=\"col_heading level0 col1\" >DienTich</th>\n",
       "      <th id=\"T_8ebe8_level0_col2\" class=\"col_heading level0 col2\" >Gia/m2</th>\n",
       "      <th id=\"T_8ebe8_level0_col3\" class=\"col_heading level0 col3\" >PhongNgu</th>\n",
       "      <th id=\"T_8ebe8_level0_col4\" class=\"col_heading level0 col4\" >PhongVeSinh</th>\n",
       "    </tr>\n",
       "    <tr>\n",
       "      <th class=\"index_name level0\" >titles</th>\n",
       "      <th class=\"blank col0\" >&nbsp;</th>\n",
       "      <th class=\"blank col1\" >&nbsp;</th>\n",
       "      <th class=\"blank col2\" >&nbsp;</th>\n",
       "      <th class=\"blank col3\" >&nbsp;</th>\n",
       "      <th class=\"blank col4\" >&nbsp;</th>\n",
       "    </tr>\n",
       "  </thead>\n",
       "  <tbody>\n",
       "    <tr>\n",
       "      <th id=\"T_8ebe8_level0_row0\" class=\"row_heading level0 row0\" >missing_ratio</th>\n",
       "      <td id=\"T_8ebe8_row0_col0\" class=\"data row0 col0\" >0.000000</td>\n",
       "      <td id=\"T_8ebe8_row0_col1\" class=\"data row0 col1\" >0.000000</td>\n",
       "      <td id=\"T_8ebe8_row0_col2\" class=\"data row0 col2\" >0.000000</td>\n",
       "      <td id=\"T_8ebe8_row0_col3\" class=\"data row0 col3\" >0.000000</td>\n",
       "      <td id=\"T_8ebe8_row0_col4\" class=\"data row0 col4\" >16.652000</td>\n",
       "    </tr>\n",
       "    <tr>\n",
       "      <th id=\"T_8ebe8_level0_row1\" class=\"row_heading level0 row1\" >min</th>\n",
       "      <td id=\"T_8ebe8_row1_col0\" class=\"data row1 col0\" >0.800000</td>\n",
       "      <td id=\"T_8ebe8_row1_col1\" class=\"data row1 col1\" >1.000000</td>\n",
       "      <td id=\"T_8ebe8_row1_col2\" class=\"data row1 col2\" >12.900000</td>\n",
       "      <td id=\"T_8ebe8_row1_col3\" class=\"data row1 col3\" >1.000000</td>\n",
       "      <td id=\"T_8ebe8_row1_col4\" class=\"data row1 col4\" >1.000000</td>\n",
       "    </tr>\n",
       "    <tr>\n",
       "      <th id=\"T_8ebe8_level0_row2\" class=\"row_heading level0 row2\" >lower_quartile</th>\n",
       "      <td id=\"T_8ebe8_row2_col0\" class=\"data row2 col0\" >1.830000</td>\n",
       "      <td id=\"T_8ebe8_row2_col1\" class=\"data row2 col1\" >58.000000</td>\n",
       "      <td id=\"T_8ebe8_row2_col2\" class=\"data row2 col2\" >28.770000</td>\n",
       "      <td id=\"T_8ebe8_row2_col3\" class=\"data row2 col3\" >2.000000</td>\n",
       "      <td id=\"T_8ebe8_row2_col4\" class=\"data row2 col4\" >2.000000</td>\n",
       "    </tr>\n",
       "    <tr>\n",
       "      <th id=\"T_8ebe8_level0_row3\" class=\"row_heading level0 row3\" >median</th>\n",
       "      <td id=\"T_8ebe8_row3_col0\" class=\"data row3 col0\" >2.420000</td>\n",
       "      <td id=\"T_8ebe8_row3_col1\" class=\"data row3 col1\" >69.000000</td>\n",
       "      <td id=\"T_8ebe8_row3_col2\" class=\"data row3 col2\" >37.140000</td>\n",
       "      <td id=\"T_8ebe8_row3_col3\" class=\"data row3 col3\" >2.000000</td>\n",
       "      <td id=\"T_8ebe8_row3_col4\" class=\"data row3 col4\" >2.000000</td>\n",
       "    </tr>\n",
       "    <tr>\n",
       "      <th id=\"T_8ebe8_level0_row4\" class=\"row_heading level0 row4\" >upper_quartile</th>\n",
       "      <td id=\"T_8ebe8_row4_col0\" class=\"data row4 col0\" >3.450000</td>\n",
       "      <td id=\"T_8ebe8_row4_col1\" class=\"data row4 col1\" >81.000000</td>\n",
       "      <td id=\"T_8ebe8_row4_col2\" class=\"data row4 col2\" >49.785000</td>\n",
       "      <td id=\"T_8ebe8_row4_col3\" class=\"data row4 col3\" >2.000000</td>\n",
       "      <td id=\"T_8ebe8_row4_col4\" class=\"data row4 col4\" >2.000000</td>\n",
       "    </tr>\n",
       "    <tr>\n",
       "      <th id=\"T_8ebe8_level0_row5\" class=\"row_heading level0 row5\" >max</th>\n",
       "      <td id=\"T_8ebe8_row5_col0\" class=\"data row5 col0\" >130.000000</td>\n",
       "      <td id=\"T_8ebe8_row5_col1\" class=\"data row5 col1\" >385.000000</td>\n",
       "      <td id=\"T_8ebe8_row5_col2\" class=\"data row5 col2\" >3290.000000</td>\n",
       "      <td id=\"T_8ebe8_row5_col3\" class=\"data row5 col3\" >5.000000</td>\n",
       "      <td id=\"T_8ebe8_row5_col4\" class=\"data row5 col4\" >5.000000</td>\n",
       "    </tr>\n",
       "  </tbody>\n",
       "</table>\n"
      ],
      "text/plain": [
       "<pandas.io.formats.style.Styler at 0x27a7dc7ae90>"
      ]
     },
     "execution_count": 13,
     "metadata": {},
     "output_type": "execute_result"
    }
   ],
   "source": [
    "numeric_df=house_df.copy()\n",
    "numeric_df=numeric_df[['GiaBan', 'DienTich', 'Gia/m2', 'PhongNgu', 'PhongVeSinh']]\n",
    "columns=list(numeric_df.columns)\n",
    "titles=['missing_ratio', 'min', 'lower_quartile', 'median', 'upper_quartile', 'max']\n",
    "arrays=numeric_df.to_numpy()\n",
    "num_col_dict={}\n",
    "num_col_vals=[]\n",
    "for i in range(len(columns)):\n",
    "    temp=[]\n",
    "    temp.append(((sum(np.isnan(arrays[:,i]))/arrays.shape[0])*100).round(3))\n",
    "    temp.append(np.nanmin(arrays[:,i],axis=0).round(1))\n",
    "    temp.append(np.nanpercentile(arrays[:,i],25,axis=0).round(3))\n",
    "    temp.append(np.nanpercentile(arrays[:,i],50,axis=0).round(3))\n",
    "    temp.append(np.nanpercentile(arrays[:,i],75,axis=0).round(3))\n",
    "    temp.append(np.nanmax(arrays[:,i],axis=0).round(3))\n",
    "    num_col_vals.append(temp)\n",
    "for i in range(len(columns)):\n",
    "    num_col_dict[columns[i]]=num_col_vals[i]\n",
    "    num_col_dict['titles']=titles\n",
    "numeric_info_df=pd.DataFrame(num_col_dict).set_index('titles')\n",
    "numeric_info_df.style.set_properties(**{'background-color': '#C2A3E7' ,'color':'black','border-color': '#8b8c8c'})"
   ]
  },
  {
   "cell_type": "markdown",
   "id": "532c8c90-e2e1-47ff-9468-27561d172d1d",
   "metadata": {},
   "source": [
    "**💡 Nhận xét**\n",
    "- Đa số các cột dạng số không có giá trị thiếu, do những giá trị thuộc tính này là những giá trị rất cần thiết và thông dụng khi quan tâm đến việc mua một căn hộ, chỉ có thuộc tính PhongVeSinh có phần trăm giá trị thiếu lên đến hơn 16%.\n",
    "- Việc bỏ đi các trường hợp có thuộc tính nan trong trường hợp này là không khả thi do mất đi quá nhiều dữ liệu và phần tiền xử lý này sẽ được thực hiện ở bước học máy."
   ]
  },
  {
   "cell_type": "markdown",
   "id": "adb1d63f-d12b-43e7-a236-f9d65f0b9e34",
   "metadata": {
    "tags": []
   },
   "source": [
    "<a id=\"2.8\"></a>\n",
    "### <span style='color:#2B9C15'>8. Xem xét sự phân bố giá trị của các cột dữ liệu không phải dạng số</span>"
   ]
  },
  {
   "cell_type": "markdown",
   "id": "9e9f9c6a-e9b0-4683-9ae5-ceb1445b63df",
   "metadata": {},
   "source": [
    "👉 Việc thực hiện thống kê sẽ không bao gồm cột 'DiaChi' do đã có cột 'Quan' làm đại diện.\n",
    "\n",
    "👉 Thực hiện thống kê và lưu vào một dataframe với các dòng có giá trị mang ý nghĩa như sau:\n",
    "- Tỉ lệ % (từ 0 đến 100) các giá trị thiếu (missing_ratio).\n",
    "- Số lượng các giá trị khác nhau (không xét giá trị thiếu) (num_values).\n",
    "- Tỉ lệ % (từ 0 đến 100) của mỗi giá trị được sort theo tỉ lệ % giảm dần (không xét giá trị thiếu, tỉ lệ là tỉ lệ so với số lượng các giá trị không thiếu): dùng dictionary để lưu, key là giá trị, value là tỉ lệ % (value_ratios)."
   ]
  },
  {
   "cell_type": "code",
   "execution_count": 14,
   "id": "a44421bc-dc63-48cf-ba1d-f340e5f83cc0",
   "metadata": {},
   "outputs": [
    {
     "name": "stderr",
     "output_type": "stream",
     "text": [
      "C:\\Users\\FPT SHOP\\AppData\\Local\\Temp\\ipykernel_7052\\699139358.py:1: FutureWarning: Passing a negative integer is deprecated in version 1.0 and will not be supported in future version. Instead, use None to not limit the column width.\n",
      "  pd.set_option('display.max_colwidth', -1)\n"
     ]
    },
    {
     "data": {
      "text/html": [
       "<div>\n",
       "<style scoped>\n",
       "    .dataframe tbody tr th:only-of-type {\n",
       "        vertical-align: middle;\n",
       "    }\n",
       "\n",
       "    .dataframe tbody tr th {\n",
       "        vertical-align: top;\n",
       "    }\n",
       "\n",
       "    .dataframe thead th {\n",
       "        text-align: right;\n",
       "    }\n",
       "</style>\n",
       "<table border=\"1\" class=\"dataframe\">\n",
       "  <thead>\n",
       "    <tr style=\"text-align: right;\">\n",
       "      <th></th>\n",
       "      <th>Quan</th>\n",
       "      <th>DuAn</th>\n",
       "      <th>TinhTrangBDS</th>\n",
       "      <th>TinhTrangGiayTo</th>\n",
       "      <th>TinhTrangNoiThat</th>\n",
       "      <th>HuongBanCong</th>\n",
       "      <th>HuongCua</th>\n",
       "      <th>DacDiem</th>\n",
       "    </tr>\n",
       "    <tr>\n",
       "      <th>titles</th>\n",
       "      <th></th>\n",
       "      <th></th>\n",
       "      <th></th>\n",
       "      <th></th>\n",
       "      <th></th>\n",
       "      <th></th>\n",
       "      <th></th>\n",
       "      <th></th>\n",
       "    </tr>\n",
       "  </thead>\n",
       "  <tbody>\n",
       "    <tr>\n",
       "      <th>missing_ratio</th>\n",
       "      <td>0.0</td>\n",
       "      <td>0.0</td>\n",
       "      <td>0.088</td>\n",
       "      <td>49.692</td>\n",
       "      <td>53.656</td>\n",
       "      <td>74.89</td>\n",
       "      <td>79.648</td>\n",
       "      <td>82.467</td>\n",
       "    </tr>\n",
       "    <tr>\n",
       "      <th>num_values</th>\n",
       "      <td>19</td>\n",
       "      <td>311</td>\n",
       "      <td>2</td>\n",
       "      <td>3</td>\n",
       "      <td>4</td>\n",
       "      <td>8</td>\n",
       "      <td>8</td>\n",
       "      <td>1</td>\n",
       "    </tr>\n",
       "    <tr>\n",
       "      <th>value_ratios</th>\n",
       "      <td>{' Thành phố Thủ Đức': 23.26, ' Quận 7': 15.242, ' Quận 8': 11.982, ' Quận Tân Phú': 7.489, ' Quận Bình Thạnh': 7.313, ' Quận Bình Tân': 6.432, ' Quận 4': 4.053, ' Huyện Nhà Bè': 3.789, ' Quận 12': 3.524, ' Quận Tân Bình': 3.084, ' Huyện Bình Chánh': 2.907, ' Quận 6': 2.731, ' Quận 10': 2.115, ' Quận Gò Vấp': 1.85, ' Quận Phú Nhuận': 1.233, ' Quận 11': 1.057, ' Quận 5': 0.969, ' Quận 1': 0.529, ' Quận 3': 0.441}</td>\n",
       "      <td>{'Saigon Riverside Complex Q7': 3.877, 'Celadon City': 2.819, 'Vinhomes Grand Park': 2.379, 'Topaz Elite': 2.203, 'Sunrise City': 2.026, 'Akari City': 1.938, 'Saigon Gateway': 1.85, 'Vinhomes Central Park': 1.674, 'Richmond City': 1.498, 'The Sun Avenue': 1.41, 'Võ Đình Apartment': 1.322, 'Ricca': 1.322, 'Dream Home Riverside': 1.145, 'The Gold View': 1.057, 'Lavita Charm': 1.057, 'EHome 3': 1.057, 'Eco Green Sài Gòn': 1.057, 'Diamond Riverside (City Gate Towers 2)': 1.057, 'The Pegasuite': 1.057, 'Topaz City': 1.057, 'Orchid Park': 1.057, 'LuxGarden': 0.969, 'Mizuki Park': 0.969, 'Green Town Bình Tân': 0.793, 'Sài Gòn Intela': 0.793, 'River Gate': 0.793, 'Sunview Town': 0.793, 'Căn hộ RichStar': 0.705, 'The Pegasuite 2': 0.705, 'Hưng Ngân Garden': 0.705, 'Hà Đô Centrosa Garden': 0.705, 'The Everrich Infinity': 0.705, 'Dream Home Palace': 0.705, 'The Botanica': 0.617, 'City Garden': 0.617, 'Botanica Premier': 0.617, 'Wilton Tower': 0.617, 'Diamond Lotus Riverside': 0.617, 'Căn hộ Cityland Parkhill Gò Vấp': 0.617, 'Kingdom 101': 0.617, 'Florita': 0.529, 'Flora Novia': 0.529, 'Jamona City': 0.529, 'Khu căn hộ IDICO Tân Phú': 0.529, 'De Capella': 0.529, 'The Park Residence': 0.529, 'Q7 Boulevard': 0.529, 'Osimi Tower': 0.529, 'The Origami – Vinhomes Grand Park': 0.529, '4S Riverside Linh Đông': 0.529, 'Empire City Thủ Thiêm': 0.529, 'Opal Riverside': 0.441, 'Him Lam Chợ Lớn': 0.441, 'Hoàng Anh Gold House (Hoàng Anh An Tiến)': 0.441, 'Fresca Riverside': 0.441, 'Central Premium': 0.441, 'Sunrise Riverside': 0.441, 'Chung cư Lê Thành': 0.441, 'TaniBuilding Sơn Kỳ 1': 0.441, 'Masteri Thảo Điền': 0.441, 'M-One Nam Sài Gòn': 0.441, 'City Gate Towers': 0.441, 'Starlight Riverside': 0.441, 'Đạt Gia Residence Thủ Đức': 0.441, 'Căn hộ DE LA SOL (Delasol)': 0.441, 'Tara Residence': 0.441, 'Summer Square': 0.441, 'The River Thủ Thiêm': 0.441, 'The Eastern': 0.441, 'La Astoria': 0.441, 'An Gia Star': 0.441, 'Carina Plaza': 0.441, 'Riva Park': 0.352, 'Docklands Sài Gòn': 0.352, 'Lotus Sen Hồng ( Violet Tower )': 0.352, 'Conic Riverside': 0.352, 'Saigon Homes Bình Tân': 0.352, 'Jamila Khang Điền': 0.352, 'Asiana Capella': 0.352, 'Sky Garden 3': 0.352, 'Topaz Garden': 0.352, 'Sadora Apartment': 0.352, 'The Golden Star': 0.352, 'The Western Capital': 0.352, 'Sunrise CityView': 0.352, 'Hưng Phát Silver Star': 0.352, 'Phú Hoàng Anh': 0.352, 'Homyland 3 (Homyland Riverside)': 0.352, 'Lavida Plus': 0.352, 'Central Plaza - 91 Phạm Văn Hai': 0.352, 'PiCity High Park': 0.352, 'One Verandah Mapletree': 0.352, 'The Tresor': 0.352, 'Saigon Royal Residence': 0.352, 'Viva Riverside': 0.352, 'Vinhomes Golden River BaSon': 0.352, 'Centum Wealth Complex': 0.352, 'The Era Town (A1 Riverside)': 0.264, 'Vision Bình Tân': 0.264, 'Lexington Residence': 0.264, ...}</td>\n",
       "      <td>{'Đã bàn giao': 81.922, 'Chưa bàn giao': 18.078}</td>\n",
       "      <td>{'Đã có sổ': 64.799, 'Đang chờ sổ': 29.422, 'Giấy tờ khác': 5.779}</td>\n",
       "      <td>{'Nội thất đầy đủ': 39.924, 'Hoàn thiện cơ bản': 33.08, 'Nội thất cao cấp': 25.285, 'Bàn giao thô': 1.711}</td>\n",
       "      <td>{'Đông Nam': 27.018, 'Đông Bắc': 14.386, 'Đông': 12.632, 'Nam': 10.877, 'Bắc': 10.526, 'Tây Bắc': 9.825, 'Tây Nam': 9.123, 'Tây': 5.614}</td>\n",
       "      <td>{'Tây Bắc': 17.316, 'Đông Nam': 17.316, 'Đông Bắc': 14.286, 'Tây': 12.121, 'Nam': 11.255, 'Tây Nam': 10.823, 'Bắc': 10.39, 'Đông': 6.494}</td>\n",
       "      <td>{'Căn góc': 100.0}</td>\n",
       "    </tr>\n",
       "  </tbody>\n",
       "</table>\n",
       "</div>"
      ],
      "text/plain": [
       "                                                                                                                                                                                                                                                                                                                                                                                                                                          Quan  \\\n",
       "titles                                                                                                                                                                                                                                                                                                                                                                                                                                           \n",
       "missing_ratio  0.0                                                                                                                                                                                                                                                                                                                                                                                                                               \n",
       "num_values     19                                                                                                                                                                                                                                                                                                                                                                                                                                \n",
       "value_ratios   {' Thành phố Thủ Đức': 23.26, ' Quận 7': 15.242, ' Quận 8': 11.982, ' Quận Tân Phú': 7.489, ' Quận Bình Thạnh': 7.313, ' Quận Bình Tân': 6.432, ' Quận 4': 4.053, ' Huyện Nhà Bè': 3.789, ' Quận 12': 3.524, ' Quận Tân Bình': 3.084, ' Huyện Bình Chánh': 2.907, ' Quận 6': 2.731, ' Quận 10': 2.115, ' Quận Gò Vấp': 1.85, ' Quận Phú Nhuận': 1.233, ' Quận 11': 1.057, ' Quận 5': 0.969, ' Quận 1': 0.529, ' Quận 3': 0.441}   \n",
       "\n",
       "                                                                                                                                                                                                                                                                                                                                                                                                                                                                                                                                                                                                                                                                                                                                                                                                                                                                                                                                                                                                                                                                                                                                                                                                                                                                                                                                                                                                                                                                                                                                                                                                                                                                                                                                                                                                                                                                                                                                                                                                                                                                                                                                                                                                                                                                                                                                                                                                                                                                                                                                                                                                                                                                                                                                                                                                                                                                                                  DuAn  \\\n",
       "titles                                                                                                                                                                                                                                                                                                                                                                                                                                                                                                                                                                                                                                                                                                                                                                                                                                                                                                                                                                                                                                                                                                                                                                                                                                                                                                                                                                                                                                                                                                                                                                                                                                                                                                                                                                                                                                                                                                                                                                                                                                                                                                                                                                                                                                                                                                                                                                                                                                                                                                                                                                                                                                                                                                                                                                                                                                                                                                   \n",
       "missing_ratio  0.0                                                                                                                                                                                                                                                                                                                                                                                                                                                                                                                                                                                                                                                                                                                                                                                                                                                                                                                                                                                                                                                                                                                                                                                                                                                                                                                                                                                                                                                                                                                                                                                                                                                                                                                                                                                                                                                                                                                                                                                                                                                                                                                                                                                                                                                                                                                                                                                                                                                                                                                                                                                                                                                                                                                                                                                                                                                                                       \n",
       "num_values     311                                                                                                                                                                                                                                                                                                                                                                                                                                                                                                                                                                                                                                                                                                                                                                                                                                                                                                                                                                                                                                                                                                                                                                                                                                                                                                                                                                                                                                                                                                                                                                                                                                                                                                                                                                                                                                                                                                                                                                                                                                                                                                                                                                                                                                                                                                                                                                                                                                                                                                                                                                                                                                                                                                                                                                                                                                                                                       \n",
       "value_ratios   {'Saigon Riverside Complex Q7': 3.877, 'Celadon City': 2.819, 'Vinhomes Grand Park': 2.379, 'Topaz Elite': 2.203, 'Sunrise City': 2.026, 'Akari City': 1.938, 'Saigon Gateway': 1.85, 'Vinhomes Central Park': 1.674, 'Richmond City': 1.498, 'The Sun Avenue': 1.41, 'Võ Đình Apartment': 1.322, 'Ricca': 1.322, 'Dream Home Riverside': 1.145, 'The Gold View': 1.057, 'Lavita Charm': 1.057, 'EHome 3': 1.057, 'Eco Green Sài Gòn': 1.057, 'Diamond Riverside (City Gate Towers 2)': 1.057, 'The Pegasuite': 1.057, 'Topaz City': 1.057, 'Orchid Park': 1.057, 'LuxGarden': 0.969, 'Mizuki Park': 0.969, 'Green Town Bình Tân': 0.793, 'Sài Gòn Intela': 0.793, 'River Gate': 0.793, 'Sunview Town': 0.793, 'Căn hộ RichStar': 0.705, 'The Pegasuite 2': 0.705, 'Hưng Ngân Garden': 0.705, 'Hà Đô Centrosa Garden': 0.705, 'The Everrich Infinity': 0.705, 'Dream Home Palace': 0.705, 'The Botanica': 0.617, 'City Garden': 0.617, 'Botanica Premier': 0.617, 'Wilton Tower': 0.617, 'Diamond Lotus Riverside': 0.617, 'Căn hộ Cityland Parkhill Gò Vấp': 0.617, 'Kingdom 101': 0.617, 'Florita': 0.529, 'Flora Novia': 0.529, 'Jamona City': 0.529, 'Khu căn hộ IDICO Tân Phú': 0.529, 'De Capella': 0.529, 'The Park Residence': 0.529, 'Q7 Boulevard': 0.529, 'Osimi Tower': 0.529, 'The Origami – Vinhomes Grand Park': 0.529, '4S Riverside Linh Đông': 0.529, 'Empire City Thủ Thiêm': 0.529, 'Opal Riverside': 0.441, 'Him Lam Chợ Lớn': 0.441, 'Hoàng Anh Gold House (Hoàng Anh An Tiến)': 0.441, 'Fresca Riverside': 0.441, 'Central Premium': 0.441, 'Sunrise Riverside': 0.441, 'Chung cư Lê Thành': 0.441, 'TaniBuilding Sơn Kỳ 1': 0.441, 'Masteri Thảo Điền': 0.441, 'M-One Nam Sài Gòn': 0.441, 'City Gate Towers': 0.441, 'Starlight Riverside': 0.441, 'Đạt Gia Residence Thủ Đức': 0.441, 'Căn hộ DE LA SOL (Delasol)': 0.441, 'Tara Residence': 0.441, 'Summer Square': 0.441, 'The River Thủ Thiêm': 0.441, 'The Eastern': 0.441, 'La Astoria': 0.441, 'An Gia Star': 0.441, 'Carina Plaza': 0.441, 'Riva Park': 0.352, 'Docklands Sài Gòn': 0.352, 'Lotus Sen Hồng ( Violet Tower )': 0.352, 'Conic Riverside': 0.352, 'Saigon Homes Bình Tân': 0.352, 'Jamila Khang Điền': 0.352, 'Asiana Capella': 0.352, 'Sky Garden 3': 0.352, 'Topaz Garden': 0.352, 'Sadora Apartment': 0.352, 'The Golden Star': 0.352, 'The Western Capital': 0.352, 'Sunrise CityView': 0.352, 'Hưng Phát Silver Star': 0.352, 'Phú Hoàng Anh': 0.352, 'Homyland 3 (Homyland Riverside)': 0.352, 'Lavida Plus': 0.352, 'Central Plaza - 91 Phạm Văn Hai': 0.352, 'PiCity High Park': 0.352, 'One Verandah Mapletree': 0.352, 'The Tresor': 0.352, 'Saigon Royal Residence': 0.352, 'Viva Riverside': 0.352, 'Vinhomes Golden River BaSon': 0.352, 'Centum Wealth Complex': 0.352, 'The Era Town (A1 Riverside)': 0.264, 'Vision Bình Tân': 0.264, 'Lexington Residence': 0.264, ...}   \n",
       "\n",
       "                                                   TinhTrangBDS  \\\n",
       "titles                                                            \n",
       "missing_ratio  0.088                                              \n",
       "num_values     2                                                  \n",
       "value_ratios   {'Đã bàn giao': 81.922, 'Chưa bàn giao': 18.078}   \n",
       "\n",
       "                                                                  TinhTrangGiayTo  \\\n",
       "titles                                                                              \n",
       "missing_ratio  49.692                                                               \n",
       "num_values     3                                                                    \n",
       "value_ratios   {'Đã có sổ': 64.799, 'Đang chờ sổ': 29.422, 'Giấy tờ khác': 5.779}   \n",
       "\n",
       "                                                                                                         TinhTrangNoiThat  \\\n",
       "titles                                                                                                                      \n",
       "missing_ratio  53.656                                                                                                       \n",
       "num_values     4                                                                                                            \n",
       "value_ratios   {'Nội thất đầy đủ': 39.924, 'Hoàn thiện cơ bản': 33.08, 'Nội thất cao cấp': 25.285, 'Bàn giao thô': 1.711}   \n",
       "\n",
       "                                                                                                                                           HuongBanCong  \\\n",
       "titles                                                                                                                                                    \n",
       "missing_ratio  74.89                                                                                                                                      \n",
       "num_values     8                                                                                                                                          \n",
       "value_ratios   {'Đông Nam': 27.018, 'Đông Bắc': 14.386, 'Đông': 12.632, 'Nam': 10.877, 'Bắc': 10.526, 'Tây Bắc': 9.825, 'Tây Nam': 9.123, 'Tây': 5.614}   \n",
       "\n",
       "                                                                                                                                                HuongCua  \\\n",
       "titles                                                                                                                                                     \n",
       "missing_ratio  79.648                                                                                                                                      \n",
       "num_values     8                                                                                                                                           \n",
       "value_ratios   {'Tây Bắc': 17.316, 'Đông Nam': 17.316, 'Đông Bắc': 14.286, 'Tây': 12.121, 'Nam': 11.255, 'Tây Nam': 10.823, 'Bắc': 10.39, 'Đông': 6.494}   \n",
       "\n",
       "                          DacDiem  \n",
       "titles                             \n",
       "missing_ratio  82.467              \n",
       "num_values     1                   \n",
       "value_ratios   {'Căn góc': 100.0}  "
      ]
     },
     "execution_count": 14,
     "metadata": {},
     "output_type": "execute_result"
    }
   ],
   "source": [
    "pd.set_option('display.max_colwidth', -1)\n",
    "pd.set_option('display.max_columns', None)\n",
    "pd.set_option('display.max_rows', None)\n",
    "\n",
    "categorical_df=house_df[['Quan','DuAn','TinhTrangBDS','TinhTrangGiayTo','TinhTrangNoiThat',\n",
    "                         'HuongBanCong','HuongCua','DacDiem']]\n",
    "col_names=list(categorical_df.columns)\n",
    "titles=[\"missing_ratio\", \"num_values\", \"value_ratios\"]\n",
    "values_list=[]\n",
    "dic={}\n",
    "for i in col_names:\n",
    "    df=categorical_df.copy()[[i]]\n",
    "    size=len(df)\n",
    "    new=list(df[i].values)\n",
    "    df[i]=new\n",
    "    temp=[]\n",
    "    temp.append(((df[i].isnull().sum()/size)*100).round(3))\n",
    "    df.dropna(inplace=True)\n",
    "    vals=list(df[i].values)\n",
    "    num_vals=list(set(vals))\n",
    "    temp.append(len(num_vals))\n",
    "    temp2={}\n",
    "    new=[(df[i].value_counts()[j]/len(vals)*100).round(3) for j in num_vals]\n",
    "    temp2={num_vals[j]:new[j] for j in range(len(num_vals))}\n",
    "    temp2_sort={k:v for k,v in sorted(temp2.items(), key= lambda item:item[1], reverse=True)}\n",
    "    temp.append(temp2_sort)\n",
    "    values_list.append(temp)\n",
    "dic={col_names[i]:values_list[i] for i in range(len(col_names))}\n",
    "dic['titles']=titles\n",
    "categorical_info_df=pd.DataFrame(dic).set_index('titles')\n",
    "categorical_info_df"
   ]
  },
  {
   "cell_type": "markdown",
   "id": "1abbbf52-8d89-4f02-829f-f5a31fcdf5ec",
   "metadata": {},
   "source": [
    "<a id=\"3\"></a>\n",
    "## <div style=\"text-align: left; background-color:#ACA224; font-family:newtimeroman;color: white; padding: 14px; line-height: 1;border-radius:10px\">III. Thu thập kết quả</div>"
   ]
  },
  {
   "cell_type": "markdown",
   "id": "026cc2ac-86e3-4771-b084-9c607895272d",
   "metadata": {},
   "source": [
    "<div style=\"border-radius:10px;border:#0C6A86 solid;padding: 15px;background-color:#ebfae8;font-size:110%;text-align:left\">\n",
    "    \n",
    "💬 Sau khi đã khám phá và đan xen thực hiện tiền xử lý dữ liệu, chúng ta sẽ tiến hành lưu dữ liệu có được vào file .csv để phục vụ cho các phần sau của đồ án (Đặt các câu hỏi có ý nghĩa cần trả lời, Mô hình hóa).\n",
    "    \n",
    "💬 Dữ liệu sau khi tiền xử sẽ được lưu vào file tên `house.csv`. Các phần sau của đồ án, chúng ta sẽ làm việc với file dữ liệu này."
   ]
  },
  {
   "cell_type": "code",
   "execution_count": 15,
   "id": "4ee20f03-8bee-418d-adff-1f668a5a0d59",
   "metadata": {},
   "outputs": [],
   "source": [
    "from pathlib import Path  \n",
    "filepath = Path('house.csv')  \n",
    "filepath.parent.mkdir(parents=True, exist_ok=True)  \n",
    "house_df.to_csv(filepath, encoding='utf-8-sig')"
   ]
  },
  {
   "cell_type": "markdown",
   "id": "c886f527-22a6-4455-9e39-772a9fda62a1",
   "metadata": {},
   "source": [
    "<div style=\"text-align: left; background-color:#0C6A86; font-family:Arial; color:white; padding: 12px; line-height:1.25;border-radius:1px; margin-bottom: 0em; text-align: center; font-size: 30px;border-style: solid;border-color: black;\">HẾT MỤC B</div>\n",
    "<div style=\"text-align: left; background-color:#fadefc; font-family: Arial; color:#551184; padding: 12px; line-height:1.25;border-radius:1px; margin-bottom: 0em; text-align: center; font-size: 18px\">| Thank you for watching! |</div>"
   ]
  }
 ],
 "metadata": {
  "kernelspec": {
   "display_name": "Python 3 (ipykernel)",
   "language": "python",
   "name": "python3"
  },
  "language_info": {
   "codemirror_mode": {
    "name": "ipython",
    "version": 3
   },
   "file_extension": ".py",
   "mimetype": "text/x-python",
   "name": "python",
   "nbconvert_exporter": "python",
   "pygments_lexer": "ipython3",
   "version": "3.10.0"
  },
  "vscode": {
   "interpreter": {
    "hash": "20a9e06a1eee47c4abbed4ec8225ad91d78d9800d202b71b6b0a6e47016c6abd"
   }
  }
 },
 "nbformat": 4,
 "nbformat_minor": 5
}
